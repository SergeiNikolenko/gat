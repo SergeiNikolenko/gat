{
 "cells": [
  {
   "cell_type": "code",
   "execution_count": 1,
   "metadata": {
    "execution": {
     "iopub.execute_input": "2024-03-17T09:14:18.467992Z",
     "iopub.status.busy": "2024-03-17T09:14:18.467625Z",
     "iopub.status.idle": "2024-03-17T09:14:22.777060Z",
     "shell.execute_reply": "2024-03-17T09:14:22.776210Z"
    }
   },
   "outputs": [
    {
     "name": "stdout",
     "output_type": "stream",
     "text": [
      "cuda True\n",
      "NVIDIA GeForce RTX 3090\n"
     ]
    }
   ],
   "source": [
    "# %% [markdown]\n",
    "# # Fine-Tuning Model\n",
    "\n",
    "import torch\n",
    "import torch.nn as nn\n",
    "import pytorch_lightning as pl\n",
    "from pytorch_lightning import Trainer, callbacks\n",
    "from utils.utils import MoleculeDataModule\n",
    "from utils.train import MoleculeModel\n",
    "\n",
    "model = MoleculeModel.load_from_checkpoint(\"final_model.ckpt\")\n",
    "\n",
    "# Функция для заморозки слоев\n",
    "def freeze_layers(model, num_layers_to_freeze):\n",
    "    layers = list(model.children())\n",
    "    for i in range(num_layers_to_freeze):\n",
    "        for param in layers[i].parameters():\n",
    "            param.requires_grad = False\n",
    "\n",
    "# Загрузка датасета с более качественными данными\n",
    "quality_dataset = torch.load(f'../data/QM_cool.pt')\n",
    "#quality_dataset = torch.load(f'../data/QM_cool_no_conf.pt')\n",
    "batch_size = 1024\n",
    "num_workers = 8\n",
    "quality_data_module = MoleculeDataModule(quality_dataset, batch_size=batch_size, num_workers=num_workers)\n",
    "\n",
    "# Варианты заморозки слоев\n",
    "freeze_options = [0, 2, 4, 6]\n",
    "\n",
    "checkpoint_callback = callbacks.ModelCheckpoint(monitor='val_loss', mode='min', save_top_k=1, verbose=True)\n",
    "early_stop_callback = callbacks.EarlyStopping(monitor='val_loss', patience=10, verbose=True, mode='min')\n",
    "timer = callbacks.Timer()\n",
    "logger = pl.loggers.TensorBoardLogger('tb_logs', name='KAN_More_epochs')\n",
    "\n",
    "for freeze_option in freeze_options:\n",
    "    # Создаем новую копию модели для каждого варианта заморозки\n",
    "    fine_tune_model = MoleculeModel.load_from_checkpoint(\"final_model.ckpt\")\n",
    "    freeze_layers(fine_tune_model.model_backbone, freeze_option)\n",
    "\n",
    "\n",
    "    trainer = Trainer(\n",
    "        max_epochs=20,\n",
    "        enable_checkpointing=False,\n",
    "        callbacks=[early_stop_callback, timer],\n",
    "        enable_progress_bar=False,\n",
    "        logger=logger,\n",
    "        accelerator='gpu',\n",
    "        devices=1\n",
    "    )\n",
    "\n",
    "    trainer.fit(fine_tune_model, quality_data_module)\n",
    "    seconds = timer.time_elapsed()\n",
    "    h, m, s = int(seconds // 3600), int((seconds % 3600) // 60), int(seconds % 60)\n",
    "\n",
    "    print(f\"Время обучения: {h}:{m:02d}:{s:02d}\")\n",
    "\n"
   ]
  },
  {
   "cell_type": "code",
   "execution_count": null,
   "metadata": {},
   "outputs": [],
   "source": [
    "from torch.utils.data import DataLoader, ConcatDataset, Subset\n",
    "import random\n",
    "\n",
    "quality_indices = list(range(len(quality_dataset)))\n",
    "extended_quality_dataset = Subset(quality_dataset, quality_indices * 10)\n",
    "\n",
    "combined_dataset = ConcatDataset([quality_dataset, extended_quality_dataset])\n",
    "combined_data_module = MoleculeDataModule(combined_dataset, batch_size=batch_size, num_workers=num_workers)\n",
    "\n",
    "trainer = Trainer(\n",
    "        max_epochs=20,\n",
    "        enable_checkpointing=False,\n",
    "        callbacks=[early_stop_callback, timer],\n",
    "        enable_progress_bar=False,\n",
    "        logger=logger,\n",
    "        accelerator='gpu',\n",
    "        devices=1\n",
    "    )\n",
    "\n",
    "trainer.fit(model, combined_data_module)\n",
    "\n",
    "\n",
    "seconds = timer.time_elapsed()\n",
    "h, m, s = int(seconds // 3600), int((seconds % 3600) // 60), int(seconds % 60)\n",
    "print(f\"Время обучения: {h}:{m:02d}:{s:02d}\")\n"
   ]
  }
 ],
 "metadata": {
  "kernelspec": {
   "display_name": "torch_geom_2",
   "language": "python",
   "name": "python3"
  },
  "language_info": {
   "codemirror_mode": {
    "name": "ipython",
    "version": 3
   },
   "file_extension": ".py",
   "mimetype": "text/x-python",
   "name": "python",
   "nbconvert_exporter": "python",
   "pygments_lexer": "ipython3",
   "version": "3.1.undefined"
  }
 },
 "nbformat": 4,
 "nbformat_minor": 4
}
