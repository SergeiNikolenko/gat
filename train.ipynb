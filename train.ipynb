{
 "cells": [
  {
   "cell_type": "code",
   "execution_count": 1,
   "metadata": {
    "execution": {
     "iopub.execute_input": "2024-03-08T15:22:48.996215Z",
     "iopub.status.busy": "2024-03-08T15:22:48.995957Z",
     "iopub.status.idle": "2024-03-08T15:22:53.227678Z",
     "shell.execute_reply": "2024-03-08T15:22:53.226799Z"
    }
   },
   "outputs": [
    {
     "name": "stdout",
     "output_type": "stream",
     "text": [
      "cuda True\n",
      "NVIDIA GeForce RTX 2080 SUPER\n"
     ]
    }
   ],
   "source": [
    "import pandas as pd\n",
    "import numpy as np\n",
    "\n",
    "import time\n",
    "\n",
    "from rdkit import Chem\n",
    "\n",
    "import torch\n",
    "import torch.nn as nn\n",
    "import torch.nn.functional as F\n",
    "import pytorch_lightning as pl\n",
    "from pytorch_lightning.callbacks import ModelCheckpoint, EarlyStopping, Timer\n",
    "\n",
    "from torch_geometric.nn import GATv2Conv\n",
    "from torch_scatter import scatter_mean\n",
    "\n",
    "from lion_pytorch import Lion\n",
    "\n",
    "import matplotlib.pyplot as plt\n",
    "\n",
    "\n",
    "if torch.cuda.is_available():\n",
    "    print(\"cuda\", torch.cuda.is_available())\n",
    "    print(torch.cuda.get_device_name(0))\n",
    "    torch.cuda.empty_cache()\n",
    "else:\n",
    "    print(\"CUDA is not available.\")\n",
    "\n",
    "\n",
    "import warnings\n",
    "warnings.filterwarnings(\"ignore\", category=UserWarning, module=\"pytorch_lightning.trainer.connectors.data_connector\")\n",
    "warnings.filterwarnings(\"ignore\", category=UserWarning, module=\"lightning_fabric.plugins.environments.slurm\")\n",
    "\n",
    "from sklearn.metrics import mean_squared_error\n",
    "from utils.train import MoleculeModel, MoleculeDataModule\n",
    "from utils.prepare import MoleculeData, MoleculeDataset, FeaturizationParameters"
   ]
  },
  {
   "cell_type": "code",
   "execution_count": null,
   "metadata": {},
   "outputs": [],
   "source": [
    "molecule_dataset = torch.load(\"../data/QM_137k.pt\")"
   ]
  },
  {
   "cell_type": "code",
   "execution_count": null,
   "metadata": {},
   "outputs": [
    {
     "data": {
      "text/plain": [
       "Data(x=[31, 133], edge_index=[2, 64], edge_attr=[64, 14], y=[31], smiles='CNC(=S)N/N=C/c1c(O)ccc2ccccc12')"
      ]
     },
     "execution_count": 11,
     "metadata": {},
     "output_type": "execute_result"
    }
   ],
   "source": [
    "molecule_dataset[0]"
   ]
  },
  {
   "cell_type": "code",
   "execution_count": null,
   "metadata": {},
   "outputs": [],
   "source": [
    "batch_size = 128   \n",
    "num_workers = 8  \n",
    "\n",
    "data_module = MoleculeDataModule(molecule_dataset, batch_size=batch_size, num_workers=num_workers)"
   ]
  },
  {
   "cell_type": "code",
   "execution_count": null,
   "metadata": {},
   "outputs": [],
   "source": [
    "class GATv2Model(nn.Module):\n",
    "    def __init__(self, atom_in_features, edge_in_features, hidden_features, out_features, num_heads, dropout_rate, activation_fn):\n",
    "        super(GATv2Model, self).__init__()\n",
    "\n",
    "        self.atom_preprocess = nn.Linear(atom_in_features, hidden_features)\n",
    "        self.edge_preprocess = nn.Linear(edge_in_features, hidden_features)\n",
    "\n",
    "        # Слой для обработки атомных сообщений\n",
    "        self.atom_message_layer = nn.Sequential(\n",
    "            nn.Linear(hidden_features, hidden_features),\n",
    "            nn.BatchNorm1d(hidden_features),\n",
    "            activation_fn,\n",
    "            nn.Dropout(dropout_rate)\n",
    "        )\n",
    "\n",
    "        self.gat_conv = GATv2Conv(\n",
    "            in_channels=hidden_features * 2,  # Учитываем атомные сообщения\n",
    "            out_channels=hidden_features,\n",
    "            heads=num_heads,\n",
    "            dropout=dropout_rate,\n",
    "            concat=True\n",
    "        )\n",
    "\n",
    "        self.bn = nn.BatchNorm1d(hidden_features * num_heads)\n",
    "        self.activation = activation_fn\n",
    "        self.dropout = nn.Dropout(dropout_rate)\n",
    "\n",
    "        self.postprocess = nn.Sequential(\n",
    "            nn.Linear(hidden_features * num_heads, hidden_features),\n",
    "            nn.BatchNorm1d(hidden_features),\n",
    "            activation_fn,\n",
    "            nn.Dropout(dropout_rate),\n",
    "            nn.Linear(hidden_features, out_features)\n",
    "        )\n",
    "\n",
    "    def forward(self, x, edge_index, edge_attr):\n",
    "        atom_features = self.atom_preprocess(x)\n",
    "        edge_features = self.edge_preprocess(edge_attr)\n",
    "\n",
    "        # Агрегация и обработка атомных сообщений\n",
    "        row, col = edge_index\n",
    "        agg_edge_features = scatter_mean(edge_features, col, dim=0, dim_size=x.size(0))\n",
    "        atom_messages = self.atom_message_layer(atom_features + agg_edge_features)\n",
    "\n",
    "        # Использование атомных сообщений вместе с признаками атомов\n",
    "        combined_features = torch.cat([atom_messages, agg_edge_features], dim=1)\n",
    "\n",
    "        combined_features = self.gat_conv(combined_features, edge_index)\n",
    "        combined_features = self.bn(combined_features)\n",
    "        combined_features = self.activation(combined_features)\n",
    "        combined_features = self.dropout(combined_features)\n",
    "\n",
    "        out = self.postprocess(combined_features).squeeze(-1)\n",
    "        return out\n"
   ]
  },
  {
   "cell_type": "code",
   "execution_count": null,
   "metadata": {},
   "outputs": [],
   "source": [
    "class EnhancedGATv2Model(nn.Module):\n",
    "    def __init__(self, atom_in_features, edge_in_features, hidden_features, out_features, num_heads, dropout_rate, activation_fn):\n",
    "        super(EnhancedGATv2Model, self).__init__()\n",
    "\n",
    "        self.atom_preprocess = nn.Sequential(\n",
    "            nn.Linear(atom_in_features, hidden_features),\n",
    "            nn.BatchNorm1d(hidden_features),\n",
    "            activation_fn,\n",
    "            nn.Linear(hidden_features, hidden_features),\n",
    "            nn.BatchNorm1d(hidden_features),\n",
    "            activation_fn,\n",
    "            nn.Dropout(dropout_rate)\n",
    "        )\n",
    "\n",
    "        self.edge_preprocess = nn.Sequential(\n",
    "            nn.Linear(edge_in_features, hidden_features),\n",
    "            nn.BatchNorm1d(hidden_features),\n",
    "            activation_fn,\n",
    "            nn.Linear(hidden_features, hidden_features),\n",
    "            nn.BatchNorm1d(hidden_features),\n",
    "            activation_fn,\n",
    "            nn.Dropout(dropout_rate)\n",
    "        )\n",
    "\n",
    "        self.atom_message_layer = nn.Sequential(\n",
    "            nn.Linear(hidden_features, hidden_features),\n",
    "            nn.BatchNorm1d(hidden_features),\n",
    "            activation_fn,\n",
    "            nn.Dropout(dropout_rate)\n",
    "        )\n",
    "\n",
    "        # Первый слой GATv2Conv\n",
    "        self.gat_conv1 = GATv2Conv(\n",
    "            in_channels=hidden_features * 2,  # Учитываем атомные сообщения\n",
    "            out_channels=hidden_features,\n",
    "            heads=num_heads,\n",
    "            dropout=dropout_rate,\n",
    "            concat=True\n",
    "        )\n",
    "\n",
    "        # Второй слой GATv2Conv\n",
    "        self.gat_conv2 = GATv2Conv(\n",
    "            in_channels=hidden_features * num_heads,  # Выход с предыдущего слоя GATv2\n",
    "            out_channels=hidden_features,\n",
    "            heads=num_heads,\n",
    "            dropout=dropout_rate,\n",
    "            concat=True\n",
    "        )\n",
    "\n",
    "        self.bn1 = nn.BatchNorm1d(hidden_features * num_heads)\n",
    "        self.bn2 = nn.BatchNorm1d(hidden_features * num_heads)\n",
    "\n",
    "        self.activation = activation_fn\n",
    "        self.dropout = nn.Dropout(dropout_rate)\n",
    "\n",
    "        # FFN\n",
    "        self.postprocess = nn.Sequential(\n",
    "            nn.Linear(hidden_features * num_heads, hidden_features * 2),\n",
    "            nn.BatchNorm1d(hidden_features * 2),\n",
    "            activation_fn,\n",
    "            nn.Dropout(dropout_rate),\n",
    "            nn.Linear(hidden_features * 2, hidden_features),\n",
    "            nn.BatchNorm1d(hidden_features),\n",
    "            activation_fn,\n",
    "            nn.Dropout(dropout_rate),\n",
    "            nn.Linear(hidden_features, out_features)\n",
    "        )\n",
    "\n",
    "    def forward(self, x, edge_index, edge_attr):\n",
    "        atom_features = self.atom_preprocess(x)\n",
    "        edge_features = self.edge_preprocess(edge_attr)\n",
    "\n",
    "        row, col = edge_index\n",
    "        agg_edge_features = scatter_mean(edge_features, col, dim=0, dim_size=x.size(0))\n",
    "        atom_messages = self.atom_message_layer(atom_features + agg_edge_features)\n",
    "\n",
    "        combined_features = torch.cat([atom_messages, agg_edge_features], dim=1)\n",
    "\n",
    "        combined_features = self.gat_conv1(combined_features, edge_index)\n",
    "        combined_features = self.bn1(combined_features)\n",
    "        combined_features = self.activation(combined_features)\n",
    "        combined_features = self.dropout(combined_features)\n",
    "\n",
    "        combined_features = self.gat_conv2(combined_features, edge_index)\n",
    "        combined_features = self.bn2(combined_features)\n",
    "        combined_features = self.activation(combined_features)\n",
    "        combined_features = self.dropout(combined_features)\n",
    "\n",
    "        out = self.postprocess(combined_features).squeeze(-1)\n",
    "        return out\n"
   ]
  },
  {
   "cell_type": "code",
   "execution_count": null,
   "metadata": {
    "execution": {
     "iopub.execute_input": "2024-03-08T15:24:22.739616Z",
     "iopub.status.busy": "2024-03-08T15:24:22.739396Z",
     "iopub.status.idle": "2024-03-08T15:24:22.887602Z",
     "shell.execute_reply": "2024-03-08T15:24:22.886920Z"
    }
   },
   "outputs": [
    {
     "name": "stderr",
     "output_type": "stream",
     "text": [
      "GPU available: True (cuda), used: True\n",
      "TPU available: False, using: 0 TPU cores\n",
      "IPU available: False, using: 0 IPUs\n",
      "HPU available: False, using: 0 HPUs\n"
     ]
    },
    {
     "name": "stdout",
     "output_type": "stream",
     "text": [
      "Model:\n",
      " MoleculeModel(\n",
      "  (base_model): EnhancedGATv2Model(\n",
      "    (atom_preprocess): Sequential(\n",
      "      (0): Linear(in_features=133, out_features=64, bias=True)\n",
      "      (1): BatchNorm1d(64, eps=1e-05, momentum=0.1, affine=True, track_running_stats=True)\n",
      "      (2): ReLU()\n",
      "      (3): Linear(in_features=64, out_features=64, bias=True)\n",
      "      (4): BatchNorm1d(64, eps=1e-05, momentum=0.1, affine=True, track_running_stats=True)\n",
      "      (5): ReLU()\n",
      "      (6): Dropout(p=0.0, inplace=False)\n",
      "    )\n",
      "    (edge_preprocess): Sequential(\n",
      "      (0): Linear(in_features=14, out_features=64, bias=True)\n",
      "      (1): BatchNorm1d(64, eps=1e-05, momentum=0.1, affine=True, track_running_stats=True)\n",
      "      (2): ReLU()\n",
      "      (3): Linear(in_features=64, out_features=64, bias=True)\n",
      "      (4): BatchNorm1d(64, eps=1e-05, momentum=0.1, affine=True, track_running_stats=True)\n",
      "      (5): ReLU()\n",
      "      (6): Dropout(p=0.0, inplace=False)\n",
      "    )\n",
      "    (atom_message_layer): Sequential(\n",
      "      (0): Linear(in_features=64, out_features=64, bias=True)\n",
      "      (1): BatchNorm1d(64, eps=1e-05, momentum=0.1, affine=True, track_running_stats=True)\n",
      "      (2): ReLU()\n",
      "      (3): Dropout(p=0.0, inplace=False)\n",
      "    )\n",
      "    (gat_conv1): GATv2Conv(128, 64, heads=8)\n",
      "    (gat_conv2): GATv2Conv(512, 64, heads=8)\n",
      "    (bn1): BatchNorm1d(512, eps=1e-05, momentum=0.1, affine=True, track_running_stats=True)\n",
      "    (bn2): BatchNorm1d(512, eps=1e-05, momentum=0.1, affine=True, track_running_stats=True)\n",
      "    (activation): ReLU()\n",
      "    (dropout): Dropout(p=0.0, inplace=False)\n",
      "    (postprocess): Sequential(\n",
      "      (0): Linear(in_features=512, out_features=128, bias=True)\n",
      "      (1): BatchNorm1d(128, eps=1e-05, momentum=0.1, affine=True, track_running_stats=True)\n",
      "      (2): ReLU()\n",
      "      (3): Dropout(p=0.0, inplace=False)\n",
      "      (4): Linear(in_features=128, out_features=64, bias=True)\n",
      "      (5): BatchNorm1d(64, eps=1e-05, momentum=0.1, affine=True, track_running_stats=True)\n",
      "      (6): ReLU()\n",
      "      (7): Dropout(p=0.0, inplace=False)\n",
      "      (8): Linear(in_features=64, out_features=1, bias=True)\n",
      "    )\n",
      "  )\n",
      ")\n"
     ]
    }
   ],
   "source": [
    "in_features = molecule_dataset[0].x.shape[1]\n",
    "hidden_features = 64\n",
    "num_heads = 8\n",
    "\n",
    "edge_attr_dim = molecule_dataset[0].edge_attr.shape[1]\n",
    "\n",
    "dropout_rate = 0.0\n",
    "activation_fn = nn.ReLU()\n",
    "\n",
    "optimizer_class = Lion \n",
    "learning_rate = 0.00085           \n",
    "weight_decay = 2e-4         \n",
    "\n",
    "step_size = 50       \n",
    "gamma = 0.1                     \n",
    "\n",
    "max_epochs = 250     \n",
    "patience = 25       \n",
    "\n",
    "base_model =  EnhancedGATv2Model(\n",
    "    atom_in_features=in_features,\n",
    "    hidden_features=hidden_features,\n",
    "    out_features=1,\n",
    "    num_heads=num_heads,\n",
    "    dropout_rate=dropout_rate,\n",
    "    activation_fn=activation_fn,\n",
    "    edge_in_features=edge_attr_dim\n",
    ")\n",
    "\n",
    "\n",
    "model = MoleculeModel(\n",
    "    base_model=base_model,\n",
    "    optimizer_class=optimizer_class,\n",
    "    learning_rate=learning_rate,\n",
    "    weight_decay=weight_decay,\n",
    "    step_size=step_size,\n",
    "    gamma=gamma,\n",
    "    batch_size=batch_size,\n",
    "    metric='rmse'\n",
    ")\n",
    "\n",
    "print(\"Model:\\n\", model)\n",
    "\n",
    "checkpoint_callback = ModelCheckpoint(monitor='val_loss', mode='min', save_top_k=1, verbose=True)\n",
    "early_stop_callback = EarlyStopping(monitor='val_loss', patience=patience, verbose=True, mode='min')\n",
    "timer=Timer()\n",
    "logger = pl.loggers.CSVLogger('logs', name='GATv2')\n",
    "\n",
    "\n",
    "\n",
    "trainer = pl.Trainer(\n",
    "    max_epochs=max_epochs,\n",
    "    enable_checkpointing = False,\n",
    "    accelerator='auto',\n",
    "    devices=1,\n",
    "    callbacks=[early_stop_callback, timer],\n",
    "    enable_progress_bar=False,\n",
    "    logger=False\n",
    ")"
   ]
  },
  {
   "cell_type": "code",
   "execution_count": null,
   "metadata": {},
   "outputs": [
    {
     "name": "stderr",
     "output_type": "stream",
     "text": [
      "LOCAL_RANK: 0 - CUDA_VISIBLE_DEVICES: [0]\n",
      "\n",
      "  | Name       | Type               | Params\n",
      "--------------------------------------------------\n",
      "0 | base_model | EnhancedGATv2Model | 758 K \n",
      "--------------------------------------------------\n",
      "758 K     Trainable params\n",
      "0         Non-trainable params\n",
      "758 K     Total params\n",
      "3.034     Total estimated model params size (MB)\n",
      "Metric val_loss improved. New best score: 0.038\n",
      "Metric val_loss improved by 0.001 >= min_delta = 0.0. New best score: 0.037\n",
      "Metric val_loss improved by 0.000 >= min_delta = 0.0. New best score: 0.037\n",
      "Metric val_loss improved by 0.001 >= min_delta = 0.0. New best score: 0.036\n",
      "Metric val_loss improved by 0.000 >= min_delta = 0.0. New best score: 0.036\n",
      "Metric val_loss improved by 0.001 >= min_delta = 0.0. New best score: 0.035\n"
     ]
    }
   ],
   "source": [
    "trainer.fit(model, data_module)"
   ]
  },
  {
   "cell_type": "code",
   "execution_count": null,
   "metadata": {},
   "outputs": [],
   "source": [
    "print(f\"Время обучения: {timer.time_elapsed()} секунд\")"
   ]
  },
  {
   "cell_type": "code",
   "execution_count": null,
   "metadata": {
    "execution": {
     "iopub.execute_input": "2024-03-08T16:47:40.477037Z",
     "iopub.status.busy": "2024-03-08T16:47:40.476819Z",
     "iopub.status.idle": "2024-03-08T16:48:13.452027Z",
     "shell.execute_reply": "2024-03-08T16:48:13.451062Z"
    }
   },
   "outputs": [
    {
     "name": "stderr",
     "output_type": "stream",
     "text": [
      "LOCAL_RANK: 0 - CUDA_VISIBLE_DEVICES: [0]\n"
     ]
    },
    {
     "name": "stdout",
     "output_type": "stream",
     "text": [
      "RMSE: 0.2506\n",
      "MSE: 0.0628\n",
      "R²: -0.5278\n",
      "MAE: 0.1763\n"
     ]
    }
   ],
   "source": [
    "df = trainer.test(model, data_module.test_dataloader())"
   ]
  },
  {
   "cell_type": "code",
   "execution_count": null,
   "metadata": {},
   "outputs": [
    {
     "name": "stdout",
     "output_type": "stream",
     "text": [
      "Общий RMSE: 0.2505815625190735\n"
     ]
    }
   ],
   "source": [
    "df_results = model.df_results\n",
    "\n",
    "all_predictions = np.concatenate(df_results['predictions'].values)\n",
    "all_true_values = np.concatenate(df_results['true_values'].values)\n",
    "\n",
    "rmse = np.sqrt(mean_squared_error(all_true_values, all_predictions))\n",
    "\n",
    "print(f\"Общий RMSE: {rmse}\")"
   ]
  },
  {
   "cell_type": "code",
   "execution_count": null,
   "metadata": {
    "execution": {
     "iopub.execute_input": "2024-03-08T16:48:13.456687Z",
     "iopub.status.busy": "2024-03-08T16:48:13.456441Z",
     "iopub.status.idle": "2024-03-08T16:48:13.753262Z",
     "shell.execute_reply": "2024-03-08T16:48:13.752467Z"
    }
   },
   "outputs": [
    {
     "data": {
      "image/png": "[encoded data removed]",
      "text/plain": [
       "<Figure size 720x360 with 1 Axes>"
      ]
     },
     "metadata": {
      "needs_background": "light"
     },
     "output_type": "display_data"
    }
   ],
   "source": [
    "train_losses = model.train_losses\n",
    "val_losses = model.val_losses\n",
    "\n",
    "# Построение графика\n",
    "plt.figure(figsize=(10, 5))\n",
    "plt.plot(train_losses, label='Train Loss')\n",
    "plt.plot(val_losses, label='Validation Loss')\n",
    "plt.xlabel('Epochs')\n",
    "plt.ylabel('Loss')\n",
    "plt.title('Training and Validation Losses Over Epochs')\n",
    "plt.legend()\n",
    "plt.show()"
   ]
  },
  {
   "cell_type": "code",
   "execution_count": null,
   "metadata": {
    "execution": {
     "iopub.execute_input": "2024-03-08T16:48:13.757327Z",
     "iopub.status.busy": "2024-03-08T16:48:13.757034Z",
     "iopub.status.idle": "2024-03-08T16:48:13.819962Z",
     "shell.execute_reply": "2024-03-08T16:48:13.819246Z"
    }
   },
   "outputs": [
    {
     "data": {
      "image/png": "[encoded data removed]",
      "text/plain": [
       "<PIL.PngImagePlugin.PngImageFile image mode=RGB size=600x600 at 0x7EFB875F20D0>"
      ]
     },
     "metadata": {},
     "output_type": "display_data"
    }
   ],
   "source": [
    "def draw_molecule(smiles, predictions):\n",
    "    mol = Chem.AddHs(Chem.MolFromSmiles(smiles))\n",
    "    predictions_rounded = np.round(predictions, 2)\n",
    "\n",
    "    for atom, pred in zip(mol.GetAtoms(), predictions_rounded):\n",
    "        atom.SetProp('atomNote', str(pred))\n",
    "\n",
    "    img = Chem.Draw.MolToImage(mol, size=(600, 600), kekulize=True)\n",
    "    img.show()\n",
    "\n",
    "smiles = df_results.iloc[0]['smiles']\n",
    "predictions = df_results.iloc[0]['predictions']\n",
    "\n",
    "draw_molecule(smiles, predictions)\n"
   ]
  }
 ],
 "metadata": {
  "kernelspec": {
   "display_name": "torch_geom_2",
   "language": "python",
   "name": "python3"
  },
  "language_info": {
   "codemirror_mode": {
    "name": "ipython",
    "version": 3
   },
   "file_extension": ".py",
   "mimetype": "text/x-python",
   "name": "python",
   "nbconvert_exporter": "python",
   "pygments_lexer": "ipython3",
   "version": "3.9.7"
  }
 },
 "nbformat": 4,
 "nbformat_minor": 4
}
