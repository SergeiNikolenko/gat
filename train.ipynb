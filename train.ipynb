{
 "cells": [
  {
   "cell_type": "code",
   "execution_count": 1,
   "metadata": {
    "execution": {
     "iopub.execute_input": "2024-03-17T09:14:18.467992Z",
     "iopub.status.busy": "2024-03-17T09:14:18.467625Z",
     "iopub.status.idle": "2024-03-17T09:14:22.777060Z",
     "shell.execute_reply": "2024-03-17T09:14:22.776210Z"
    }
   },
   "outputs": [
    {
     "name": "stdout",
     "output_type": "stream",
     "text": [
      "cuda True\n",
      "NVIDIA GeForce RTX 2080 SUPER\n"
     ]
    }
   ],
   "source": [
    "import numpy as np\n",
    "import pandas as pd\n",
    "import tensorboard\n",
    "from rdkit import Chem\n",
    "\n",
    "import torch\n",
    "import torch.nn as nn\n",
    "import pytorch_lightning as pl\n",
    "from pytorch_lightning.callbacks import ModelCheckpoint, EarlyStopping, Timer\n",
    "\n",
    "from lion_pytorch import Lion\n",
    "\n",
    "if torch.cuda.is_available():\n",
    "    print(\"cuda\", torch.cuda.is_available())\n",
    "    print(torch.cuda.get_device_name(0))\n",
    "    torch.cuda.empty_cache()\n",
    "else:\n",
    "    print(\"CUDA is not available.\")\n",
    "\n",
    "\n",
    "import warnings\n",
    "warnings.filterwarnings(\"ignore\", category=UserWarning, module=\"pytorch_lightning.trainer.connectors.data_connector\")\n",
    "warnings.filterwarnings(\"ignore\", category=UserWarning, module=\"lightning_fabric.plugins.environments.slurm\")\n",
    "\n",
    "\n",
    "torch.cuda.empty_cache()\n",
    "\n",
    "from utils.train import MoleculeModel, MoleculeDataModule, evaluate_model\n",
    "from utils.prepare import MoleculeData, MoleculeDataset, FeaturizationParameters\n"
   ]
  },
  {
   "cell_type": "code",
   "execution_count": 2,
   "metadata": {
    "execution": {
     "iopub.execute_input": "2024-03-17T09:14:22.781643Z",
     "iopub.status.busy": "2024-03-17T09:14:22.781416Z",
     "iopub.status.idle": "2024-03-17T09:15:53.120597Z",
     "shell.execute_reply": "2024-03-17T09:15:53.111858Z"
    }
   },
   "outputs": [],
   "source": [
    "molecule_dataset = torch.load(\"../data/QM_137k.pt\")"
   ]
  },
  {
   "cell_type": "code",
   "execution_count": 3,
   "metadata": {
    "execution": {
     "iopub.execute_input": "2024-03-17T09:15:53.133986Z",
     "iopub.status.busy": "2024-03-17T09:15:53.133560Z",
     "iopub.status.idle": "2024-03-17T09:15:53.142927Z",
     "shell.execute_reply": "2024-03-17T09:15:53.142248Z"
    }
   },
   "outputs": [
    {
     "data": {
      "text/plain": [
       "Data(x=[31, 333], edge_index=[2, 64], edge_attr=[64, 414], y=[31], smiles='CNC(=S)N/N=C/c1c(O)ccc2ccccc12')"
      ]
     },
     "execution_count": 3,
     "metadata": {},
     "output_type": "execute_result"
    }
   ],
   "source": [
    "molecule_dataset[0]"
   ]
  },
  {
   "cell_type": "code",
   "execution_count": 4,
   "metadata": {
    "execution": {
     "iopub.execute_input": "2024-03-17T09:15:53.150721Z",
     "iopub.status.busy": "2024-03-17T09:15:53.150370Z",
     "iopub.status.idle": "2024-03-17T09:15:53.154759Z",
     "shell.execute_reply": "2024-03-17T09:15:53.154105Z"
    }
   },
   "outputs": [],
   "source": [
    "batch_size = 128   \n",
    "num_workers = 8  \n",
    "\n",
    "data_module = MoleculeDataModule(molecule_dataset, batch_size=batch_size, num_workers=num_workers)"
   ]
  },
  {
   "cell_type": "code",
   "execution_count": 5,
   "metadata": {
    "execution": {
     "iopub.execute_input": "2024-03-17T09:15:53.200256Z",
     "iopub.status.busy": "2024-03-17T09:15:53.199970Z",
     "iopub.status.idle": "2024-03-17T09:15:53.363017Z",
     "shell.execute_reply": "2024-03-17T09:15:53.362347Z"
    }
   },
   "outputs": [
    {
     "name": "stderr",
     "output_type": "stream",
     "text": [
      "GPU available: True (cuda), used: True\n",
      "TPU available: False, using: 0 TPU cores\n",
      "IPU available: False, using: 0 IPUs\n",
      "HPU available: False, using: 0 HPUs\n"
     ]
    },
    {
     "name": "stdout",
     "output_type": "stream",
     "text": [
      "Model:\n",
      " MoleculeModel(\n",
      "  (atom_preprocess): ModuleList(\n",
      "    (0): Sequential(\n",
      "      (atom_linear_0): Linear(in_features=333, out_features=128, bias=True)\n",
      "      (atom_bn_0): BatchNorm1d(128, eps=1e-05, momentum=0.1, affine=True, track_running_stats=True)\n",
      "      (atom_activation_0): PReLU(num_parameters=1)\n",
      "      (atom_dropout_0): Dropout(p=0.0, inplace=False)\n",
      "    )\n",
      "    (1): Sequential(\n",
      "      (atom_linear_1): Linear(in_features=128, out_features=128, bias=True)\n",
      "      (atom_bn_1): BatchNorm1d(128, eps=1e-05, momentum=0.1, affine=True, track_running_stats=True)\n",
      "      (atom_activation_1): PReLU(num_parameters=1)\n",
      "      (atom_dropout_1): Dropout(p=0.0, inplace=False)\n",
      "    )\n",
      "    (2): Sequential(\n",
      "      (atom_linear_2): Linear(in_features=128, out_features=128, bias=True)\n",
      "      (atom_bn_2): BatchNorm1d(128, eps=1e-05, momentum=0.1, affine=True, track_running_stats=True)\n",
      "      (atom_activation_2): PReLU(num_parameters=1)\n",
      "      (atom_dropout_2): Dropout(p=0.0, inplace=False)\n",
      "    )\n",
      "    (3): Sequential(\n",
      "      (atom_linear_3): Linear(in_features=128, out_features=128, bias=True)\n",
      "      (atom_bn_3): BatchNorm1d(128, eps=1e-05, momentum=0.1, affine=True, track_running_stats=True)\n",
      "      (atom_activation_3): PReLU(num_parameters=1)\n",
      "      (atom_dropout_3): Dropout(p=0.0, inplace=False)\n",
      "    )\n",
      "    (4): Sequential(\n",
      "      (atom_linear_4): Linear(in_features=128, out_features=128, bias=True)\n",
      "      (atom_bn_4): BatchNorm1d(128, eps=1e-05, momentum=0.1, affine=True, track_running_stats=True)\n",
      "      (atom_activation_4): PReLU(num_parameters=1)\n",
      "      (atom_dropout_4): Dropout(p=0.0, inplace=False)\n",
      "    )\n",
      "    (5): Sequential(\n",
      "      (atom_linear_5): Linear(in_features=128, out_features=128, bias=True)\n",
      "      (atom_bn_5): BatchNorm1d(128, eps=1e-05, momentum=0.1, affine=True, track_running_stats=True)\n",
      "      (atom_activation_5): PReLU(num_parameters=1)\n",
      "      (atom_dropout_5): Dropout(p=0.0, inplace=False)\n",
      "    )\n",
      "    (6): Sequential(\n",
      "      (atom_linear_6): Linear(in_features=128, out_features=128, bias=True)\n",
      "      (atom_bn_6): BatchNorm1d(128, eps=1e-05, momentum=0.1, affine=True, track_running_stats=True)\n",
      "      (atom_activation_6): PReLU(num_parameters=1)\n",
      "      (atom_dropout_6): Dropout(p=0.0, inplace=False)\n",
      "    )\n",
      "    (7): Sequential(\n",
      "      (atom_linear_7): Linear(in_features=128, out_features=128, bias=True)\n",
      "      (atom_bn_7): BatchNorm1d(128, eps=1e-05, momentum=0.1, affine=True, track_running_stats=True)\n",
      "      (atom_activation_7): PReLU(num_parameters=1)\n",
      "      (atom_dropout_7): Dropout(p=0.0, inplace=False)\n",
      "    )\n",
      "    (8): Sequential(\n",
      "      (atom_linear_8): Linear(in_features=128, out_features=128, bias=True)\n",
      "      (atom_bn_8): BatchNorm1d(128, eps=1e-05, momentum=0.1, affine=True, track_running_stats=True)\n",
      "      (atom_activation_8): PReLU(num_parameters=1)\n",
      "      (atom_dropout_8): Dropout(p=0.0, inplace=False)\n",
      "    )\n",
      "  )\n",
      "  (edge_preprocess): ModuleList(\n",
      "    (0): Sequential(\n",
      "      (edge_linear_0): Linear(in_features=414, out_features=128, bias=True)\n",
      "      (edge_bn_0): BatchNorm1d(128, eps=1e-05, momentum=0.1, affine=True, track_running_stats=True)\n",
      "      (edge_activation_0): PReLU(num_parameters=1)\n",
      "      (edge_dropout_0): Dropout(p=0.0, inplace=False)\n",
      "    )\n",
      "    (1): Sequential(\n",
      "      (edge_linear_1): Linear(in_features=128, out_features=128, bias=True)\n",
      "      (edge_bn_1): BatchNorm1d(128, eps=1e-05, momentum=0.1, affine=True, track_running_stats=True)\n",
      "      (edge_activation_1): PReLU(num_parameters=1)\n",
      "      (edge_dropout_1): Dropout(p=0.0, inplace=False)\n",
      "    )\n",
      "    (2): Sequential(\n",
      "      (edge_linear_2): Linear(in_features=128, out_features=128, bias=True)\n",
      "      (edge_bn_2): BatchNorm1d(128, eps=1e-05, momentum=0.1, affine=True, track_running_stats=True)\n",
      "      (edge_activation_2): PReLU(num_parameters=1)\n",
      "      (edge_dropout_2): Dropout(p=0.0, inplace=False)\n",
      "    )\n",
      "    (3): Sequential(\n",
      "      (edge_linear_3): Linear(in_features=128, out_features=128, bias=True)\n",
      "      (edge_bn_3): BatchNorm1d(128, eps=1e-05, momentum=0.1, affine=True, track_running_stats=True)\n",
      "      (edge_activation_3): PReLU(num_parameters=1)\n",
      "      (edge_dropout_3): Dropout(p=0.0, inplace=False)\n",
      "    )\n",
      "    (4): Sequential(\n",
      "      (edge_linear_4): Linear(in_features=128, out_features=128, bias=True)\n",
      "      (edge_bn_4): BatchNorm1d(128, eps=1e-05, momentum=0.1, affine=True, track_running_stats=True)\n",
      "      (edge_activation_4): PReLU(num_parameters=1)\n",
      "      (edge_dropout_4): Dropout(p=0.0, inplace=False)\n",
      "    )\n",
      "    (5): Sequential(\n",
      "      (edge_linear_5): Linear(in_features=128, out_features=128, bias=True)\n",
      "      (edge_bn_5): BatchNorm1d(128, eps=1e-05, momentum=0.1, affine=True, track_running_stats=True)\n",
      "      (edge_activation_5): PReLU(num_parameters=1)\n",
      "      (edge_dropout_5): Dropout(p=0.0, inplace=False)\n",
      "    )\n",
      "    (6): Sequential(\n",
      "      (edge_linear_6): Linear(in_features=128, out_features=128, bias=True)\n",
      "      (edge_bn_6): BatchNorm1d(128, eps=1e-05, momentum=0.1, affine=True, track_running_stats=True)\n",
      "      (edge_activation_6): PReLU(num_parameters=1)\n",
      "      (edge_dropout_6): Dropout(p=0.0, inplace=False)\n",
      "    )\n",
      "    (7): Sequential(\n",
      "      (edge_linear_7): Linear(in_features=128, out_features=128, bias=True)\n",
      "      (edge_bn_7): BatchNorm1d(128, eps=1e-05, momentum=0.1, affine=True, track_running_stats=True)\n",
      "      (edge_activation_7): PReLU(num_parameters=1)\n",
      "      (edge_dropout_7): Dropout(p=0.0, inplace=False)\n",
      "    )\n",
      "    (8): Sequential(\n",
      "      (edge_linear_8): Linear(in_features=128, out_features=128, bias=True)\n",
      "      (edge_bn_8): BatchNorm1d(128, eps=1e-05, momentum=0.1, affine=True, track_running_stats=True)\n",
      "      (edge_activation_8): PReLU(num_parameters=1)\n",
      "      (edge_dropout_8): Dropout(p=0.0, inplace=False)\n",
      "    )\n",
      "  )\n",
      "  (gat_convolutions): ModuleList(\n",
      "    (gat_conv_0): GATv2Conv(256, 128, heads=16)\n",
      "    (gat_conv_1): GATv2Conv(2048, 128, heads=20)\n",
      "  )\n",
      "  (transformer_convolutions): ModuleList(\n",
      "    (transformer_conv_0): TransformerConv(256, 128, heads=16)\n",
      "    (transformer_conv_1): TransformerConv(2048, 128, heads=20)\n",
      "  )\n",
      "  (gat_postprocess): ModuleList(\n",
      "    (0): Sequential(\n",
      "      (post_linear_0): Linear(in_features=2560, out_features=128, bias=True)\n",
      "      (post_bn_0): BatchNorm1d(128, eps=1e-05, momentum=0.1, affine=True, track_running_stats=True)\n",
      "      (post_activation_0): PReLU(num_parameters=1)\n",
      "      (post_dropout_0): Dropout(p=0.0, inplace=False)\n",
      "    )\n",
      "    (1): Sequential(\n",
      "      (post_linear_1): Linear(in_features=128, out_features=128, bias=True)\n",
      "      (post_bn_1): BatchNorm1d(128, eps=1e-05, momentum=0.1, affine=True, track_running_stats=True)\n",
      "      (post_activation_1): PReLU(num_parameters=1)\n",
      "      (post_dropout_1): Dropout(p=0.0, inplace=False)\n",
      "    )\n",
      "  )\n",
      "  (transformer_postprocess): ModuleList(\n",
      "    (0): Sequential(\n",
      "      (post_linear_0): Linear(in_features=2560, out_features=128, bias=True)\n",
      "      (post_bn_0): BatchNorm1d(128, eps=1e-05, momentum=0.1, affine=True, track_running_stats=True)\n",
      "      (post_activation_0): PReLU(num_parameters=1)\n",
      "      (post_dropout_0): Dropout(p=0.0, inplace=False)\n",
      "    )\n",
      "    (1): Sequential(\n",
      "      (post_linear_1): Linear(in_features=128, out_features=128, bias=True)\n",
      "      (post_bn_1): BatchNorm1d(128, eps=1e-05, momentum=0.1, affine=True, track_running_stats=True)\n",
      "      (post_activation_1): PReLU(num_parameters=1)\n",
      "      (post_dropout_1): Dropout(p=0.0, inplace=False)\n",
      "    )\n",
      "  )\n",
      "  (output_layer): Linear(in_features=256, out_features=1, bias=True)\n",
      ")\n"
     ]
    }
   ],
   "source": [
    "in_features = molecule_dataset[0].x.shape[1]\n",
    "edge_attr_dim = molecule_dataset[0].edge_attr.shape[1]\n",
    "out_features = 1\n",
    "\n",
    "hidden_features = [128, 128, 128, 128, 128, 128, 128, 128, 128]  # Размеры предобработки для каждого слоя\n",
    "postprocess_hidden_features = [128, 128]  # Размеры слоёв постобработки\n",
    "num_heads = [16, 20]  # Количество голов внимания для каждого слоя GATv2\n",
    "\n",
    "dropout_rates = [0.0, 0.0, 0.0, 0.0, 0.0, 0.0, 0.0, 0.0, 0.0, 0.0, 0.0, 0.0, 0.0]  \n",
    "activation_fns = [nn.PReLU, nn.PReLU, nn.PReLU, nn.PReLU, nn.PReLU, nn.PReLU, nn.PReLU, nn.PReLU, nn.PReLU, nn.PReLU, nn.PReLU, nn.PReLU, nn.PReLU]\n",
    "use_batch_norm = [True, True, True, True, True, True, True, True, True, True, True, True, True]\n",
    "\n",
    "\n",
    "optimizer_class = Lion\n",
    "\n",
    "learning_rate = 2.2e-5\n",
    "weight_decay = 3e-5\n",
    "\n",
    "step_size = 80\n",
    "gamma = 0.2\n",
    "\n",
    "max_epochs = 100\n",
    "patience = 5\n",
    "\n",
    "#torch.set_float32_matmul_precision('medium')\n",
    "\n",
    "model = MoleculeModel(\n",
    "    atom_in_features=in_features,\n",
    "    edge_in_features=edge_attr_dim,\n",
    "    preprocess_hidden_features=hidden_features,\n",
    "    num_heads=num_heads,\n",
    "    dropout_rates=dropout_rates,\n",
    "    activation_fns=activation_fns,\n",
    "    use_batch_norm=use_batch_norm,\n",
    "    postprocess_hidden_features=postprocess_hidden_features,\n",
    "    out_features=out_features,\n",
    "    optimizer_class=optimizer_class,\n",
    "    learning_rate=learning_rate,\n",
    "    weight_decay=weight_decay,\n",
    "    step_size=step_size,\n",
    "    gamma=gamma,\n",
    "    batch_size=batch_size,\n",
    "    metric='rmse'\n",
    ")\n",
    "\n",
    "print(\"Model:\\n\", model)\n",
    "\n",
    "checkpoint_callback = ModelCheckpoint(monitor='val_loss', mode='min', save_top_k=1, verbose=True)\n",
    "early_stop_callback = EarlyStopping(monitor='val_loss', patience=patience, verbose=True, mode='min')\n",
    "timer = Timer()\n",
    "logger = pl.loggers.TensorBoardLogger('tb_logs', name='MolModel')\n",
    "\n",
    "trainer = pl.Trainer(\n",
    "    max_epochs=max_epochs,\n",
    "    enable_checkpointing=False,\n",
    "    callbacks=[early_stop_callback, timer],\n",
    "    enable_progress_bar=False,\n",
    "    logger=False,\n",
    "    accelerator='gpu',\n",
    "    devices=1,\n",
    ")"
   ]
  },
  {
   "cell_type": "code",
   "execution_count": 6,
   "metadata": {
    "execution": {
     "iopub.execute_input": "2024-03-17T09:15:53.371607Z",
     "iopub.status.busy": "2024-03-17T09:15:53.371271Z",
     "iopub.status.idle": "2024-03-17T10:04:55.925740Z",
     "shell.execute_reply": "2024-03-17T10:04:55.924885Z"
    }
   },
   "outputs": [
    {
     "name": "stderr",
     "output_type": "stream",
     "text": [
      "LOCAL_RANK: 0 - CUDA_VISIBLE_DEVICES: [0]\n",
      "\n",
      "  | Name                     | Type       | Params\n",
      "--------------------------------------------------------\n",
      "0 | atom_preprocess          | ModuleList | 177 K \n",
      "1 | edge_preprocess          | ModuleList | 187 K \n",
      "2 | gat_convolutions         | ModuleList | 11.6 M\n",
      "3 | transformer_convolutions | ModuleList | 23.1 M\n",
      "4 | gat_postprocess          | ModuleList | 344 K \n",
      "5 | transformer_postprocess  | ModuleList | 344 K \n",
      "6 | output_layer             | Linear     | 257   \n",
      "--------------------------------------------------------\n",
      "35.7 M    Trainable params\n",
      "0         Non-trainable params\n",
      "35.7 M    Total params\n",
      "142.778   Total estimated model params size (MB)\n",
      "/opt/anaconda/envs/torch_geom_2/lib/python3.9/site-packages/pytorch_lightning/core/module.py:483: UserWarning: You called `self.log('val_loss', ..., logger=True)` but have no logger configured. You can enable one by doing `Trainer(logger=ALogger(...))`\n",
      "  rank_zero_warn(\n",
      "/opt/anaconda/envs/torch_geom_2/lib/python3.9/site-packages/pytorch_lightning/core/module.py:483: UserWarning: You called `self.log('train_loss', ..., logger=True)` but have no logger configured. You can enable one by doing `Trainer(logger=ALogger(...))`\n",
      "  rank_zero_warn(\n",
      "Metric val_loss improved. New best score: 0.234\n",
      "Monitored metric val_loss did not improve in the last 5 records. Best score: 0.234. Signaling Trainer to stop.\n"
     ]
    }
   ],
   "source": [
    "trainer.fit(model, data_module)"
   ]
  },
  {
   "cell_type": "code",
   "execution_count": 7,
   "metadata": {
    "execution": {
     "iopub.execute_input": "2024-03-17T10:04:55.930579Z",
     "iopub.status.busy": "2024-03-17T10:04:55.930337Z",
     "iopub.status.idle": "2024-03-17T10:04:55.935278Z",
     "shell.execute_reply": "2024-03-17T10:04:55.934451Z"
    }
   },
   "outputs": [
    {
     "name": "stdout",
     "output_type": "stream",
     "text": [
      "Время обучения: 0:00:11\n"
     ]
    }
   ],
   "source": [
    "seconds = timer.time_elapsed()\n",
    "h, m, s = int(seconds // 3600), int((seconds % 3600) // 60), int(seconds % 60)\n",
    "\n",
    "print(f\"Время обучения: {h}:{m:02d}:{s:02d}\")\n"
   ]
  },
  {
   "cell_type": "code",
   "execution_count": 8,
   "metadata": {},
   "outputs": [
    {
     "name": "stdout",
     "output_type": "stream",
     "text": [
      "Test RMSE: 0.2326\n",
      "Test R²: -0.3165\n"
     ]
    }
   ],
   "source": [
    "evaluate_model(model, data_module)"
   ]
  },
  {
   "cell_type": "code",
   "execution_count": 9,
   "metadata": {
    "execution": {
     "iopub.execute_input": "2024-03-17T10:05:06.924211Z",
     "iopub.status.busy": "2024-03-17T10:05:06.923987Z",
     "iopub.status.idle": "2024-03-17T10:05:06.989054Z",
     "shell.execute_reply": "2024-03-17T10:05:06.988354Z"
    }
   },
   "outputs": [],
   "source": [
    "def draw_molecule(smiles, predictions):\n",
    "    mol = Chem.AddHs(Chem.MolFromSmiles(smiles))\n",
    "    predictions_rounded = np.round(predictions, 2)\n",
    "\n",
    "    for atom, pred in zip(mol.GetAtoms(), predictions_rounded):\n",
    "        atom.SetProp('atomNote', str(pred))\n",
    "\n",
    "    img = Chem.Draw.MolToImage(mol, size=(600, 600), kekulize=True)\n",
    "    img.show()\n",
    "\n",
    "#smiles = df_results.iloc[0]['smiles']\n",
    "#predictions = df_results.iloc[0]['predictions']\n",
    "\n",
    "#draw_molecule(smiles, predictions)\n"
   ]
  }
 ],
 "metadata": {
  "kernelspec": {
   "display_name": "torch_geom_2",
   "language": "python",
   "name": "python3"
  },
  "language_info": {
   "codemirror_mode": {
    "name": "ipython",
    "version": 3
   },
   "file_extension": ".py",
   "mimetype": "text/x-python",
   "name": "python",
   "nbconvert_exporter": "python",
   "pygments_lexer": "ipython3",
   "version": "3.12.2"
  }
 },
 "nbformat": 4,
 "nbformat_minor": 4
}
