{
 "cells": [
  {
   "cell_type": "code",
   "execution_count": 18,
   "metadata": {
    "execution": {
     "iopub.execute_input": "2024-03-08T15:22:48.996215Z",
     "iopub.status.busy": "2024-03-08T15:22:48.995957Z",
     "iopub.status.idle": "2024-03-08T15:22:53.227678Z",
     "shell.execute_reply": "2024-03-08T15:22:53.226799Z"
    }
   },
   "outputs": [
    {
     "name": "stdout",
     "output_type": "stream",
     "text": [
      "cuda True\n",
      "NVIDIA GeForce RTX 2080 SUPER\n"
     ]
    }
   ],
   "source": [
    "import pandas as pd\n",
    "import numpy as np\n",
    "\n",
    "from rdkit import Chem\n",
    "\n",
    "import torch\n",
    "import torch.nn as nn\n",
    "import torch.nn.functional as F\n",
    "import pytorch_lightning as pl\n",
    "from pytorch_lightning.callbacks import ModelCheckpoint, EarlyStopping\n",
    "\n",
    "from torch_geometric.nn import GATv2Conv\n",
    "from torch_geometric.nn import GCNConv\n",
    "\n",
    "from lion_pytorch import Lion\n",
    "\n",
    "import matplotlib.pyplot as plt\n",
    "\n",
    "\n",
    "if torch.cuda.is_available():\n",
    "    print(\"cuda\", torch.cuda.is_available())\n",
    "    print(torch.cuda.get_device_name(0))\n",
    "    torch.cuda.empty_cache()\n",
    "else:\n",
    "    print(\"CUDA is not available.\")\n",
    "\n",
    "\n",
    "import warnings\n",
    "warnings.filterwarnings(\"ignore\", category=UserWarning, module=\"pytorch_lightning.trainer.connectors.data_connector\")\n",
    "warnings.filterwarnings(\"ignore\", category=UserWarning, module=\"lightning_fabric.plugins.environments.slurm\")\n",
    "\n",
    "from torch.profiler import profile, ProfilerActivity, tensorboard_trace_handler\n",
    "\n",
    "\n",
    "from sklearn.model_selection import train_test_split\n",
    "from sklearn.metrics import mean_squared_error, r2_score, mean_absolute_error\n",
    "\n",
    "\n",
    "from utils.train import MoleculeModel, MoleculeDataModule, get_metric\n",
    "from utils.prepare import load_dataset\n"
   ]
  },
  {
   "cell_type": "code",
   "execution_count": 19,
   "metadata": {},
   "outputs": [
    {
     "name": "stdout",
     "output_type": "stream",
     "text": [
      "MoleculeDataset(136219)\n",
      "Data(x=[31, 133], edge_index=[2, 64], edge_attr=[64, 14], y=[31], smiles='CNC(=S)N/N=C/c1c(O)ccc2ccccc12')\n",
      "Shape of atom features (x): torch.Size([31, 133])\n",
      "Shape of edge index: torch.Size([2, 64])\n",
      "Shape of edge attr: torch.Size([64, 14])\n",
      "Target value (y): tensor([-0.0756, -0.1880,  0.1527, -0.9194, -0.1204, -0.2333, -0.0461, -0.1620,\n",
      "         0.1055, -0.4826, -0.1695, -0.1810, -0.0448, -0.1405, -0.1686, -0.1502,\n",
      "        -0.1488, -0.0190,  0.0474,  0.0435,  0.0400,  0.2173,  0.2133,  0.0341,\n",
      "         0.1984,  0.0413,  0.0254,  0.0345,  0.0283,  0.0312,  0.0369])\n",
      "Shape of target value: torch.Size([31])\n",
      "Number of atoms in the molecule: 31\n",
      "Number of bonds in the molecule: 32\n"
     ]
    }
   ],
   "source": [
    "molecule_dataset = load_dataset(\"../data/QM_137k.pt\")"
   ]
  },
  {
   "cell_type": "code",
   "execution_count": 20,
   "metadata": {},
   "outputs": [
    {
     "data": {
      "text/plain": [
       "Data(x=[31, 133], edge_index=[2, 64], edge_attr=[64, 14], y=[31], smiles='CNC(=S)N/N=C/c1c(O)ccc2ccccc12')"
      ]
     },
     "execution_count": 20,
     "metadata": {},
     "output_type": "execute_result"
    }
   ],
   "source": [
    "molecule_dataset[0]"
   ]
  },
  {
   "cell_type": "code",
   "execution_count": 21,
   "metadata": {},
   "outputs": [],
   "source": [
    "class MoleculeModel(pl.LightningModule):\n",
    "    def __init__(self, base_model, optimizer_class, learning_rate, weight_decay, step_size, gamma, batch_size, metric='rmse'):\n",
    "        super().__init__()\n",
    "        self.save_hyperparameters(ignore=['base_model'])\n",
    "        self.base_model = base_model\n",
    "        self.batch_size = batch_size\n",
    "        self.metric = get_metric(metric)\n",
    "\n",
    "        self.train_losses = []\n",
    "        self.val_losses = []\n",
    "\n",
    "    def forward(self, x, edge_index, edge_attr):\n",
    "        return self.base_model(x, edge_index, edge_attr)\n",
    "\n",
    "    def configure_optimizers(self):\n",
    "        optimizer = self.hparams.optimizer_class(self.parameters(), lr=self.hparams.learning_rate, weight_decay=self.hparams.weight_decay)\n",
    "        scheduler = torch.optim.lr_scheduler.StepLR(optimizer, step_size=self.hparams.step_size, gamma=self.hparams.gamma)\n",
    "        return [optimizer], [scheduler]\n",
    "\n",
    "    def training_step(self, batch, batch_idx):\n",
    "        with profile(\n",
    "            activities=[ProfilerActivity.CPU, ProfilerActivity.CUDA],\n",
    "            schedule=torch.profiler.schedule(wait=1, warmup=1, active=2),\n",
    "            on_trace_ready=tensorboard_trace_handler('profiler')\n",
    "        ) as prof:\n",
    "            y_hat = self(batch.x, batch.edge_index, batch.edge_attr)\n",
    "            loss = self.metric(batch.y, y_hat)\n",
    "            self.log('train_loss', loss, batch_size=self.batch_size)\n",
    "            self.train_losses.append(loss.item())\n",
    "        \n",
    "        prof.step()\n",
    "\n",
    "        return loss\n",
    "    \n",
    "    def validation_step(self, batch, batch_idx):\n",
    "        y_hat = self(batch.x, batch.edge_index, batch.edge_attr)\n",
    "        val_loss = self.metric(batch.y, y_hat)\n",
    "        self.log('val_loss', val_loss, batch_size=self.batch_size)\n",
    "        self.val_losses.append(val_loss.item())\n",
    "\n",
    "    def test_step(self, batch, batch_idx):\n",
    "        y_hat = self(batch.x, batch.edge_index, batch.edge_attr)\n",
    "        preds_np = y_hat.detach().cpu().numpy()\n",
    "        true_values_np = batch.y.detach().cpu().numpy()\n",
    "\n",
    "        data = []\n",
    "        start_idx = 0\n",
    "        for i, num_atoms in enumerate(batch.ptr[:-1]): \n",
    "            end_idx = batch.ptr[i+1].item()\n",
    "            molecule_preds = preds_np[start_idx:end_idx]\n",
    "            molecule_true_values = true_values_np[start_idx:end_idx]\n",
    "\n",
    "            data.append({\n",
    "                'smiles': batch.smiles[i],\n",
    "                'predictions': molecule_preds,\n",
    "                'true_values': molecule_true_values\n",
    "            })\n",
    "\n",
    "            start_idx = end_idx\n",
    "\n",
    "        return data\n",
    "\n",
    "    def r2_score(self, y_true, y_pred):\n",
    "        ss_res = torch.sum((y_true - y_pred) ** 2)\n",
    "        ss_tot = torch.sum((y_true - torch.mean(y_true)) ** 2)\n",
    "        r2 = 1 - ss_res / ss_tot\n",
    "        return r2\n",
    "\n",
    "    def test_epoch_end(self, outputs):\n",
    "        all_data = [item for batch_data in outputs for item in batch_data]\n",
    "        self.df_results = pd.DataFrame(all_data)\n",
    "\n",
    "        all_predictions = np.concatenate(self.df_results['predictions'].values)\n",
    "        all_true_values = np.concatenate(self.df_results['true_values'].values)\n",
    "\n",
    "        rmse = np.sqrt(mean_squared_error(all_true_values, all_predictions))\n",
    "        mse = mean_squared_error(all_true_values, all_predictions)\n",
    "        r2 = r2_score(all_true_values, all_predictions)\n",
    "        mae = mean_absolute_error(all_true_values, all_predictions)\n",
    "\n",
    "        print(f'RMSE: {rmse:.4f}')\n",
    "        print(f'MSE: {mse:.4f}')\n",
    "        print(f'R²: {r2:.4f}')\n",
    "        print(f'MAE: {mae:.4f}')\n",
    "\n",
    "        return self.df_results"
   ]
  },
  {
   "cell_type": "code",
   "execution_count": 22,
   "metadata": {},
   "outputs": [],
   "source": [
    "batch_size = 128   \n",
    "num_workers = 8  \n",
    "\n",
    "data_module = MoleculeDataModule(molecule_dataset, batch_size=batch_size, num_workers=num_workers)"
   ]
  },
  {
   "cell_type": "code",
   "execution_count": 23,
   "metadata": {},
   "outputs": [],
   "source": [
    "class GATv2Model(nn.Module):\n",
    "    def __init__(self, in_features, hidden_features, out_features, num_heads, dropout_rate, activation_fn, edge_attr_dim):\n",
    "        super(GATv2Model, self).__init__()\n",
    "        \n",
    "        self.conv1 = GATv2Conv(in_channels=in_features, out_channels=hidden_features, heads=num_heads, dropout=dropout_rate, concat=True)\n",
    "        self.bn1 = nn.BatchNorm1d(hidden_features * num_heads)\n",
    "        self.prelu = nn.PReLU()\n",
    "\n",
    "        self.edge_attr_processor = nn.Linear(edge_attr_dim, hidden_features * num_heads)\n",
    "\n",
    "        self.ffn = nn.Sequential(\n",
    "            nn.Linear(hidden_features * num_heads, hidden_features * num_heads),\n",
    "            nn.BatchNorm1d(hidden_features * num_heads),\n",
    "            nn.PReLU(),\n",
    "            nn.Linear(hidden_features * num_heads, hidden_features * num_heads),\n",
    "            nn.BatchNorm1d(hidden_features * num_heads),\n",
    "            nn.PReLU(),\n",
    "        )\n",
    "\n",
    "        self.gcn = GCNConv(in_channels=hidden_features * num_heads, out_channels=out_features)\n",
    "        \n",
    "        self.activation_fn = activation_fn\n",
    "        self.dropout_rate = dropout_rate\n",
    "\n",
    "    def forward(self, x, edge_index, edge_attr):\n",
    "        # Применяем GATv2 слой\n",
    "        x = self.conv1(x, edge_index)\n",
    "\n",
    "        # Обрабатываем атрибуты ребе\n",
    "        edge_attr = self.edge_attr_processor(edge_attr)\n",
    "\n",
    "        aggregated_edge_attr = edge_attr.mean(dim=0, keepdim=True)\n",
    "        x += aggregated_edge_attr\n",
    "\n",
    "\n",
    "        x = self.prelu(self.bn1(x))\n",
    "        x = F.dropout(x, p=self.dropout_rate, training=self.training)\n",
    "        x = self.ffn(x)\n",
    "        x = self.gcn(x, edge_index).squeeze()\n",
    "        return x\n"
   ]
  },
  {
   "cell_type": "code",
   "execution_count": 24,
   "metadata": {
    "execution": {
     "iopub.execute_input": "2024-03-08T15:24:22.739616Z",
     "iopub.status.busy": "2024-03-08T15:24:22.739396Z",
     "iopub.status.idle": "2024-03-08T15:24:22.887602Z",
     "shell.execute_reply": "2024-03-08T15:24:22.886920Z"
    }
   },
   "outputs": [
    {
     "name": "stderr",
     "output_type": "stream",
     "text": [
      "GPU available: True (cuda), used: True\n",
      "TPU available: False, using: 0 TPU cores\n",
      "IPU available: False, using: 0 IPUs\n",
      "HPU available: False, using: 0 HPUs\n"
     ]
    },
    {
     "name": "stdout",
     "output_type": "stream",
     "text": [
      "Model:\n",
      " MoleculeModel(\n",
      "  (base_model): GATv2Model(\n",
      "    (conv1): GATv2Conv(133, 64, heads=8)\n",
      "    (bn1): BatchNorm1d(512, eps=1e-05, momentum=0.1, affine=True, track_running_stats=True)\n",
      "    (prelu): PReLU(num_parameters=1)\n",
      "    (edge_attr_processor): Linear(in_features=14, out_features=512, bias=True)\n",
      "    (ffn): Sequential(\n",
      "      (0): Linear(in_features=512, out_features=512, bias=True)\n",
      "      (1): BatchNorm1d(512, eps=1e-05, momentum=0.1, affine=True, track_running_stats=True)\n",
      "      (2): PReLU(num_parameters=1)\n",
      "      (3): Linear(in_features=512, out_features=512, bias=True)\n",
      "      (4): BatchNorm1d(512, eps=1e-05, momentum=0.1, affine=True, track_running_stats=True)\n",
      "      (5): PReLU(num_parameters=1)\n",
      "    )\n",
      "    (gcn): GCNConv(512, 1)\n",
      "  )\n",
      ")\n"
     ]
    },
    {
     "name": "stderr",
     "output_type": "stream",
     "text": [
      "LOCAL_RANK: 0 - CUDA_VISIBLE_DEVICES: [0]\n",
      "\n",
      "  | Name       | Type       | Params\n",
      "------------------------------------------\n",
      "0 | base_model | GATv2Model | 674 K \n",
      "------------------------------------------\n",
      "674 K     Trainable params\n",
      "0         Non-trainable params\n",
      "674 K     Total params\n",
      "2.699     Total estimated model params size (MB)\n",
      "Metric val_loss improved. New best score: 0.157\n",
      "Metric val_loss improved by 0.006 >= min_delta = 0.0. New best score: 0.151\n",
      "Metric val_loss improved by 0.005 >= min_delta = 0.0. New best score: 0.147\n",
      "Metric val_loss improved by 0.004 >= min_delta = 0.0. New best score: 0.143\n",
      "Metric val_loss improved by 0.002 >= min_delta = 0.0. New best score: 0.141\n",
      "Metric val_loss improved by 0.000 >= min_delta = 0.0. New best score: 0.141\n",
      "Metric val_loss improved by 0.000 >= min_delta = 0.0. New best score: 0.141\n",
      "Metric val_loss improved by 0.000 >= min_delta = 0.0. New best score: 0.140\n",
      "Metric val_loss improved by 0.000 >= min_delta = 0.0. New best score: 0.140\n",
      "Metric val_loss improved by 0.000 >= min_delta = 0.0. New best score: 0.140\n",
      "Metric val_loss improved by 0.000 >= min_delta = 0.0. New best score: 0.140\n",
      "Metric val_loss improved by 0.000 >= min_delta = 0.0. New best score: 0.140\n",
      "Metric val_loss improved by 0.000 >= min_delta = 0.0. New best score: 0.140\n",
      "Metric val_loss improved by 0.000 >= min_delta = 0.0. New best score: 0.140\n",
      "Metric val_loss improved by 0.000 >= min_delta = 0.0. New best score: 0.140\n",
      "Metric val_loss improved by 0.000 >= min_delta = 0.0. New best score: 0.140\n",
      "Metric val_loss improved by 0.000 >= min_delta = 0.0. New best score: 0.139\n",
      "Metric val_loss improved by 0.000 >= min_delta = 0.0. New best score: 0.139\n",
      "Metric val_loss improved by 0.000 >= min_delta = 0.0. New best score: 0.139\n",
      "Metric val_loss improved by 0.000 >= min_delta = 0.0. New best score: 0.139\n",
      "Metric val_loss improved by 0.000 >= min_delta = 0.0. New best score: 0.139\n",
      "Metric val_loss improved by 0.000 >= min_delta = 0.0. New best score: 0.139\n",
      "Metric val_loss improved by 0.000 >= min_delta = 0.0. New best score: 0.139\n",
      "Metric val_loss improved by 0.000 >= min_delta = 0.0. New best score: 0.139\n",
      "Metric val_loss improved by 0.000 >= min_delta = 0.0. New best score: 0.139\n",
      "Metric val_loss improved by 0.000 >= min_delta = 0.0. New best score: 0.139\n",
      "Metric val_loss improved by 0.000 >= min_delta = 0.0. New best score: 0.139\n",
      "Monitored metric val_loss did not improve in the last 10 records. Best score: 0.139. Signaling Trainer to stop.\n"
     ]
    }
   ],
   "source": [
    "in_features = molecule_dataset[0].x.shape[1]\n",
    "hidden_features = 64\n",
    "num_heads = 8\n",
    "\n",
    "edge_attr_dim = molecule_dataset[0].edge_attr.shape[1]\n",
    "\n",
    "dropout_rate = 0.006\n",
    "activation_fn = F.relu  \n",
    "\n",
    "optimizer_class = Lion \n",
    "learning_rate = 0.00085           \n",
    "weight_decay = 2e-4         \n",
    "\n",
    "step_size = 50       \n",
    "gamma = 0.1                     \n",
    "\n",
    "max_epochs = 100       \n",
    "patience = 10       \n",
    "\n",
    "base_model = GATv2Model(\n",
    "    in_features=in_features,\n",
    "    hidden_features=hidden_features,\n",
    "    out_features=1,\n",
    "    num_heads=num_heads,\n",
    "    dropout_rate=dropout_rate,\n",
    "    activation_fn=activation_fn,\n",
    "    edge_attr_dim=edge_attr_dim\n",
    ")\n",
    "\n",
    "\n",
    "model = MoleculeModel(\n",
    "    base_model=base_model,\n",
    "    optimizer_class=optimizer_class,\n",
    "    learning_rate=learning_rate,\n",
    "    weight_decay=weight_decay,\n",
    "    step_size=step_size,\n",
    "    gamma=gamma,\n",
    "    batch_size=batch_size,\n",
    "    metric='rmse'\n",
    ")\n",
    "\n",
    "print(\"Model:\\n\", model)\n",
    "\n",
    "checkpoint_callback = ModelCheckpoint(monitor='val_loss', mode='min', save_top_k=1, verbose=True)\n",
    "early_stop_callback = EarlyStopping(monitor='val_loss', patience=patience, verbose=True, mode='min')\n",
    "logger = pl.loggers.CSVLogger('logs', name='GATv2')\n",
    "\n",
    "\n",
    "trainer = pl.Trainer(\n",
    "    max_epochs=max_epochs,\n",
    "    enable_checkpointing = False,\n",
    "    accelerator='auto',\n",
    "    devices=1,\n",
    "    callbacks=[early_stop_callback],\n",
    "    enable_progress_bar=False,\n",
    "    logger=False\n",
    ")\n",
    "\n",
    "trainer.fit(model, data_module)"
   ]
  },
  {
   "cell_type": "code",
   "execution_count": 25,
   "metadata": {
    "execution": {
     "iopub.execute_input": "2024-03-08T16:47:40.477037Z",
     "iopub.status.busy": "2024-03-08T16:47:40.476819Z",
     "iopub.status.idle": "2024-03-08T16:48:13.452027Z",
     "shell.execute_reply": "2024-03-08T16:48:13.451062Z"
    }
   },
   "outputs": [
    {
     "name": "stderr",
     "output_type": "stream",
     "text": [
      "LOCAL_RANK: 0 - CUDA_VISIBLE_DEVICES: [0]\n"
     ]
    },
    {
     "name": "stdout",
     "output_type": "stream",
     "text": [
      "RMSE: 0.1391\n",
      "MSE: 0.0193\n",
      "R²: 0.5539\n",
      "MAE: 0.0967\n"
     ]
    }
   ],
   "source": [
    "df = trainer.test(model, data_module.test_dataloader())"
   ]
  },
  {
   "cell_type": "code",
   "execution_count": 26,
   "metadata": {
    "execution": {
     "iopub.execute_input": "2024-03-08T16:48:13.456687Z",
     "iopub.status.busy": "2024-03-08T16:48:13.456441Z",
     "iopub.status.idle": "2024-03-08T16:48:13.753262Z",
     "shell.execute_reply": "2024-03-08T16:48:13.752467Z"
    }
   },
   "outputs": [
    {
     "data": {
      "image/png": "[encoded data removed]",
      "text/plain": [
       "<Figure size 720x360 with 1 Axes>"
      ]
     },
     "metadata": {
      "needs_background": "light"
     },
     "output_type": "display_data"
    }
   ],
   "source": [
    "train_losses = model.train_losses\n",
    "val_losses = model.val_losses\n",
    "\n",
    "# Построение графика\n",
    "plt.figure(figsize=(10, 5))\n",
    "plt.plot(train_losses, label='Train Loss')\n",
    "plt.plot(val_losses, label='Validation Loss')\n",
    "plt.xlabel('Epochs')\n",
    "plt.ylabel('Loss')\n",
    "plt.title('Training and Validation Losses Over Epochs')\n",
    "plt.legend()\n",
    "plt.show()"
   ]
  },
  {
   "cell_type": "code",
   "execution_count": 27,
   "metadata": {
    "execution": {
     "iopub.execute_input": "2024-03-08T16:48:13.757327Z",
     "iopub.status.busy": "2024-03-08T16:48:13.757034Z",
     "iopub.status.idle": "2024-03-08T16:48:13.819962Z",
     "shell.execute_reply": "2024-03-08T16:48:13.819246Z"
    }
   },
   "outputs": [
    {
     "data": {
      "image/png": "[encoded data removed]",
      "text/plain": [
       "<PIL.PngImagePlugin.PngImageFile image mode=RGB size=600x600 at 0x7FE46853C4F0>"
      ]
     },
     "metadata": {},
     "output_type": "display_data"
    }
   ],
   "source": [
    "def draw_molecule(smiles, predictions):\n",
    "    mol = Chem.AddHs(Chem.MolFromSmiles(smiles))\n",
    "    predictions_rounded = np.round(predictions, 2)\n",
    "\n",
    "    for atom, pred in zip(mol.GetAtoms(), predictions_rounded):\n",
    "        atom.SetProp('atomNote', str(pred))\n",
    "\n",
    "    img = Chem.Draw.MolToImage(mol, size=(600, 600), kekulize=True)\n",
    "    img.show()\n",
    "\n",
    "\n",
    "df_results = model.df_results\n",
    "\n",
    "smiles = df_results.iloc[0]['smiles']\n",
    "predictions = df_results.iloc[0]['predictions']\n",
    "draw_molecule(smiles, predictions)\n"
   ]
  }
 ],
 "metadata": {
  "kernelspec": {
   "display_name": "torch_geom_2",
   "language": "python",
   "name": "python3"
  },
  "language_info": {
   "codemirror_mode": {
    "name": "ipython",
    "version": 3
   },
   "file_extension": ".py",
   "mimetype": "text/x-python",
   "name": "python",
   "nbconvert_exporter": "python",
   "pygments_lexer": "ipython3",
   "version": "3.9.7"
  }
 },
 "nbformat": 4,
 "nbformat_minor": 4
}
