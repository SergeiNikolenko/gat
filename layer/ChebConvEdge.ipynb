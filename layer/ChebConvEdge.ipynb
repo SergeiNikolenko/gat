{
 "cells": [
  {
   "cell_type": "code",
   "execution_count": 43,
   "metadata": {
    "execution": {
     "iopub.execute_input": "2024-03-17T09:14:18.467992Z",
     "iopub.status.busy": "2024-03-17T09:14:18.467625Z",
     "iopub.status.idle": "2024-03-17T09:14:22.777060Z",
     "shell.execute_reply": "2024-03-17T09:14:22.776210Z"
    }
   },
   "outputs": [
    {
     "name": "stdout",
     "output_type": "stream",
     "text": [
      "cuda True\n",
      "NVIDIA GeForce RTX 3090\n"
     ]
    }
   ],
   "source": [
    "%load_ext autoreload\n",
    "%autoreload 2\n",
    "\n",
    "import torch\n",
    "import torch.nn as nn\n",
    "\n",
    "import pytorch_lightning as pl\n",
    "from pytorch_lightning.callbacks import ModelCheckpoint, EarlyStopping, Timer\n",
    "\n",
    "\n",
    "from lion_pytorch import Lion\n",
    "\n",
    "torch.manual_seed(42)\n",
    "\n",
    "if torch.cuda.is_available():\n",
    "    torch.cuda.manual_seed_all(42)\n",
    "    print(\"cuda\", torch.cuda.is_available())\n",
    "    print(torch.cuda.get_device_name(0))\n",
    "    torch.cuda.empty_cache()\n",
    "else:\n",
    "    print(\"CUDA is not available.\")\n",
    "\n",
    "import warnings\n",
    "warnings.filterwarnings(\"ignore\", category=UserWarning, module=\"pytorch_lightning.trainer.connectors.data_connector\")\n",
    "warnings.filterwarnings(\"ignore\", category=UserWarning, module=\"lightning_fabric.plugins.environments.slurm\")\n",
    "\n",
    "torch.backends.cudnn.deterministic = True\n",
    "torch.backends.cudnn.benchmark = False\n",
    "\n",
    "torch.set_float32_matmul_precision('medium')\n",
    "\n",
    "from sklearn.preprocessing import StandardScaler, MinMaxScaler\n",
    "from utils.add_skipatom import add_skipatom_features_to_dataset\n",
    "from utils.utils import save_trial_to_csv, evaluate_model, create_hyperopt_dir, MoleculeDataModule\n",
    "from utils.train import MoleculeModel"
   ]
  },
  {
   "cell_type": "code",
   "execution_count": 34,
   "metadata": {
    "execution": {
     "iopub.execute_input": "2024-03-17T09:14:22.781643Z",
     "iopub.status.busy": "2024-03-17T09:14:22.781416Z",
     "iopub.status.idle": "2024-03-17T09:15:53.120597Z",
     "shell.execute_reply": "2024-03-17T09:15:53.111858Z"
    }
   },
   "outputs": [],
   "source": [
    "data = torch.load(f'../data/QM_137k.pt')\n",
    "dataset = data[:1000]"
   ]
  },
  {
   "cell_type": "code",
   "execution_count": 35,
   "metadata": {
    "execution": {
     "iopub.execute_input": "2024-03-17T09:15:53.133986Z",
     "iopub.status.busy": "2024-03-17T09:15:53.133560Z",
     "iopub.status.idle": "2024-03-17T09:15:53.142927Z",
     "shell.execute_reply": "2024-03-17T09:15:53.142248Z"
    }
   },
   "outputs": [
    {
     "name": "stderr",
     "output_type": "stream",
     "text": [
      "Add Skipatom features: 100%|██████████| 1000/1000 [00:02<00:00, 359.58it/s]\n"
     ]
    },
    {
     "data": {
      "text/plain": [
       "Data(x=[31, 163], edge_index=[2, 64], edge_attr=[64, 14], y=[31], smiles='CNC(=S)N/N=C/c1c(O)ccc2ccccc12')"
      ]
     },
     "execution_count": 35,
     "metadata": {},
     "output_type": "execute_result"
    }
   ],
   "source": [
    "dataset = add_skipatom_features_to_dataset(dataset, min_count=2e7, top_n=4, device='cpu', progress_bar=True, scaler=StandardScaler())\n",
    "dataset[0]"
   ]
  },
  {
   "cell_type": "code",
   "execution_count": 46,
   "metadata": {
    "execution": {
     "iopub.execute_input": "2024-03-17T09:15:53.200256Z",
     "iopub.status.busy": "2024-03-17T09:15:53.199970Z",
     "iopub.status.idle": "2024-03-17T09:15:53.363017Z",
     "shell.execute_reply": "2024-03-17T09:15:53.362347Z"
    }
   },
   "outputs": [
    {
     "name": "stderr",
     "output_type": "stream",
     "text": [
      "GPU available: True (cuda), used: True\n",
      "TPU available: False, using: 0 TPU cores\n",
      "IPU available: False, using: 0 IPUs\n",
      "HPU available: False, using: 0 HPUs\n",
      "Missing logger folder: tb_logs/MolModel\n",
      "LOCAL_RANK: 0 - CUDA_VISIBLE_DEVICES: [0]\n",
      "\n",
      "  | Name              | Type       | Params\n",
      "-------------------------------------------------\n",
      "0 | atom_preprocess   | ModuleList | 8.6 M \n",
      "1 | cheb_convolutions | ModuleList | 1.6 M \n",
      "2 | postprocess       | ModuleList | 33.5 K\n",
      "3 | output_layer      | Linear     | 129   \n",
      "-------------------------------------------------\n",
      "10.2 M    Trainable params\n",
      "0         Non-trainable params\n",
      "10.2 M    Total params\n",
      "40.809    Total estimated model params size (MB)\n"
     ]
    },
    {
     "name": "stdout",
     "output_type": "stream",
     "text": [
      "Model:\n",
      " MoleculeModel(\n",
      "  (atom_preprocess): ModuleList(\n",
      "    (0): AtomEdgeInteraction(\n",
      "      (interaction): Linear(in_features=177, out_features=1024, bias=True)\n",
      "    )\n",
      "    (1): Sequential(\n",
      "      (atom_linear_1): Linear(in_features=1024, out_features=1024, bias=True)\n",
      "      (atom_bn_1): BatchNorm1d(1024, eps=1e-05, momentum=0.1, affine=True, track_running_stats=True)\n",
      "      (atom_activation_1): PReLU(num_parameters=1)\n",
      "      (atom_dropout_1): Dropout(p=0.0, inplace=False)\n",
      "    )\n",
      "    (2): Sequential(\n",
      "      (atom_linear_2): Linear(in_features=1024, out_features=1024, bias=True)\n",
      "      (atom_bn_2): BatchNorm1d(1024, eps=1e-05, momentum=0.1, affine=True, track_running_stats=True)\n",
      "      (atom_activation_2): PReLU(num_parameters=1)\n",
      "      (atom_dropout_2): Dropout(p=0.0, inplace=False)\n",
      "    )\n",
      "    (3): Sequential(\n",
      "      (atom_linear_3): Linear(in_features=1024, out_features=1024, bias=True)\n",
      "      (atom_bn_3): BatchNorm1d(1024, eps=1e-05, momentum=0.1, affine=True, track_running_stats=True)\n",
      "      (atom_activation_3): PReLU(num_parameters=1)\n",
      "      (atom_dropout_3): Dropout(p=0.0, inplace=False)\n",
      "    )\n",
      "    (4): Sequential(\n",
      "      (atom_linear_4): Linear(in_features=1024, out_features=1024, bias=True)\n",
      "      (atom_bn_4): BatchNorm1d(1024, eps=1e-05, momentum=0.1, affine=True, track_running_stats=True)\n",
      "      (atom_activation_4): PReLU(num_parameters=1)\n",
      "      (atom_dropout_4): Dropout(p=0.0, inplace=False)\n",
      "    )\n",
      "    (5): Sequential(\n",
      "      (atom_linear_5): Linear(in_features=1024, out_features=1024, bias=True)\n",
      "      (atom_bn_5): BatchNorm1d(1024, eps=1e-05, momentum=0.1, affine=True, track_running_stats=True)\n",
      "      (atom_activation_5): PReLU(num_parameters=1)\n",
      "      (atom_dropout_5): Dropout(p=0.0, inplace=False)\n",
      "    )\n",
      "    (6): Sequential(\n",
      "      (atom_linear_6): Linear(in_features=1024, out_features=1024, bias=True)\n",
      "      (atom_bn_6): BatchNorm1d(1024, eps=1e-05, momentum=0.1, affine=True, track_running_stats=True)\n",
      "      (atom_activation_6): PReLU(num_parameters=1)\n",
      "      (atom_dropout_6): Dropout(p=0.0, inplace=False)\n",
      "    )\n",
      "    (7): Sequential(\n",
      "      (atom_linear_7): Linear(in_features=1024, out_features=1024, bias=True)\n",
      "      (atom_bn_7): BatchNorm1d(1024, eps=1e-05, momentum=0.1, affine=True, track_running_stats=True)\n",
      "      (atom_activation_7): PReLU(num_parameters=1)\n",
      "      (atom_dropout_7): Dropout(p=0.0, inplace=False)\n",
      "    )\n",
      "    (8): Sequential(\n",
      "      (atom_linear_8): Linear(in_features=1024, out_features=1024, bias=True)\n",
      "      (atom_bn_8): BatchNorm1d(1024, eps=1e-05, momentum=0.1, affine=True, track_running_stats=True)\n",
      "      (atom_activation_8): PReLU(num_parameters=1)\n",
      "      (atom_dropout_8): Dropout(p=0.0, inplace=False)\n",
      "    )\n",
      "  )\n",
      "  (cheb_convolutions): ModuleList(\n",
      "    (0): ChebConv(1024, 128, K=10, normalization=sym)\n",
      "    (1): ChebConv(128, 128, K=16, normalization=sym)\n",
      "  )\n",
      "  (postprocess): ModuleList(\n",
      "    (0): Sequential(\n",
      "      (post_linear_0): Linear(in_features=128, out_features=128, bias=True)\n",
      "      (post_bn_0): BatchNorm1d(128, eps=1e-05, momentum=0.1, affine=True, track_running_stats=True)\n",
      "      (post_activation_0): PReLU(num_parameters=1)\n",
      "      (post_dropout_0): Dropout(p=0.0, inplace=False)\n",
      "    )\n",
      "    (1): Sequential(\n",
      "      (post_linear_1): Linear(in_features=128, out_features=128, bias=True)\n",
      "      (post_bn_1): BatchNorm1d(128, eps=1e-05, momentum=0.1, affine=True, track_running_stats=True)\n",
      "      (post_activation_1): PReLU(num_parameters=1)\n",
      "      (post_dropout_1): Dropout(p=0.0, inplace=False)\n",
      "    )\n",
      "  )\n",
      "  (output_layer): Linear(in_features=128, out_features=1, bias=True)\n",
      ")\n"
     ]
    },
    {
     "name": "stderr",
     "output_type": "stream",
     "text": [
      "Metric val_loss improved. New best score: 0.217\n",
      "Monitored metric val_loss did not improve in the last 5 records. Best score: 0.217. Signaling Trainer to stop.\n"
     ]
    }
   ],
   "source": [
    "in_features = dataset[0].x.shape[1]\n",
    "out_features = 1\n",
    "edge_attr_dim = dataset[0].edge_attr.shape[1]\n",
    "\n",
    "preprocess_hidden_features = [1700] * 9\n",
    "postprocess_hidden_features = [128, 128]\n",
    "\n",
    "cheb_hidden_features = [128, 128]\n",
    "K = [10, 16]\n",
    "cheb_normalization = ['sym', 'sym']\n",
    "\n",
    "optimizer_class = Lion\n",
    "learning_rate = 2.2e-5\n",
    "weight_decay = 3e-5\n",
    "step_size = 80\n",
    "gamma = 0.2\n",
    "max_epochs = 100\n",
    "patience = 5\n",
    "batch_size = 128\n",
    "\n",
    "batch_size = 1024  \n",
    "num_workers = 8  \n",
    "\n",
    "data_module = MoleculeDataModule(dataset, batch_size=batch_size, num_workers=num_workers)\n",
    "\n",
    "dropout_rates = [0.0] * (len(preprocess_hidden_features) + len(postprocess_hidden_features))\n",
    "activation_fns = [nn.PReLU] * (len(preprocess_hidden_features) + len(postprocess_hidden_features))\n",
    "use_batch_norm = [True] * (len(preprocess_hidden_features) + len(postprocess_hidden_features))\n",
    "\n",
    "model = MoleculeModel(\n",
    "    atom_in_features=in_features,\n",
    "    edge_attr_dim=edge_attr_dim,\n",
    "    preprocess_hidden_features=preprocess_hidden_features,\n",
    "    cheb_hidden_features=cheb_hidden_features,\n",
    "    K=K,\n",
    "    cheb_normalizations=cheb_normalization,\n",
    "    dropout_rates=dropout_rates,\n",
    "    activation_fns=activation_fns,\n",
    "    use_batch_norm=use_batch_norm,\n",
    "    postprocess_hidden_features=postprocess_hidden_features,\n",
    "    out_features=out_features,\n",
    "    optimizer_class=optimizer_class,\n",
    "    learning_rate=learning_rate,\n",
    "    weight_decay=weight_decay,\n",
    "    step_size=step_size,\n",
    "    gamma=gamma,\n",
    "    batch_size=batch_size,\n",
    "    metric='rmse'\n",
    ")\n",
    "\n",
    "\n",
    "\n",
    "print(\"Model:\\n\", model)\n",
    "\n",
    "checkpoint_callback = ModelCheckpoint(monitor='val_loss', mode='min', save_top_k=1, verbose=True)\n",
    "early_stop_callback = EarlyStopping(monitor='val_loss', patience=patience, verbose=True, mode='min')\n",
    "timer = Timer()\n",
    "logger = pl.loggers.TensorBoardLogger('tb_logs', name='MolModel')\n",
    "\n",
    "trainer = pl.Trainer(\n",
    "    max_epochs=max_epochs,\n",
    "    enable_checkpointing=False,\n",
    "    callbacks=[early_stop_callback, timer],\n",
    "    enable_progress_bar=False,\n",
    "    logger=logger,\n",
    "    accelerator='gpu',\n",
    "    devices=1,\n",
    ")\n",
    "trainer.fit(model, data_module)"
   ]
  },
  {
   "cell_type": "code",
   "execution_count": 37,
   "metadata": {
    "execution": {
     "iopub.execute_input": "2024-03-17T10:04:55.930579Z",
     "iopub.status.busy": "2024-03-17T10:04:55.930337Z",
     "iopub.status.idle": "2024-03-17T10:04:55.935278Z",
     "shell.execute_reply": "2024-03-17T10:04:55.934451Z"
    }
   },
   "outputs": [
    {
     "name": "stdout",
     "output_type": "stream",
     "text": [
      "Время обучения: 0:01:56\n"
     ]
    }
   ],
   "source": [
    "seconds = timer.time_elapsed()\n",
    "h, m, s = int(seconds // 3600), int((seconds % 3600) // 60), int(seconds % 60)\n",
    "\n",
    "print(f\"Время обучения: {h}:{m:02d}:{s:02d}\")\n"
   ]
  }
 ],
 "metadata": {
  "kernelspec": {
   "display_name": "torch_geom_2",
   "language": "python",
   "name": "python3"
  },
  "language_info": {
   "codemirror_mode": {
    "name": "ipython",
    "version": 3
   },
   "file_extension": ".py",
   "mimetype": "text/x-python",
   "name": "python",
   "nbconvert_exporter": "python",
   "pygments_lexer": "ipython3",
   "version": "3.10.13"
  }
 },
 "nbformat": 4,
 "nbformat_minor": 4
}
