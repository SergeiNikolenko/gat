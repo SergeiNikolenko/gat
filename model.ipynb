{
 "cells": [
  {
   "cell_type": "code",
   "execution_count": 3,
   "metadata": {
    "execution": {
     "iopub.execute_input": "2024-03-17T09:14:18.467992Z",
     "iopub.status.busy": "2024-03-17T09:14:18.467625Z",
     "iopub.status.idle": "2024-03-17T09:14:22.777060Z",
     "shell.execute_reply": "2024-03-17T09:14:22.776210Z"
    }
   },
   "outputs": [
    {
     "name": "stdout",
     "output_type": "stream",
     "text": [
      "cuda True\n",
      "NVIDIA GeForce RTX 3090\n"
     ]
    }
   ],
   "source": [
    "%load_ext autoreload\n",
    "%autoreload 2\n",
    "\n",
    "import torch\n",
    "import torch.nn as nn\n",
    "\n",
    "import pytorch_lightning as pl\n",
    "from pytorch_lightning.callbacks import ModelCheckpoint, EarlyStopping, Timer\n",
    "\n",
    "\n",
    "from lion_pytorch import Lion\n",
    "\n",
    "torch.manual_seed(42)\n",
    "\n",
    "if torch.cuda.is_available():\n",
    "    torch.cuda.manual_seed_all(42)\n",
    "    print(\"cuda\", torch.cuda.is_available())\n",
    "    print(torch.cuda.get_device_name(0))\n",
    "    torch.cuda.empty_cache()\n",
    "else:\n",
    "    print(\"CUDA is not available.\")\n",
    "\n",
    "import warnings\n",
    "warnings.filterwarnings(\"ignore\", category=UserWarning, module=\"pytorch_lightning.trainer.connectors.data_connector\")\n",
    "warnings.filterwarnings(\"ignore\", category=UserWarning, module=\"lightning_fabric.plugins.environments.slurm\")\n",
    "\n",
    "torch.backends.cudnn.deterministic = True\n",
    "torch.backends.cudnn.benchmark = False\n",
    "\n",
    "torch.set_float32_matmul_precision('medium')\n",
    "\n",
    "from sklearn.preprocessing import StandardScaler, MinMaxScaler\n",
    "from utils.add_skipatom import add_skipatom_features_to_dataset\n",
    "from utils.utils import save_trial_to_csv, evaluate_model, create_hyperopt_dir, MoleculeDataModule\n",
    "from utils.train import MoleculeModel"
   ]
  },
  {
   "cell_type": "code",
   "execution_count": 4,
   "metadata": {
    "execution": {
     "iopub.execute_input": "2024-03-17T09:14:22.781643Z",
     "iopub.status.busy": "2024-03-17T09:14:22.781416Z",
     "iopub.status.idle": "2024-03-17T09:15:53.120597Z",
     "shell.execute_reply": "2024-03-17T09:15:53.111858Z"
    }
   },
   "outputs": [],
   "source": [
    "data = torch.load(f'../data/QM_137k.pt')\n",
    "dataset = data[:10000]"
   ]
  },
  {
   "cell_type": "code",
   "execution_count": 5,
   "metadata": {
    "execution": {
     "iopub.execute_input": "2024-03-17T09:15:53.133986Z",
     "iopub.status.busy": "2024-03-17T09:15:53.133560Z",
     "iopub.status.idle": "2024-03-17T09:15:53.142927Z",
     "shell.execute_reply": "2024-03-17T09:15:53.142248Z"
    }
   },
   "outputs": [
    {
     "name": "stderr",
     "output_type": "stream",
     "text": [
      "Add Skipatom features: 100%|██████████| 1000/1000 [00:04<00:00, 225.87it/s]\n"
     ]
    },
    {
     "data": {
      "text/plain": [
       "Data(x=[31, 163], edge_index=[2, 64], edge_attr=[64, 14], y=[31], smiles='CNC(=S)N/N=C/c1c(O)ccc2ccccc12')"
      ]
     },
     "execution_count": 5,
     "metadata": {},
     "output_type": "execute_result"
    }
   ],
   "source": [
    "#dataset = add_skipatom_features_to_dataset(dataset, min_count=2e7, top_n=4, device='cpu', progress_bar=True, scaler=StandardScaler())\n",
    "dataset[0]"
   ]
  },
  {
   "cell_type": "code",
   "execution_count": 12,
   "metadata": {
    "execution": {
     "iopub.execute_input": "2024-03-17T09:15:53.200256Z",
     "iopub.status.busy": "2024-03-17T09:15:53.199970Z",
     "iopub.status.idle": "2024-03-17T09:15:53.363017Z",
     "shell.execute_reply": "2024-03-17T09:15:53.362347Z"
    }
   },
   "outputs": [],
   "source": [
    "import torch\n",
    "import torch.nn as nn\n",
    "from torch_geometric.nn import GATv2Conv, TransformerConv, ChebConv\n",
    "from torch_scatter import scatter_mean\n",
    "\n",
    "import torch.nn.functional as F\n",
    "import pytorch_lightning as pl\n",
    "\n",
    "from utils.train import MoleculeModel\n",
    "\n",
    "\n",
    "\n",
    "class AtomEdgeInteraction(nn.Module):\n",
    "    def __init__(self, in_features, edge_features, out_features, edge_importance=1.0):\n",
    "        super(AtomEdgeInteraction, self).__init__()\n",
    "        self.edge_importance = edge_importance\n",
    "        self.interaction = nn.Linear(in_features + edge_features, out_features)\n",
    "\n",
    "    def forward(self, x, edge_index, edge_attr):\n",
    "        # Получение атрибутов связей для каждой связи в графе\n",
    "        row, col = edge_index\n",
    "        edge_features = edge_attr * self.edge_importance\n",
    "\n",
    "        # Комбинирование атрибутов атомов с атрибутами связей\n",
    "        atom_features = x[row]  # Атрибуты исходящих атомов\n",
    "        combined_features = torch.cat([atom_features, edge_features], dim=-1)\n",
    "\n",
    "        # Применение слоя для комбинированных атрибутов\n",
    "        updated_features = self.interaction(combined_features)\n",
    "\n",
    "        # Обновление атрибутов атомов\n",
    "        x = scatter_mean(updated_features, col, dim=0, dim_size=x.size(0))\n",
    "        return x\n",
    "\n",
    "\n",
    "class Model(nn.Module):\n",
    "    def __init__(self, atom_in_features, edge_attr_dim, preprocess_hidden_features, cheb_hidden_features, K, cheb_normalizations, dropout_rates, activation_fns, use_batch_norm, postprocess_hidden_features, out_features):\n",
    "        super(Model, self).__init__()\n",
    "\n",
    "        self.atom_preprocess = nn.ModuleList([AtomEdgeInteraction(atom_in_features, edge_attr_dim, preprocess_hidden_features[0])])\n",
    "        for i in range(1, len(preprocess_hidden_features)):\n",
    "            layer = nn.Sequential(\n",
    "                nn.Linear(preprocess_hidden_features[i-1], preprocess_hidden_features[i]),\n",
    "                nn.BatchNorm1d(preprocess_hidden_features[i]) if use_batch_norm[i] else nn.Identity(),\n",
    "                activation_fns[i](),\n",
    "                nn.Dropout(dropout_rates[i])\n",
    "            )\n",
    "            self.atom_preprocess.append(layer)\n",
    "\n",
    "        self.cheb_convolutions = nn.ModuleList()\n",
    "        in_channels = preprocess_hidden_features[-1]\n",
    "        for i in range(len(cheb_hidden_features)):\n",
    "            self.cheb_convolutions.append(ChebConv(in_channels, cheb_hidden_features[i], K[i], normalization=cheb_normalizations[i]))\n",
    "            in_channels = cheb_hidden_features[i]\n",
    "\n",
    "        self.postprocess = nn.ModuleList()\n",
    "        for i in range(len(postprocess_hidden_features)):\n",
    "            layer = nn.Sequential(\n",
    "                nn.Linear(cheb_hidden_features[i-1] if i > 0 else cheb_hidden_features[-1], postprocess_hidden_features[i]),\n",
    "                nn.BatchNorm1d(postprocess_hidden_features[i]) if use_batch_norm[len(preprocess_hidden_features) + i] else nn.Identity(),\n",
    "                activation_fns[len(preprocess_hidden_features) + i](),\n",
    "                nn.Dropout(dropout_rates[len(preprocess_hidden_features) + i])\n",
    "            )\n",
    "            self.postprocess.append(layer)\n",
    "\n",
    "        self.output_layer = nn.Linear(postprocess_hidden_features[-1], out_features)\n",
    "\n",
    "    def forward(self, x, edge_index, edge_attr):\n",
    "        x = self.atom_preprocess[0](x, edge_index, edge_attr)\n",
    "        for layer in self.atom_preprocess[1:]:\n",
    "            x = layer(x)\n",
    "\n",
    "        for conv in self.cheb_convolutions:\n",
    "            x = F.relu(conv(x, edge_index))\n",
    "\n",
    "        for layer in self.postprocess:\n",
    "            x = layer(x)\n",
    "\n",
    "        return self.output_layer(x).squeeze(-1)"
   ]
  },
  {
   "cell_type": "code",
   "execution_count": 14,
   "metadata": {},
   "outputs": [
    {
     "name": "stderr",
     "output_type": "stream",
     "text": [
      "GPU available: True (cuda), used: True\n",
      "TPU available: False, using: 0 TPU cores\n",
      "IPU available: False, using: 0 IPUs\n",
      "HPU available: False, using: 0 HPUs\n",
      "Missing logger folder: tb_logs/ChebConv\n",
      "LOCAL_RANK: 0 - CUDA_VISIBLE_DEVICES: [0]\n",
      "\n",
      "  | Name           | Type  | Params\n",
      "-----------------------------------------\n",
      "0 | model_backbone | Model | 616 K \n",
      "-----------------------------------------\n",
      "616 K     Trainable params\n",
      "0         Non-trainable params\n",
      "616 K     Total params\n",
      "2.467     Total estimated model params size (MB)\n"
     ]
    },
    {
     "name": "stdout",
     "output_type": "stream",
     "text": [
      "Model:\n",
      " MoleculeModel(\n",
      "  (model_backbone): Model(\n",
      "    (atom_preprocess): ModuleList(\n",
      "      (0): AtomEdgeInteraction(\n",
      "        (interaction): Linear(in_features=177, out_features=128, bias=True)\n",
      "      )\n",
      "      (1-8): 8 x Sequential(\n",
      "        (0): Linear(in_features=128, out_features=128, bias=True)\n",
      "        (1): BatchNorm1d(128, eps=1e-05, momentum=0.1, affine=True, track_running_stats=True)\n",
      "        (2): PReLU(num_parameters=1)\n",
      "        (3): Dropout(p=0.0, inplace=False)\n",
      "      )\n",
      "    )\n",
      "    (cheb_convolutions): ModuleList(\n",
      "      (0): ChebConv(128, 128, K=10, normalization=sym)\n",
      "      (1): ChebConv(128, 128, K=16, normalization=sym)\n",
      "    )\n",
      "    (postprocess): ModuleList(\n",
      "      (0-1): 2 x Sequential(\n",
      "        (0): Linear(in_features=128, out_features=128, bias=True)\n",
      "        (1): BatchNorm1d(128, eps=1e-05, momentum=0.1, affine=True, track_running_stats=True)\n",
      "        (2): PReLU(num_parameters=1)\n",
      "        (3): Dropout(p=0.0, inplace=False)\n",
      "      )\n",
      "    )\n",
      "    (output_layer): Linear(in_features=128, out_features=1, bias=True)\n",
      "  )\n",
      ")\n"
     ]
    },
    {
     "name": "stderr",
     "output_type": "stream",
     "text": [
      "/home/nikolenko/.local/lib/python3.10/site-packages/pytorch_lightning/loops/fit_loop.py:298: The number of training batches (1) is smaller than the logging interval Trainer(log_every_n_steps=50). Set a lower value for log_every_n_steps if you want to see logs for the training epoch.\n",
      "Metric val_loss improved. New best score: 0.244\n",
      "Monitored metric val_loss did not improve in the last 5 records. Best score: 0.244. Signaling Trainer to stop.\n"
     ]
    }
   ],
   "source": [
    "in_features = dataset[0].x.shape[1]\n",
    "out_features = 1\n",
    "edge_attr_dim = dataset[0].edge_attr.shape[1]\n",
    "\n",
    "batch_size = 1024  \n",
    "num_workers = 8  \n",
    "\n",
    "data_module = MoleculeDataModule(dataset, batch_size=batch_size, num_workers=num_workers)\n",
    "\n",
    "\n",
    "preprocess_hidden_features = [128] * 9\n",
    "postprocess_hidden_features = [128, 128]\n",
    "cheb_hidden_features = [128, 128]\n",
    "K = [10, 16]\n",
    "cheb_normalization = ['sym', 'sym']\n",
    "\n",
    "dropout_rates = [0.0] * (len(preprocess_hidden_features) + len(postprocess_hidden_features))\n",
    "activation_fns = [nn.PReLU] * (len(preprocess_hidden_features) + len(postprocess_hidden_features))\n",
    "use_batch_norm = [True] * (len(preprocess_hidden_features) + len(postprocess_hidden_features))\n",
    "\n",
    "# Initialize the backbone with its specific parameters\n",
    "\n",
    "\n",
    "optimizer_class = Lion\n",
    "learning_rate = 2.2e-5\n",
    "weight_decay = 3e-5\n",
    "step_size = 80\n",
    "gamma = 0.2\n",
    "batch_size = 1024\n",
    "metric = 'rmse'\n",
    "\n",
    "\n",
    "backbone = Model(\n",
    "    atom_in_features=in_features,\n",
    "    edge_attr_dim=edge_attr_dim,\n",
    "    preprocess_hidden_features=preprocess_hidden_features,\n",
    "    cheb_hidden_features=cheb_hidden_features,\n",
    "    K=K,\n",
    "    cheb_normalizations=cheb_normalization,\n",
    "    dropout_rates=dropout_rates,\n",
    "    activation_fns=activation_fns,\n",
    "    use_batch_norm=use_batch_norm,\n",
    "    postprocess_hidden_features=postprocess_hidden_features,\n",
    "    out_features=out_features\n",
    ")\n",
    "\n",
    "model = MoleculeModel(\n",
    "    model_backbone=backbone,\n",
    "    optimizer_class=optimizer_class,\n",
    "    learning_rate=learning_rate,\n",
    "    weight_decay=weight_decay,\n",
    "    step_size=step_size,\n",
    "    gamma=gamma,\n",
    "    batch_size=batch_size,\n",
    "    metric=metric\n",
    ")\n",
    "\n",
    "print(\"Model:\\n\", model)\n",
    "\n",
    "\n",
    "from pytorch_lightning import Trainer, callbacks\n",
    "\n",
    "checkpoint_callback = callbacks.ModelCheckpoint(monitor='val_loss', mode='min', save_top_k=1, verbose=True)\n",
    "early_stop_callback = callbacks.EarlyStopping(monitor='val_loss', patience=5, verbose=True, mode='min')\n",
    "timer = callbacks.Timer()\n",
    "logger = pl.loggers.TensorBoardLogger('tb_logs', name='ChebConv')\n",
    "\n",
    "trainer = Trainer(\n",
    "    max_epochs=100,\n",
    "    enable_checkpointing=False,\n",
    "    callbacks=[early_stop_callback, timer],\n",
    "    enable_progress_bar=False,\n",
    "    logger=logger,\n",
    "    accelerator='gpu',\n",
    "    devices=1\n",
    ")\n",
    "\n",
    "trainer.fit(model, data_module)"
   ]
  },
  {
   "cell_type": "code",
   "execution_count": null,
   "metadata": {
    "execution": {
     "iopub.execute_input": "2024-03-17T10:04:55.930579Z",
     "iopub.status.busy": "2024-03-17T10:04:55.930337Z",
     "iopub.status.idle": "2024-03-17T10:04:55.935278Z",
     "shell.execute_reply": "2024-03-17T10:04:55.934451Z"
    }
   },
   "outputs": [
    {
     "name": "stdout",
     "output_type": "stream",
     "text": [
      "Время обучения: 0:01:56\n"
     ]
    }
   ],
   "source": [
    "seconds = timer.time_elapsed()\n",
    "h, m, s = int(seconds // 3600), int((seconds % 3600) // 60), int(seconds % 60)\n",
    "\n",
    "print(f\"Время обучения: {h}:{m:02d}:{s:02d}\")\n"
   ]
  }
 ],
 "metadata": {
  "kernelspec": {
   "display_name": "torch_geom_2",
   "language": "python",
   "name": "python3"
  },
  "language_info": {
   "codemirror_mode": {
    "name": "ipython",
    "version": 3
   },
   "file_extension": ".py",
   "mimetype": "text/x-python",
   "name": "python",
   "nbconvert_exporter": "python",
   "pygments_lexer": "ipython3",
   "version": "3.10.13"
  }
 },
 "nbformat": 4,
 "nbformat_minor": 4
}
