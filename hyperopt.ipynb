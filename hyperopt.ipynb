{
 "cells": [
  {
   "cell_type": "code",
   "execution_count": 1,
   "metadata": {},
   "outputs": [
    {
     "name": "stdout",
     "output_type": "stream",
     "text": [
      "cuda True\n",
      "NVIDIA GeForce RTX 3080\n"
     ]
    }
   ],
   "source": [
    "import optuna\n",
    "from optuna.pruners import SuccessiveHalvingPruner\n",
    "\n",
    "import torch\n",
    "import torch.nn as nn\n",
    "\n",
    "import pytorch_lightning as pl\n",
    "from pytorch_lightning.callbacks import EarlyStopping\n",
    "\n",
    "from lion_pytorch import Lion\n",
    "\n",
    "print(\"cuda\", torch.cuda.is_available())  \n",
    "print(torch.cuda.get_device_name(0)) \n",
    "\n",
    "import warnings\n",
    "warnings.filterwarnings(\"ignore\", category=UserWarning, module=\"pytorch_lightning.trainer.connectors.data_connector\")\n",
    "warnings.filterwarnings(\"ignore\", category=UserWarning, module=\"lightning_fabric.plugins.environments.slurm\")\n",
    "\n",
    "torch.cuda.empty_cache()\n",
    "\n",
    "from utils.train import MoleculeModel, MoleculeDataModule, save_trial_to_csv, create_hyperopt_dir\n",
    "from utils.prepare import FeaturizationParameters, MoleculeDataset, MoleculeData\n",
    "\n",
    "import logging\n",
    "\n",
    "logging.getLogger(\"pytorch_lightning\").setLevel(logging.WARNING)\n"
   ]
  },
  {
   "cell_type": "code",
   "execution_count": 2,
   "metadata": {},
   "outputs": [],
   "source": [
    "molecule_dataset = torch.load(\"../data/QM_100.pt\")"
   ]
  },
  {
   "cell_type": "code",
   "execution_count": 3,
   "metadata": {},
   "outputs": [],
   "source": [
    "num_workers = 8\n",
    "in_features = molecule_dataset[0].x.shape[1]\n",
    "edge_attr_dim = molecule_dataset[0].edge_attr.shape[1]\n",
    "max_epochs = 100\n",
    "patience = 2"
   ]
  },
  {
   "cell_type": "markdown",
   "metadata": {},
   "source": [
    "### Гиперпараметры"
   ]
  },
  {
   "cell_type": "code",
   "execution_count": 4,
   "metadata": {},
   "outputs": [
    {
     "name": "stderr",
     "output_type": "stream",
     "text": [
      "[I 2024-03-28 14:25:44,774] A new study created in memory with name: no-name-99e867e0-3f5d-4e66-9ffb-556c22e35d2d\n"
     ]
    },
    {
     "name": "stdout",
     "output_type": "stream",
     "text": [
      "Results will be saved in: hyperopt_5\n"
     ]
    },
    {
     "name": "stderr",
     "output_type": "stream",
     "text": [
      "/home/sergei/app/anaconda3/envs/ml/lib/python3.10/site-packages/pytorch_lightning/core/module.py:507: You called `self.log('val_loss', ..., logger=True)` but have no logger configured. You can enable one by doing `Trainer(logger=ALogger(...))`\n",
      "/home/sergei/app/anaconda3/envs/ml/lib/python3.10/site-packages/pytorch_lightning/core/module.py:507: You called `self.log('train_loss', ..., logger=True)` but have no logger configured. You can enable one by doing `Trainer(logger=ALogger(...))`\n",
      "[I 2024-03-28 14:25:52,461] Trial 0 finished with value: 0.20659950375556946 and parameters: {'num_preprocess_layers': 9, 'num_postprocess_layers': 2, 'preprocess_size': 128, 'postprocess_size': 128, 'num_heads_0': 16, 'num_heads_1': 18, 'dropout_rate_0': 0.01, 'dropout_rate_1': 0.01, 'dropout_rate_2': 0.01, 'dropout_rate_3': 0.01, 'dropout_rate_4': 0.01, 'dropout_rate_5': 0.01, 'dropout_rate_6': 0.01, 'dropout_rate_7': 0.01, 'dropout_rate_8': 0.01, 'dropout_rate_9': 0.01, 'dropout_rate_10': 0.01, 'dropout_rate_11': 0.01, 'dropout_rate_12': 0.01, 'use_batch_norm_0': True, 'use_batch_norm_1': True, 'use_batch_norm_2': True, 'use_batch_norm_3': True, 'use_batch_norm_4': True, 'use_batch_norm_5': True, 'use_batch_norm_6': True, 'use_batch_norm_7': True, 'use_batch_norm_8': True, 'use_batch_norm_9': True, 'use_batch_norm_10': True, 'use_batch_norm_11': True, 'use_batch_norm_12': True, 'alpha': 0.25239782450815773}. Best is trial 0 with value: 0.20659950375556946.\n",
      "[W 2024-03-28 14:26:07,321] Trial 1 failed with parameters: {'num_preprocess_layers': 9, 'num_postprocess_layers': 2, 'preprocess_size': 128, 'postprocess_size': 128, 'num_heads_0': 16, 'num_heads_1': 18, 'dropout_rate_0': 0.01, 'dropout_rate_1': 0.01, 'dropout_rate_2': 0.01, 'dropout_rate_3': 0.01, 'dropout_rate_4': 0.01, 'dropout_rate_5': 0.01, 'dropout_rate_6': 0.01, 'dropout_rate_7': 0.01, 'dropout_rate_8': 0.01, 'dropout_rate_9': 0.01, 'dropout_rate_10': 0.01, 'dropout_rate_11': 0.01, 'dropout_rate_12': 0.01, 'use_batch_norm_0': True, 'use_batch_norm_1': True, 'use_batch_norm_2': True, 'use_batch_norm_3': True, 'use_batch_norm_4': True, 'use_batch_norm_5': True, 'use_batch_norm_6': True, 'use_batch_norm_7': True, 'use_batch_norm_8': True, 'use_batch_norm_9': True, 'use_batch_norm_10': True, 'use_batch_norm_11': True, 'use_batch_norm_12': True, 'alpha': 0.24286568540815237} because of the following error: FileNotFoundError(2, 'No such file or directory').\n",
      "Traceback (most recent call last):\n",
      "  File \"/home/sergei/app/anaconda3/envs/ml/lib/python3.10/site-packages/optuna/study/_optimize.py\", line 200, in _run_trial\n",
      "    value_or_values = func(trial)\n",
      "  File \"/tmp/ipykernel_846764/4003078746.py\", line 76, in objective\n",
      "    save_trial_to_csv(trial, hyperopt_dir, val_loss)\n",
      "  File \"/home/sergei/Documents/gat/utils/train.py\", line 50, in save_trial_to_csv\n",
      "    with open(csv_path, 'a', newline='') as csvfile:\n",
      "FileNotFoundError: [Errno 2] No such file or directory: 'hyperopt_5/optuna_results.csv'\n",
      "[W 2024-03-28 14:26:07,322] Trial 1 failed with value None.\n",
      "\n",
      "KeyboardInterrupt\n",
      "\n"
     ]
    }
   ],
   "source": [
    "import optuna\n",
    "\n",
    "def objective(trial):\n",
    "\n",
    "    try:\n",
    "\n",
    "        num_preprocess_layers = trial.suggest_int('num_preprocess_layers', 9, 9)\n",
    "        num_postprocess_layers = trial.suggest_int('num_postprocess_layers', 2, 2)\n",
    "        \n",
    "        preprocess_size = trial.suggest_categorical('preprocess_size', [128])\n",
    "        postprocess_size = trial.suggest_categorical('postprocess_size', [128])\n",
    "        \n",
    "        preprocess_hidden_features = [preprocess_size] * num_preprocess_layers\n",
    "        postprocess_hidden_features = [postprocess_size] * num_postprocess_layers\n",
    "\n",
    "        num_heads = [trial.suggest_int(f'num_heads_{i}', 16, 20, step=2) for i in range(2)]\n",
    "\n",
    "        activation_fns = [nn.PReLU, nn.PReLU, nn.PReLU, nn.PReLU, nn.PReLU, nn.PReLU, nn.PReLU, nn.PReLU, nn.PReLU, nn.PReLU, nn.PReLU, nn.PReLU, nn.PReLU]\n",
    "        dropout_rates = [trial.suggest_float(f'dropout_rate_{i}', 0.01, 0.01) for i in range(num_preprocess_layers + 2 + num_postprocess_layers)]\n",
    "        use_batch_norm = [trial.suggest_categorical(f'use_batch_norm_{i}', [True]) for i in range(num_preprocess_layers + 2 + num_postprocess_layers)]\n",
    "        learning_rate = 2.2e-5\n",
    "        weight_decay = 3e-5\n",
    "        step_size = 80\n",
    "        gamma = 0.2\n",
    "        batch_size = 64\n",
    "\n",
    "        #learning_rate = trial.suggest_float('learning_rate', 1e-6, 1e-3, log=True)\n",
    "        #weight_decay = trial.suggest_float('weight_decay', 1e-6, 1e-3, log=True)\n",
    "        #step_size = trial.suggest_int('step_size', 10, 200, step=10)\n",
    "        #gamma = trial.suggest_float('gamma', 0.1, 0.9)\n",
    "        #batch_size = trial.suggest_int('batch_size', 64, 128, step=64)\n",
    "\n",
    "        alpha = trial.suggest_float('alpha', 0.01, 0.4)\n",
    "\n",
    "        activation_fn = nn.PReLU(num_parameters=1, init=alpha)\n",
    "\n",
    "        # Создание модели с переменными гиперпараметрами\n",
    "        model = MoleculeModel(\n",
    "            atom_in_features=in_features,\n",
    "            edge_in_features=edge_attr_dim,\n",
    "            preprocess_hidden_features=preprocess_hidden_features,\n",
    "            num_heads=num_heads,\n",
    "            dropout_rates=dropout_rates,\n",
    "            activation_fns=activation_fns,\n",
    "            use_batch_norm=use_batch_norm,\n",
    "            postprocess_hidden_features=postprocess_hidden_features,\n",
    "            out_features=1,\n",
    "            optimizer_class=Lion,\n",
    "            learning_rate=learning_rate,\n",
    "            weight_decay=weight_decay,\n",
    "            step_size=step_size,\n",
    "            gamma=gamma,\n",
    "            batch_size=batch_size,\n",
    "            metric='rmse'\n",
    "        )\n",
    "\n",
    "        # Обучение модели\n",
    "        data_module = MoleculeDataModule(molecule_dataset, batch_size=128, num_workers=num_workers)\n",
    "        early_stop_callback = EarlyStopping(monitor=\"val_loss\", patience=patience, mode=\"min\")\n",
    "\n",
    "        trainer = pl.Trainer(\n",
    "            max_epochs=max_epochs,\n",
    "            devices=1,\n",
    "            accelerator='gpu',\n",
    "            logger=False,\n",
    "            enable_progress_bar=False,\n",
    "            enable_checkpointing=False,\n",
    "            enable_model_summary=False,\n",
    "            \n",
    "            callbacks=[early_stop_callback]\n",
    "        )\n",
    "        trainer.fit(model, data_module)\n",
    "\n",
    "        val_loss = trainer.callback_metrics[\"val_loss\"].item()\n",
    "\n",
    "        save_trial_to_csv(trial, hyperopt_dir, val_loss)\n",
    "\n",
    "    except RuntimeError as e:\n",
    "        if 'CUDA out of memory' in str(e):\n",
    "            print(\"CUDA out of memory. Skipping this trial.\")\n",
    "            return float('inf')\n",
    "        raise  \n",
    "\n",
    "    return val_loss\n",
    "\n",
    "torch.set_float32_matmul_precision('medium')\n",
    "\n",
    "hyperopt_dir = create_hyperopt_dir()\n",
    "print(f\"Results will be saved in: {hyperopt_dir}\")\n",
    "\n",
    "study = optuna.create_study(direction='minimize', pruner=optuna.pruners.SuccessiveHalvingPruner())\n",
    "\n",
    "study.optimize(objective, n_trials=100)\n",
    "\n",
    "print(f'Best trial: {study.best_trial.number}')\n",
    "print(f'Best value (RMSE): {study.best_trial.value}')\n",
    "for key, value in study.best_trial.params.items():\n",
    "    print(f'{key}: {value}')\n"
   ]
  }
 ],
 "metadata": {
  "kernelspec": {
   "display_name": "torch_geom_2",
   "language": "python",
   "name": "python3"
  },
  "language_info": {
   "codemirror_mode": {
    "name": "ipython",
    "version": 3
   },
   "file_extension": ".py",
   "mimetype": "text/x-python",
   "name": "python",
   "nbconvert_exporter": "python",
   "pygments_lexer": "ipython3",
   "version": "3.10.13"
  }
 },
 "nbformat": 4,
 "nbformat_minor": 2
}
