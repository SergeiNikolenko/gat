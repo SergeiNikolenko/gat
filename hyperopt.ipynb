{
 "cells": [
  {
   "cell_type": "code",
   "execution_count": 1,
   "metadata": {},
   "outputs": [
    {
     "name": "stdout",
     "output_type": "stream",
     "text": [
      "cuda True\n",
      "NVIDIA GeForce RTX 2080 SUPER\n"
     ]
    }
   ],
   "source": [
    "import os\n",
    "import pandas as pd\n",
    "import numpy as np\n",
    "import csv\n",
    "\n",
    "from rdkit import Chem\n",
    "\n",
    "import optuna\n",
    "from optuna.pruners import SuccessiveHalvingPruner\n",
    "\n",
    "import torch\n",
    "import torch.nn as nn\n",
    "import torch.nn.functional as F\n",
    "import pytorch_lightning as pl\n",
    "from pytorch_lightning.callbacks import EarlyStopping\n",
    "\n",
    "\n",
    "from torch_geometric.nn import GATv2Conv, GCNConv\n",
    "from torch_scatter import scatter_mean\n",
    "\n",
    "from lion_pytorch import Lion\n",
    "\n",
    "print(\"cuda\", torch.cuda.is_available())  \n",
    "print(torch.cuda.get_device_name(0)) \n",
    "\n",
    "import warnings\n",
    "warnings.filterwarnings(\"ignore\", category=UserWarning, module=\"pytorch_lightning.trainer.connectors.data_connector\")\n",
    "warnings.filterwarnings(\"ignore\", category=UserWarning, module=\"lightning_fabric.plugins.environments.slurm\")\n",
    "\n",
    "torch.cuda.empty_cache()\n",
    "\n",
    "from utils.train import MoleculeModel, MoleculeDataModule\n",
    "from utils.prepare import load_dataset\n"
   ]
  },
  {
   "cell_type": "code",
   "execution_count": 2,
   "metadata": {},
   "outputs": [],
   "source": [
    "class GATv2Model(nn.Module):\n",
    "    def __init__(self, atom_in_features, edge_in_features, hidden_features, out_features, num_heads, dropout_rate, activation_fn):\n",
    "        super(GATv2Model, self).__init__()\n",
    "\n",
    "        self.atom_preprocess = nn.Linear(atom_in_features, hidden_features)\n",
    "        self.edge_preprocess = nn.Linear(edge_in_features, hidden_features)\n",
    "\n",
    "        # Слой для обработки атомных сообщений\n",
    "        self.atom_message_layer = nn.Sequential(\n",
    "            nn.Linear(hidden_features, hidden_features),\n",
    "            nn.BatchNorm1d(hidden_features),\n",
    "            activation_fn,\n",
    "            nn.Dropout(dropout_rate)\n",
    "        )\n",
    "\n",
    "        self.gat_conv = GATv2Conv(\n",
    "            in_channels=hidden_features * 2,\n",
    "            out_channels=hidden_features,\n",
    "            heads=num_heads,\n",
    "            dropout=dropout_rate,\n",
    "            concat=True\n",
    "        )\n",
    "\n",
    "        self.bn = nn.BatchNorm1d(hidden_features * num_heads)\n",
    "        self.activation = activation_fn\n",
    "        self.dropout = nn.Dropout(dropout_rate)\n",
    "\n",
    "        self.postprocess = nn.Sequential(\n",
    "            nn.Linear(hidden_features * num_heads, hidden_features),\n",
    "            nn.BatchNorm1d(hidden_features),\n",
    "            activation_fn,\n",
    "            nn.Dropout(dropout_rate),\n",
    "            nn.Linear(hidden_features, out_features)\n",
    "        )\n",
    "\n",
    "    def forward(self, x, edge_index, edge_attr):\n",
    "        atom_features = self.atom_preprocess(x)\n",
    "        edge_features = self.edge_preprocess(edge_attr)\n",
    "\n",
    "\n",
    "        row, col = edge_index\n",
    "        agg_edge_features = scatter_mean(edge_features, col, dim=0, dim_size=x.size(0))\n",
    "        atom_messages = self.atom_message_layer(atom_features + agg_edge_features)\n",
    "\n",
    "        # Использование атомных сообщений вместе с признаками атомов\n",
    "        combined_features = torch.cat([atom_messages, agg_edge_features], dim=1)\n",
    "\n",
    "        combined_features = self.gat_conv(combined_features, edge_index)\n",
    "        combined_features = self.bn(combined_features)\n",
    "        combined_features = self.activation(combined_features)\n",
    "        combined_features = self.dropout(combined_features)\n",
    "\n",
    "        out = self.postprocess(combined_features).squeeze(-1)\n",
    "        return out\n"
   ]
  },
  {
   "cell_type": "code",
   "execution_count": 3,
   "metadata": {},
   "outputs": [],
   "source": [
    "def create_hyperopt_dir(base_dir='hyperopt_'):\n",
    "    idx = 1\n",
    "    while True:\n",
    "        dir_name = f\"{base_dir}{idx}\"\n",
    "        if not os.path.exists(dir_name):\n",
    "            os.makedirs(dir_name)\n",
    "            return dir_name\n",
    "        idx += 1\n",
    "\n",
    "\n",
    "def save_trial_to_csv(trial, hyperopt_dir, trial_value):\n",
    "    csv_path = os.path.join(hyperopt_dir, 'optuna_results.csv')\n",
    "    with open(csv_path, 'a', newline='') as csvfile:\n",
    "        writer = csv.writer(csvfile)\n",
    "        if os.path.getsize(csv_path) == 0:  \n",
    "            headers = ['Trial'] + ['Value'] + [key for key in trial.params.keys()]\n",
    "            writer.writerow(headers)\n",
    "        row = [trial.number] + [trial_value] + list(trial.params.values())\n",
    "        writer.writerow(row)\n",
    "\n"
   ]
  },
  {
   "cell_type": "code",
   "execution_count": 4,
   "metadata": {},
   "outputs": [
    {
     "name": "stdout",
     "output_type": "stream",
     "text": [
      "MoleculeDataset(136219)\n",
      "Data(x=[31, 133], edge_index=[2, 64], edge_attr=[64, 14], y=[31], smiles='CNC(=S)N/N=C/c1c(O)ccc2ccccc12')\n",
      "Shape of atom features (x): torch.Size([31, 133])\n",
      "Shape of edge index: torch.Size([2, 64])\n",
      "Shape of edge attr: torch.Size([64, 14])\n",
      "Target value (y): tensor([-0.0756, -0.1880,  0.1527, -0.9194, -0.1204, -0.2333, -0.0461, -0.1620,\n",
      "         0.1055, -0.4826, -0.1695, -0.1810, -0.0448, -0.1405, -0.1686, -0.1502,\n",
      "        -0.1488, -0.0190,  0.0474,  0.0435,  0.0400,  0.2173,  0.2133,  0.0341,\n",
      "         0.1984,  0.0413,  0.0254,  0.0345,  0.0283,  0.0312,  0.0369])\n",
      "Shape of target value: torch.Size([31])\n",
      "Number of atoms in the molecule: 31\n",
      "Number of bonds in the molecule: 32\n"
     ]
    }
   ],
   "source": [
    "molecule_dataset = load_dataset(\"../data/QM_137k.pt\")"
   ]
  },
  {
   "cell_type": "code",
   "execution_count": 5,
   "metadata": {},
   "outputs": [],
   "source": [
    "num_workers = 8\n",
    "in_features = molecule_dataset[0].x.shape[1]\n",
    "edge_attr_dim = molecule_dataset[0].edge_attr.shape[1]\n",
    "max_epochs = 250\n",
    "patience = 25"
   ]
  },
  {
   "cell_type": "code",
   "execution_count": 7,
   "metadata": {},
   "outputs": [
    {
     "name": "stderr",
     "output_type": "stream",
     "text": [
      "[I 2024-03-15 12:47:17,652] A new study created in memory with name: no-name-a5285952-feab-4be4-a150-26cfee593386\n",
      "GPU available: True (cuda), used: True\n",
      "TPU available: False, using: 0 TPU cores\n",
      "IPU available: False, using: 0 IPUs\n",
      "HPU available: False, using: 0 HPUs\n"
     ]
    },
    {
     "name": "stdout",
     "output_type": "stream",
     "text": [
      "Results will be saved in: hyperopt_3\n"
     ]
    },
    {
     "name": "stderr",
     "output_type": "stream",
     "text": [
      "LOCAL_RANK: 0 - CUDA_VISIBLE_DEVICES: [0]\n"
     ]
    }
   ],
   "source": [
    "def objective(trial):\n",
    "    hidden_features = trial.suggest_int('hidden_features', 32, 512, log=True)\n",
    "    num_heads = trial.suggest_int('num_heads', 1, 12)\n",
    "    dropout_rate = trial.suggest_float('dropout_rate', 0.0, 0.6)\n",
    "    learning_rate = trial.suggest_float('learning_rate', 1e-5, 1e-2, log=True)\n",
    "    weight_decay = trial.suggest_float('weight_decay', 1e-5, 1e-3, log=True)\n",
    "    step_size = trial.suggest_int('step_size', 10, 100)\n",
    "    gamma = trial.suggest_float('gamma', 0.1, 0.9)\n",
    "    batch_size = trial.suggest_int('batch_size', 32, 512, step=16)\n",
    "    activation_fn = nn.ReLU()\n",
    "\n",
    "    data_module = MoleculeDataModule(molecule_dataset, batch_size=batch_size, num_workers=num_workers)\n",
    "\n",
    "    base_model = GATv2Model(\n",
    "        atom_in_features=in_features,\n",
    "        hidden_features=hidden_features,\n",
    "        out_features=1,\n",
    "        num_heads=num_heads,\n",
    "        dropout_rate=dropout_rate,\n",
    "        activation_fn=activation_fn,\n",
    "        edge_in_features=edge_attr_dim\n",
    "        )\n",
    "\n",
    "    model = MoleculeModel(\n",
    "        base_model=base_model,\n",
    "        optimizer_class=Lion,\n",
    "        learning_rate=learning_rate,\n",
    "        weight_decay=weight_decay,\n",
    "        step_size=step_size,\n",
    "        gamma=gamma,\n",
    "        batch_size=batch_size,\n",
    "        metric='rmse'  \n",
    "    )\n",
    "\n",
    "    early_stop_callback = EarlyStopping(monitor='val_loss', patience=patience, verbose=False, mode='min')\n",
    "\n",
    "    trainer = pl.Trainer(\n",
    "        max_epochs=max_epochs,\n",
    "        devices=1,  \n",
    "        accelerator='gpu',\n",
    "        logger=False,\n",
    "        enable_progress_bar=False,\n",
    "        enable_model_summary=False,\n",
    "        enable_checkpointing=False,\n",
    "        callbacks=[early_stop_callback]\n",
    "    )\n",
    "\n",
    "\n",
    "    trainer.fit(model, data_module)\n",
    "\n",
    "    val_loss = trainer.callback_metrics[\"val_loss\"].item()\n",
    "    trial_value = torch.sqrt(torch.tensor(val_loss))\n",
    "\n",
    "    save_trial_to_csv(trial, hyperopt_dir, trial_value.item())\n",
    "\n",
    "    return trial_value.item()\n",
    "\n",
    "hyperopt_dir = create_hyperopt_dir()\n",
    "print(f\"Results will be saved in: {hyperopt_dir}\")\n",
    "\n",
    "pruner = SuccessiveHalvingPruner()\n",
    "\n",
    "study = optuna.create_study(direction='minimize', pruner=pruner)\n",
    "study.optimize(objective, n_trials=100)\n",
    "\n",
    "print(f'Best trial: {study.best_trial.number}')\n",
    "print(f'Best value (RMSE): {study.best_trial.value}')\n",
    "for key, value in study.best_trial.params.items():\n",
    "    print(f'{key}: {value}')\n"
   ]
  }
 ],
 "metadata": {
  "kernelspec": {
   "display_name": "torch_geom_2",
   "language": "python",
   "name": "python3"
  },
  "language_info": {
   "codemirror_mode": {
    "name": "ipython",
    "version": 3
   },
   "file_extension": ".py",
   "mimetype": "text/x-python",
   "name": "python",
   "nbconvert_exporter": "python",
   "pygments_lexer": "ipython3",
   "version": "3.9.7"
  }
 },
 "nbformat": 4,
 "nbformat_minor": 2
}
