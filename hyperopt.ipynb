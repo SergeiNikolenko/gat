{
 "cells": [
  {
   "cell_type": "code",
   "execution_count": 1,
   "metadata": {},
   "outputs": [
    {
     "name": "stdout",
     "output_type": "stream",
     "text": [
      "cuda True\n",
      "NVIDIA GeForce RTX 3080\n"
     ]
    }
   ],
   "source": [
    "import optuna\n",
    "from optuna.pruners import SuccessiveHalvingPruner\n",
    "\n",
    "import torch\n",
    "import torch.nn as nn\n",
    "\n",
    "import pytorch_lightning as pl\n",
    "from pytorch_lightning.callbacks import EarlyStopping\n",
    "\n",
    "from lion_pytorch import Lion\n",
    "\n",
    "print(\"cuda\", torch.cuda.is_available())  \n",
    "print(torch.cuda.get_device_name(0)) \n",
    "\n",
    "import warnings\n",
    "warnings.filterwarnings(\"ignore\", category=UserWarning, module=\"pytorch_lightning.trainer.connectors.data_connector\")\n",
    "warnings.filterwarnings(\"ignore\", category=UserWarning, module=\"lightning_fabric.plugins.environments.slurm\")\n",
    "\n",
    "torch.cuda.empty_cache()\n",
    "\n",
    "from utils.train import MoleculeModel, MoleculeDataModule, GATv2Model, get_metric, save_trial_to_csv, create_hyperopt_dir\n",
    "from utils.prepare import FeaturizationParameters, MoleculeDataset, MoleculeData\n",
    "\n",
    "import logging\n",
    "\n",
    "logging.getLogger(\"pytorch_lightning\").setLevel(logging.WARNING)\n"
   ]
  },
  {
   "cell_type": "code",
   "execution_count": 2,
   "metadata": {},
   "outputs": [],
   "source": [
    "molecule_dataset = torch.load(\"../data/QM_100.pt\")"
   ]
  },
  {
   "cell_type": "code",
   "execution_count": 3,
   "metadata": {},
   "outputs": [],
   "source": [
    "num_workers = 8\n",
    "in_features = molecule_dataset[0].x.shape[1]\n",
    "edge_attr_dim = molecule_dataset[0].edge_attr.shape[1]\n",
    "max_epochs = 100\n",
    "patience = 5"
   ]
  },
  {
   "cell_type": "markdown",
   "metadata": {},
   "source": [
    "### Гиперпараметры"
   ]
  },
  {
   "cell_type": "code",
   "execution_count": 4,
   "metadata": {},
   "outputs": [
    {
     "name": "stderr",
     "output_type": "stream",
     "text": [
      "[I 2024-03-24 13:04:46,368] A new study created in memory with name: no-name-1911dddc-b2ff-4a83-98f3-bbbe0033fd8e\n"
     ]
    },
    {
     "name": "stdout",
     "output_type": "stream",
     "text": [
      "Results will be saved in: hyperopt_2\n"
     ]
    },
    {
     "name": "stderr",
     "output_type": "stream",
     "text": [
      "[I 2024-03-24 13:04:58,143] Trial 0 finished with value: 0.20607195794582367 and parameters: {'num_preprocess_layers': 9, 'preprocess_layer_0_size': 183, 'preprocess_layer_1_size': 205, 'preprocess_layer_2_size': 207, 'preprocess_layer_3_size': 199, 'preprocess_layer_4_size': 96, 'preprocess_layer_5_size': 80, 'preprocess_layer_6_size': 158, 'preprocess_layer_7_size': 126, 'preprocess_layer_8_size': 214, 'num_postprocess_layers': 2, 'postprocess_layer_0_size': 149, 'postprocess_layer_1_size': 223, 'num_heads_0': 24, 'num_heads_1': 24, 'dropout_rate_0': 0.031962656640796984, 'dropout_rate_1': 0.02956168019603861, 'dropout_rate_2': 0.014682575191738656, 'dropout_rate_3': 0.06398784623336592, 'dropout_rate_4': 0.008140409311788577, 'dropout_rate_5': 0.08135092047468634, 'dropout_rate_6': 0.047936130500189404, 'dropout_rate_7': 0.09579297722132185, 'dropout_rate_8': 0.035816038881370804, 'dropout_rate_9': 0.09592622655042783, 'dropout_rate_10': 0.03769124335553854, 'dropout_rate_11': 0.03194593140661824, 'dropout_rate_12': 0.07451882895643656, 'use_batch_norm_0': True, 'use_batch_norm_1': True, 'use_batch_norm_2': True, 'use_batch_norm_3': True, 'use_batch_norm_4': True, 'use_batch_norm_5': True, 'use_batch_norm_6': True, 'use_batch_norm_7': True, 'use_batch_norm_8': True, 'use_batch_norm_9': True, 'use_batch_norm_10': True, 'use_batch_norm_11': True, 'use_batch_norm_12': True}. Best is trial 0 with value: 0.20607195794582367.\n",
      "[I 2024-03-24 13:05:11,842] Trial 1 finished with value: 0.20636974275112152 and parameters: {'num_preprocess_layers': 9, 'preprocess_layer_0_size': 170, 'preprocess_layer_1_size': 207, 'preprocess_layer_2_size': 68, 'preprocess_layer_3_size': 200, 'preprocess_layer_4_size': 48, 'preprocess_layer_5_size': 183, 'preprocess_layer_6_size': 240, 'preprocess_layer_7_size': 136, 'preprocess_layer_8_size': 218, 'num_postprocess_layers': 2, 'postprocess_layer_0_size': 60, 'postprocess_layer_1_size': 58, 'num_heads_0': 28, 'num_heads_1': 22, 'dropout_rate_0': 0.08229865288966776, 'dropout_rate_1': 0.0550638344173798, 'dropout_rate_2': 0.026696825484715248, 'dropout_rate_3': 0.06306181161929647, 'dropout_rate_4': 0.03141238198070474, 'dropout_rate_5': 0.004123922621945664, 'dropout_rate_6': 0.06126903213791776, 'dropout_rate_7': 0.03376156284557848, 'dropout_rate_8': 0.0695969926346711, 'dropout_rate_9': 0.04638887221553424, 'dropout_rate_10': 0.005338484292403834, 'dropout_rate_11': 0.01383016866878034, 'dropout_rate_12': 0.07603548517451275, 'use_batch_norm_0': True, 'use_batch_norm_1': True, 'use_batch_norm_2': True, 'use_batch_norm_3': True, 'use_batch_norm_4': True, 'use_batch_norm_5': True, 'use_batch_norm_6': True, 'use_batch_norm_7': True, 'use_batch_norm_8': True, 'use_batch_norm_9': True, 'use_batch_norm_10': True, 'use_batch_norm_11': True, 'use_batch_norm_12': True}. Best is trial 0 with value: 0.20607195794582367.\n",
      "[I 2024-03-24 13:05:20,787] Trial 2 finished with value: 0.22640372812747955 and parameters: {'num_preprocess_layers': 9, 'preprocess_layer_0_size': 121, 'preprocess_layer_1_size': 263, 'preprocess_layer_2_size': 184, 'preprocess_layer_3_size': 115, 'preprocess_layer_4_size': 126, 'preprocess_layer_5_size': 214, 'preprocess_layer_6_size': 225, 'preprocess_layer_7_size': 268, 'preprocess_layer_8_size': 88, 'num_postprocess_layers': 2, 'postprocess_layer_0_size': 84, 'postprocess_layer_1_size': 64, 'num_heads_0': 28, 'num_heads_1': 16, 'dropout_rate_0': 0.0691038856925786, 'dropout_rate_1': 0.01589722161098177, 'dropout_rate_2': 0.03436208949524714, 'dropout_rate_3': 0.041563190780201154, 'dropout_rate_4': 0.040530689454026506, 'dropout_rate_5': 0.05915657914553645, 'dropout_rate_6': 0.08408046929550078, 'dropout_rate_7': 0.020080393392504392, 'dropout_rate_8': 0.025577123272296234, 'dropout_rate_9': 0.07602310004134517, 'dropout_rate_10': 0.08341793285601955, 'dropout_rate_11': 0.0464148364694462, 'dropout_rate_12': 0.0704267733692203, 'use_batch_norm_0': True, 'use_batch_norm_1': True, 'use_batch_norm_2': True, 'use_batch_norm_3': True, 'use_batch_norm_4': True, 'use_batch_norm_5': True, 'use_batch_norm_6': True, 'use_batch_norm_7': True, 'use_batch_norm_8': True, 'use_batch_norm_9': True, 'use_batch_norm_10': True, 'use_batch_norm_11': True, 'use_batch_norm_12': True}. Best is trial 0 with value: 0.20607195794582367.\n",
      "[I 2024-03-24 13:06:06,017] Trial 3 finished with value: 0.2059779018163681 and parameters: {'num_preprocess_layers': 9, 'preprocess_layer_0_size': 109, 'preprocess_layer_1_size': 147, 'preprocess_layer_2_size': 174, 'preprocess_layer_3_size': 266, 'preprocess_layer_4_size': 242, 'preprocess_layer_5_size': 198, 'preprocess_layer_6_size': 209, 'preprocess_layer_7_size': 35, 'preprocess_layer_8_size': 101, 'num_postprocess_layers': 2, 'postprocess_layer_0_size': 196, 'postprocess_layer_1_size': 77, 'num_heads_0': 26, 'num_heads_1': 26, 'dropout_rate_0': 0.0866255556703195, 'dropout_rate_1': 0.08985521484774539, 'dropout_rate_2': 0.05520895705857646, 'dropout_rate_3': 0.04877032019917826, 'dropout_rate_4': 0.09882156056461294, 'dropout_rate_5': 0.06717476302328901, 'dropout_rate_6': 0.08531773517349198, 'dropout_rate_7': 0.07285171256771834, 'dropout_rate_8': 0.004144019304796443, 'dropout_rate_9': 0.07723950350152696, 'dropout_rate_10': 0.006708325920074432, 'dropout_rate_11': 0.02282103072440105, 'dropout_rate_12': 0.037408045718794324, 'use_batch_norm_0': True, 'use_batch_norm_1': True, 'use_batch_norm_2': True, 'use_batch_norm_3': True, 'use_batch_norm_4': True, 'use_batch_norm_5': True, 'use_batch_norm_6': True, 'use_batch_norm_7': True, 'use_batch_norm_8': True, 'use_batch_norm_9': True, 'use_batch_norm_10': True, 'use_batch_norm_11': True, 'use_batch_norm_12': True}. Best is trial 3 with value: 0.2059779018163681.\n",
      "[I 2024-03-24 13:06:15,750] Trial 4 finished with value: 0.22173626720905304 and parameters: {'num_preprocess_layers': 9, 'preprocess_layer_0_size': 76, 'preprocess_layer_1_size': 76, 'preprocess_layer_2_size': 228, 'preprocess_layer_3_size': 97, 'preprocess_layer_4_size': 239, 'preprocess_layer_5_size': 170, 'preprocess_layer_6_size': 283, 'preprocess_layer_7_size': 106, 'preprocess_layer_8_size': 104, 'num_postprocess_layers': 2, 'postprocess_layer_0_size': 57, 'postprocess_layer_1_size': 90, 'num_heads_0': 18, 'num_heads_1': 16, 'dropout_rate_0': 0.07591335004515964, 'dropout_rate_1': 0.008096853955887873, 'dropout_rate_2': 0.024973837863233185, 'dropout_rate_3': 0.07230038695174586, 'dropout_rate_4': 0.017735838643565805, 'dropout_rate_5': 0.034923424334375584, 'dropout_rate_6': 0.0808217773662437, 'dropout_rate_7': 0.05693292032772636, 'dropout_rate_8': 0.05821934739262696, 'dropout_rate_9': 0.011646327119452616, 'dropout_rate_10': 0.015806803219636466, 'dropout_rate_11': 0.08032875194477893, 'dropout_rate_12': 0.012355081000881197, 'use_batch_norm_0': True, 'use_batch_norm_1': True, 'use_batch_norm_2': True, 'use_batch_norm_3': True, 'use_batch_norm_4': True, 'use_batch_norm_5': True, 'use_batch_norm_6': True, 'use_batch_norm_7': True, 'use_batch_norm_8': True, 'use_batch_norm_9': True, 'use_batch_norm_10': True, 'use_batch_norm_11': True, 'use_batch_norm_12': True}. Best is trial 3 with value: 0.2059779018163681.\n",
      "[I 2024-03-24 13:06:30,931] Trial 5 finished with value: 0.20602110028266907 and parameters: {'num_preprocess_layers': 9, 'preprocess_layer_0_size': 294, 'preprocess_layer_1_size': 261, 'preprocess_layer_2_size': 57, 'preprocess_layer_3_size': 259, 'preprocess_layer_4_size': 73, 'preprocess_layer_5_size': 260, 'preprocess_layer_6_size': 87, 'preprocess_layer_7_size': 163, 'preprocess_layer_8_size': 274, 'num_postprocess_layers': 2, 'postprocess_layer_0_size': 145, 'postprocess_layer_1_size': 176, 'num_heads_0': 18, 'num_heads_1': 16, 'dropout_rate_0': 0.0669273528247288, 'dropout_rate_1': 0.08797359279875473, 'dropout_rate_2': 0.07348633994997245, 'dropout_rate_3': 0.06563629198517713, 'dropout_rate_4': 0.04940707342320268, 'dropout_rate_5': 0.05861922597085681, 'dropout_rate_6': 0.00818851641703865, 'dropout_rate_7': 0.032099496223521776, 'dropout_rate_8': 0.030912475298696077, 'dropout_rate_9': 0.020133199059395035, 'dropout_rate_10': 0.08814451800721335, 'dropout_rate_11': 0.043346996421519235, 'dropout_rate_12': 0.011206807894149485, 'use_batch_norm_0': True, 'use_batch_norm_1': True, 'use_batch_norm_2': True, 'use_batch_norm_3': True, 'use_batch_norm_4': True, 'use_batch_norm_5': True, 'use_batch_norm_6': True, 'use_batch_norm_7': True, 'use_batch_norm_8': True, 'use_batch_norm_9': True, 'use_batch_norm_10': True, 'use_batch_norm_11': True, 'use_batch_norm_12': True}. Best is trial 3 with value: 0.2059779018163681.\n",
      "[I 2024-03-24 13:06:43,976] Trial 6 finished with value: 0.26278015971183777 and parameters: {'num_preprocess_layers': 9, 'preprocess_layer_0_size': 62, 'preprocess_layer_1_size': 256, 'preprocess_layer_2_size': 226, 'preprocess_layer_3_size': 48, 'preprocess_layer_4_size': 281, 'preprocess_layer_5_size': 95, 'preprocess_layer_6_size': 269, 'preprocess_layer_7_size': 60, 'preprocess_layer_8_size': 289, 'num_postprocess_layers': 2, 'postprocess_layer_0_size': 262, 'postprocess_layer_1_size': 232, 'num_heads_0': 16, 'num_heads_1': 32, 'dropout_rate_0': 0.04404665692221136, 'dropout_rate_1': 0.09743389818931815, 'dropout_rate_2': 0.06701681613967325, 'dropout_rate_3': 0.06480650245207029, 'dropout_rate_4': 0.02292029926406244, 'dropout_rate_5': 0.08270481939950078, 'dropout_rate_6': 0.05038268737883226, 'dropout_rate_7': 0.09538982185258496, 'dropout_rate_8': 0.0972249296495814, 'dropout_rate_9': 0.08111729519577204, 'dropout_rate_10': 0.03885764492045079, 'dropout_rate_11': 0.013709184384101271, 'dropout_rate_12': 0.030500988721373315, 'use_batch_norm_0': True, 'use_batch_norm_1': True, 'use_batch_norm_2': True, 'use_batch_norm_3': True, 'use_batch_norm_4': True, 'use_batch_norm_5': True, 'use_batch_norm_6': True, 'use_batch_norm_7': True, 'use_batch_norm_8': True, 'use_batch_norm_9': True, 'use_batch_norm_10': True, 'use_batch_norm_11': True, 'use_batch_norm_12': True}. Best is trial 3 with value: 0.2059779018163681.\n",
      "[I 2024-03-24 13:07:03,314] Trial 7 finished with value: 0.20705537497997284 and parameters: {'num_preprocess_layers': 9, 'preprocess_layer_0_size': 56, 'preprocess_layer_1_size': 49, 'preprocess_layer_2_size': 223, 'preprocess_layer_3_size': 162, 'preprocess_layer_4_size': 39, 'preprocess_layer_5_size': 161, 'preprocess_layer_6_size': 231, 'preprocess_layer_7_size': 83, 'preprocess_layer_8_size': 152, 'num_postprocess_layers': 2, 'postprocess_layer_0_size': 128, 'postprocess_layer_1_size': 302, 'num_heads_0': 26, 'num_heads_1': 28, 'dropout_rate_0': 0.09362814554168447, 'dropout_rate_1': 0.011103353031522845, 'dropout_rate_2': 0.0058913684254773505, 'dropout_rate_3': 0.003447427570923778, 'dropout_rate_4': 0.017445456706538156, 'dropout_rate_5': 0.09620946796038822, 'dropout_rate_6': 0.0613208918569039, 'dropout_rate_7': 0.05662940151589962, 'dropout_rate_8': 0.050861495197026, 'dropout_rate_9': 0.0837389797525067, 'dropout_rate_10': 0.0014975704778963372, 'dropout_rate_11': 0.09808768782206731, 'dropout_rate_12': 0.05889238016511004, 'use_batch_norm_0': True, 'use_batch_norm_1': True, 'use_batch_norm_2': True, 'use_batch_norm_3': True, 'use_batch_norm_4': True, 'use_batch_norm_5': True, 'use_batch_norm_6': True, 'use_batch_norm_7': True, 'use_batch_norm_8': True, 'use_batch_norm_9': True, 'use_batch_norm_10': True, 'use_batch_norm_11': True, 'use_batch_norm_12': True}. Best is trial 3 with value: 0.2059779018163681.\n",
      "[I 2024-03-24 13:07:22,383] Trial 8 finished with value: 0.22023776173591614 and parameters: {'num_preprocess_layers': 9, 'preprocess_layer_0_size': 57, 'preprocess_layer_1_size': 78, 'preprocess_layer_2_size': 75, 'preprocess_layer_3_size': 282, 'preprocess_layer_4_size': 171, 'preprocess_layer_5_size': 110, 'preprocess_layer_6_size': 213, 'preprocess_layer_7_size': 139, 'preprocess_layer_8_size': 323, 'num_postprocess_layers': 2, 'postprocess_layer_0_size': 182, 'postprocess_layer_1_size': 189, 'num_heads_0': 26, 'num_heads_1': 20, 'dropout_rate_0': 0.09773302056532912, 'dropout_rate_1': 0.05036951347473476, 'dropout_rate_2': 0.050929865524486986, 'dropout_rate_3': 0.0736291345832288, 'dropout_rate_4': 0.07715859038834612, 'dropout_rate_5': 0.0470590465103996, 'dropout_rate_6': 0.09327378251973027, 'dropout_rate_7': 0.03558491410257846, 'dropout_rate_8': 0.01334925297943781, 'dropout_rate_9': 0.08985773590809797, 'dropout_rate_10': 0.002884148318964264, 'dropout_rate_11': 0.07151243822050224, 'dropout_rate_12': 0.06090426906408797, 'use_batch_norm_0': True, 'use_batch_norm_1': True, 'use_batch_norm_2': True, 'use_batch_norm_3': True, 'use_batch_norm_4': True, 'use_batch_norm_5': True, 'use_batch_norm_6': True, 'use_batch_norm_7': True, 'use_batch_norm_8': True, 'use_batch_norm_9': True, 'use_batch_norm_10': True, 'use_batch_norm_11': True, 'use_batch_norm_12': True}. Best is trial 3 with value: 0.2059779018163681.\n",
      "[I 2024-03-24 13:08:00,487] Trial 9 finished with value: 0.21172870695590973 and parameters: {'num_preprocess_layers': 9, 'preprocess_layer_0_size': 270, 'preprocess_layer_1_size': 67, 'preprocess_layer_2_size': 224, 'preprocess_layer_3_size': 340, 'preprocess_layer_4_size': 328, 'preprocess_layer_5_size': 205, 'preprocess_layer_6_size': 266, 'preprocess_layer_7_size': 110, 'preprocess_layer_8_size': 112, 'num_postprocess_layers': 2, 'postprocess_layer_0_size': 301, 'postprocess_layer_1_size': 206, 'num_heads_0': 30, 'num_heads_1': 26, 'dropout_rate_0': 0.08387144080942949, 'dropout_rate_1': 0.09097337575179687, 'dropout_rate_2': 0.03254029099683355, 'dropout_rate_3': 0.040282841641676385, 'dropout_rate_4': 0.09993175045817854, 'dropout_rate_5': 0.012631249950519119, 'dropout_rate_6': 0.09353058488321447, 'dropout_rate_7': 0.0626448029816236, 'dropout_rate_8': 0.009019459595210123, 'dropout_rate_9': 0.0762433084912707, 'dropout_rate_10': 0.08106723334034271, 'dropout_rate_11': 0.02947993413831841, 'dropout_rate_12': 0.0015680012231857777, 'use_batch_norm_0': True, 'use_batch_norm_1': True, 'use_batch_norm_2': True, 'use_batch_norm_3': True, 'use_batch_norm_4': True, 'use_batch_norm_5': True, 'use_batch_norm_6': True, 'use_batch_norm_7': True, 'use_batch_norm_8': True, 'use_batch_norm_9': True, 'use_batch_norm_10': True, 'use_batch_norm_11': True, 'use_batch_norm_12': True}. Best is trial 3 with value: 0.2059779018163681.\n",
      "[I 2024-03-24 13:08:25,030] Trial 10 finished with value: 0.21708683669567108 and parameters: {'num_preprocess_layers': 9, 'preprocess_layer_0_size': 223, 'preprocess_layer_1_size': 372, 'preprocess_layer_2_size': 318, 'preprocess_layer_3_size': 363, 'preprocess_layer_4_size': 367, 'preprocess_layer_5_size': 353, 'preprocess_layer_6_size': 338, 'preprocess_layer_7_size': 361, 'preprocess_layer_8_size': 40, 'num_postprocess_layers': 2, 'postprocess_layer_0_size': 349, 'postprocess_layer_1_size': 124, 'num_heads_0': 22, 'num_heads_1': 30, 'dropout_rate_0': 0.0014099305965039957, 'dropout_rate_1': 0.06945146169846089, 'dropout_rate_2': 0.09525661997392793, 'dropout_rate_3': 0.09175775049864873, 'dropout_rate_4': 0.07396721402643024, 'dropout_rate_5': 0.029311826959299098, 'dropout_rate_6': 0.01748035635286771, 'dropout_rate_7': 0.0716245884273314, 'dropout_rate_8': 0.002308930760625605, 'dropout_rate_9': 0.052010743175750246, 'dropout_rate_10': 0.06245750629326714, 'dropout_rate_11': 0.002005184154613246, 'dropout_rate_12': 0.09584966209928197, 'use_batch_norm_0': True, 'use_batch_norm_1': True, 'use_batch_norm_2': True, 'use_batch_norm_3': True, 'use_batch_norm_4': True, 'use_batch_norm_5': True, 'use_batch_norm_6': True, 'use_batch_norm_7': True, 'use_batch_norm_8': True, 'use_batch_norm_9': True, 'use_batch_norm_10': True, 'use_batch_norm_11': True, 'use_batch_norm_12': True}. Best is trial 3 with value: 0.2059779018163681.\n",
      "[I 2024-03-24 13:08:45,563] Trial 11 finished with value: 0.2728687524795532 and parameters: {'num_preprocess_layers': 9, 'preprocess_layer_0_size': 387, 'preprocess_layer_1_size': 151, 'preprocess_layer_2_size': 129, 'preprocess_layer_3_size': 263, 'preprocess_layer_4_size': 198, 'preprocess_layer_5_size': 313, 'preprocess_layer_6_size': 57, 'preprocess_layer_7_size': 225, 'preprocess_layer_8_size': 395, 'num_postprocess_layers': 2, 'postprocess_layer_0_size': 223, 'postprocess_layer_1_size': 384, 'num_heads_0': 20, 'num_heads_1': 20, 'dropout_rate_0': 0.06246389310802142, 'dropout_rate_1': 0.07704122384700447, 'dropout_rate_2': 0.0750599648738493, 'dropout_rate_3': 0.022115792599508077, 'dropout_rate_4': 0.05847674307268694, 'dropout_rate_5': 0.06268684482737201, 'dropout_rate_6': 0.007777998500536301, 'dropout_rate_7': 0.004745966902695645, 'dropout_rate_8': 0.030213215597798524, 'dropout_rate_9': 0.010428055449958708, 'dropout_rate_10': 0.09653997860782683, 'dropout_rate_11': 0.051185199360137046, 'dropout_rate_12': 0.0352524584823377, 'use_batch_norm_0': True, 'use_batch_norm_1': True, 'use_batch_norm_2': True, 'use_batch_norm_3': True, 'use_batch_norm_4': True, 'use_batch_norm_5': True, 'use_batch_norm_6': True, 'use_batch_norm_7': True, 'use_batch_norm_8': True, 'use_batch_norm_9': True, 'use_batch_norm_10': True, 'use_batch_norm_11': True, 'use_batch_norm_12': True}. Best is trial 3 with value: 0.2059779018163681.\n",
      "[W 2024-03-24 13:09:09,501] Trial 12 failed with parameters: {'num_preprocess_layers': 9, 'preprocess_layer_0_size': 316, 'preprocess_layer_1_size': 312, 'preprocess_layer_2_size': 39, 'preprocess_layer_3_size': 316, 'preprocess_layer_4_size': 423, 'preprocess_layer_5_size': 291, 'preprocess_layer_6_size': 78, 'preprocess_layer_7_size': 222, 'preprocess_layer_8_size': 280, 'num_postprocess_layers': 2, 'postprocess_layer_0_size': 206, 'postprocess_layer_1_size': 139, 'num_heads_0': 32, 'num_heads_1': 26, 'dropout_rate_0': 0.05270338640805406, 'dropout_rate_1': 0.07930958034201513, 'dropout_rate_2': 0.06241116793254112, 'dropout_rate_3': 0.09660817035380365, 'dropout_rate_4': 0.05429040227053713, 'dropout_rate_5': 0.07293177786285877, 'dropout_rate_6': 0.028396582304328555, 'dropout_rate_7': 0.07762812814083717, 'dropout_rate_8': 0.02194546359337396, 'dropout_rate_9': 0.032986917056805495, 'dropout_rate_10': 0.058713152094278985, 'dropout_rate_11': 0.046478291132967295, 'dropout_rate_12': 0.030253026615290647, 'use_batch_norm_0': True, 'use_batch_norm_1': True, 'use_batch_norm_2': True, 'use_batch_norm_3': True, 'use_batch_norm_4': True, 'use_batch_norm_5': True, 'use_batch_norm_6': True, 'use_batch_norm_7': True, 'use_batch_norm_8': True, 'use_batch_norm_9': True, 'use_batch_norm_10': True, 'use_batch_norm_11': True, 'use_batch_norm_12': True} because of the following error: FileNotFoundError(2, 'No such file or directory').\n",
      "Traceback (most recent call last):\n",
      "  File \"/home/sergei/app/anaconda3/envs/ml/lib/python3.10/site-packages/optuna/study/_optimize.py\", line 200, in _run_trial\n",
      "    value_or_values = func(trial)\n",
      "  File \"/tmp/ipykernel_3122418/3108810784.py\", line 91, in objective\n",
      "    save_trial_to_csv(trial, hyperopt_dir, val_loss)\n",
      "  File \"/home/sergei/Documents/gat/utils/train.py\", line 50, in save_trial_to_csv\n",
      "    with open(csv_path, 'a', newline='') as csvfile:\n",
      "FileNotFoundError: [Errno 2] No such file or directory: 'hyperopt_2/optuna_results.csv'\n",
      "[W 2024-03-24 13:09:09,502] Trial 12 failed with value None.\n"
     ]
    },
    {
     "ename": "FileNotFoundError",
     "evalue": "[Errno 2] No such file or directory: 'hyperopt_2/optuna_results.csv'",
     "output_type": "error",
     "traceback": [
      "\u001b[0;31m---------------------------------------------------------------------------\u001b[0m",
      "\u001b[0;31mFileNotFoundError\u001b[0m                         Traceback (most recent call last)",
      "\u001b[1;32m/home/sergei/Documents/gat/hyperopt.ipynb Cell 5\u001b[0m line \u001b[0;36m1\n\u001b[1;32m    <a href='vscode-notebook-cell://ssh-remote%2Bcomputer/home/sergei/Documents/gat/hyperopt.ipynb#W4sdnNjb2RlLXJlbW90ZQ%3D%3D?line=103'>104</a>\u001b[0m \u001b[39mprint\u001b[39m(\u001b[39mf\u001b[39m\u001b[39m\"\u001b[39m\u001b[39mResults will be saved in: \u001b[39m\u001b[39m{\u001b[39;00mhyperopt_dir\u001b[39m}\u001b[39;00m\u001b[39m\"\u001b[39m)\n\u001b[1;32m    <a href='vscode-notebook-cell://ssh-remote%2Bcomputer/home/sergei/Documents/gat/hyperopt.ipynb#W4sdnNjb2RlLXJlbW90ZQ%3D%3D?line=105'>106</a>\u001b[0m study \u001b[39m=\u001b[39m optuna\u001b[39m.\u001b[39mcreate_study(direction\u001b[39m=\u001b[39m\u001b[39m'\u001b[39m\u001b[39mminimize\u001b[39m\u001b[39m'\u001b[39m, pruner\u001b[39m=\u001b[39moptuna\u001b[39m.\u001b[39mpruners\u001b[39m.\u001b[39mSuccessiveHalvingPruner())\n\u001b[0;32m--> <a href='vscode-notebook-cell://ssh-remote%2Bcomputer/home/sergei/Documents/gat/hyperopt.ipynb#W4sdnNjb2RlLXJlbW90ZQ%3D%3D?line=107'>108</a>\u001b[0m study\u001b[39m.\u001b[39;49moptimize(objective, n_trials\u001b[39m=\u001b[39;49m\u001b[39m10000\u001b[39;49m, callbacks\u001b[39m=\u001b[39;49m[adaptive_callback])\n\u001b[1;32m    <a href='vscode-notebook-cell://ssh-remote%2Bcomputer/home/sergei/Documents/gat/hyperopt.ipynb#W4sdnNjb2RlLXJlbW90ZQ%3D%3D?line=109'>110</a>\u001b[0m \u001b[39mprint\u001b[39m(\u001b[39mf\u001b[39m\u001b[39m'\u001b[39m\u001b[39mBest trial: \u001b[39m\u001b[39m{\u001b[39;00mstudy\u001b[39m.\u001b[39mbest_trial\u001b[39m.\u001b[39mnumber\u001b[39m}\u001b[39;00m\u001b[39m'\u001b[39m)\n\u001b[1;32m    <a href='vscode-notebook-cell://ssh-remote%2Bcomputer/home/sergei/Documents/gat/hyperopt.ipynb#W4sdnNjb2RlLXJlbW90ZQ%3D%3D?line=110'>111</a>\u001b[0m \u001b[39mprint\u001b[39m(\u001b[39mf\u001b[39m\u001b[39m'\u001b[39m\u001b[39mBest value (RMSE): \u001b[39m\u001b[39m{\u001b[39;00mstudy\u001b[39m.\u001b[39mbest_trial\u001b[39m.\u001b[39mvalue\u001b[39m}\u001b[39;00m\u001b[39m'\u001b[39m)\n",
      "File \u001b[0;32m~/app/anaconda3/envs/ml/lib/python3.10/site-packages/optuna/study/study.py:451\u001b[0m, in \u001b[0;36mStudy.optimize\u001b[0;34m(self, func, n_trials, timeout, n_jobs, catch, callbacks, gc_after_trial, show_progress_bar)\u001b[0m\n\u001b[1;32m    348\u001b[0m \u001b[39mdef\u001b[39;00m \u001b[39moptimize\u001b[39m(\n\u001b[1;32m    349\u001b[0m     \u001b[39mself\u001b[39m,\n\u001b[1;32m    350\u001b[0m     func: ObjectiveFuncType,\n\u001b[0;32m   (...)\u001b[0m\n\u001b[1;32m    357\u001b[0m     show_progress_bar: \u001b[39mbool\u001b[39m \u001b[39m=\u001b[39m \u001b[39mFalse\u001b[39;00m,\n\u001b[1;32m    358\u001b[0m ) \u001b[39m-\u001b[39m\u001b[39m>\u001b[39m \u001b[39mNone\u001b[39;00m:\n\u001b[1;32m    359\u001b[0m \u001b[39m    \u001b[39m\u001b[39m\"\"\"Optimize an objective function.\u001b[39;00m\n\u001b[1;32m    360\u001b[0m \n\u001b[1;32m    361\u001b[0m \u001b[39m    Optimization is done by choosing a suitable set of hyperparameter values from a given\u001b[39;00m\n\u001b[0;32m   (...)\u001b[0m\n\u001b[1;32m    449\u001b[0m \u001b[39m            If nested invocation of this method occurs.\u001b[39;00m\n\u001b[1;32m    450\u001b[0m \u001b[39m    \"\"\"\u001b[39;00m\n\u001b[0;32m--> 451\u001b[0m     _optimize(\n\u001b[1;32m    452\u001b[0m         study\u001b[39m=\u001b[39;49m\u001b[39mself\u001b[39;49m,\n\u001b[1;32m    453\u001b[0m         func\u001b[39m=\u001b[39;49mfunc,\n\u001b[1;32m    454\u001b[0m         n_trials\u001b[39m=\u001b[39;49mn_trials,\n\u001b[1;32m    455\u001b[0m         timeout\u001b[39m=\u001b[39;49mtimeout,\n\u001b[1;32m    456\u001b[0m         n_jobs\u001b[39m=\u001b[39;49mn_jobs,\n\u001b[1;32m    457\u001b[0m         catch\u001b[39m=\u001b[39;49m\u001b[39mtuple\u001b[39;49m(catch) \u001b[39mif\u001b[39;49;00m \u001b[39misinstance\u001b[39;49m(catch, Iterable) \u001b[39melse\u001b[39;49;00m (catch,),\n\u001b[1;32m    458\u001b[0m         callbacks\u001b[39m=\u001b[39;49mcallbacks,\n\u001b[1;32m    459\u001b[0m         gc_after_trial\u001b[39m=\u001b[39;49mgc_after_trial,\n\u001b[1;32m    460\u001b[0m         show_progress_bar\u001b[39m=\u001b[39;49mshow_progress_bar,\n\u001b[1;32m    461\u001b[0m     )\n",
      "File \u001b[0;32m~/app/anaconda3/envs/ml/lib/python3.10/site-packages/optuna/study/_optimize.py:66\u001b[0m, in \u001b[0;36m_optimize\u001b[0;34m(study, func, n_trials, timeout, n_jobs, catch, callbacks, gc_after_trial, show_progress_bar)\u001b[0m\n\u001b[1;32m     64\u001b[0m \u001b[39mtry\u001b[39;00m:\n\u001b[1;32m     65\u001b[0m     \u001b[39mif\u001b[39;00m n_jobs \u001b[39m==\u001b[39m \u001b[39m1\u001b[39m:\n\u001b[0;32m---> 66\u001b[0m         _optimize_sequential(\n\u001b[1;32m     67\u001b[0m             study,\n\u001b[1;32m     68\u001b[0m             func,\n\u001b[1;32m     69\u001b[0m             n_trials,\n\u001b[1;32m     70\u001b[0m             timeout,\n\u001b[1;32m     71\u001b[0m             catch,\n\u001b[1;32m     72\u001b[0m             callbacks,\n\u001b[1;32m     73\u001b[0m             gc_after_trial,\n\u001b[1;32m     74\u001b[0m             reseed_sampler_rng\u001b[39m=\u001b[39;49m\u001b[39mFalse\u001b[39;49;00m,\n\u001b[1;32m     75\u001b[0m             time_start\u001b[39m=\u001b[39;49m\u001b[39mNone\u001b[39;49;00m,\n\u001b[1;32m     76\u001b[0m             progress_bar\u001b[39m=\u001b[39;49mprogress_bar,\n\u001b[1;32m     77\u001b[0m         )\n\u001b[1;32m     78\u001b[0m     \u001b[39melse\u001b[39;00m:\n\u001b[1;32m     79\u001b[0m         \u001b[39mif\u001b[39;00m n_jobs \u001b[39m==\u001b[39m \u001b[39m-\u001b[39m\u001b[39m1\u001b[39m:\n",
      "File \u001b[0;32m~/app/anaconda3/envs/ml/lib/python3.10/site-packages/optuna/study/_optimize.py:163\u001b[0m, in \u001b[0;36m_optimize_sequential\u001b[0;34m(study, func, n_trials, timeout, catch, callbacks, gc_after_trial, reseed_sampler_rng, time_start, progress_bar)\u001b[0m\n\u001b[1;32m    160\u001b[0m         \u001b[39mbreak\u001b[39;00m\n\u001b[1;32m    162\u001b[0m \u001b[39mtry\u001b[39;00m:\n\u001b[0;32m--> 163\u001b[0m     frozen_trial \u001b[39m=\u001b[39m _run_trial(study, func, catch)\n\u001b[1;32m    164\u001b[0m \u001b[39mfinally\u001b[39;00m:\n\u001b[1;32m    165\u001b[0m     \u001b[39m# The following line mitigates memory problems that can be occurred in some\u001b[39;00m\n\u001b[1;32m    166\u001b[0m     \u001b[39m# environments (e.g., services that use computing containers such as GitHub Actions).\u001b[39;00m\n\u001b[1;32m    167\u001b[0m     \u001b[39m# Please refer to the following PR for further details:\u001b[39;00m\n\u001b[1;32m    168\u001b[0m     \u001b[39m# https://github.com/optuna/optuna/pull/325.\u001b[39;00m\n\u001b[1;32m    169\u001b[0m     \u001b[39mif\u001b[39;00m gc_after_trial:\n",
      "File \u001b[0;32m~/app/anaconda3/envs/ml/lib/python3.10/site-packages/optuna/study/_optimize.py:251\u001b[0m, in \u001b[0;36m_run_trial\u001b[0;34m(study, func, catch)\u001b[0m\n\u001b[1;32m    244\u001b[0m         \u001b[39massert\u001b[39;00m \u001b[39mFalse\u001b[39;00m, \u001b[39m\"\u001b[39m\u001b[39mShould not reach.\u001b[39m\u001b[39m\"\u001b[39m\n\u001b[1;32m    246\u001b[0m \u001b[39mif\u001b[39;00m (\n\u001b[1;32m    247\u001b[0m     frozen_trial\u001b[39m.\u001b[39mstate \u001b[39m==\u001b[39m TrialState\u001b[39m.\u001b[39mFAIL\n\u001b[1;32m    248\u001b[0m     \u001b[39mand\u001b[39;00m func_err \u001b[39mis\u001b[39;00m \u001b[39mnot\u001b[39;00m \u001b[39mNone\u001b[39;00m\n\u001b[1;32m    249\u001b[0m     \u001b[39mand\u001b[39;00m \u001b[39mnot\u001b[39;00m \u001b[39misinstance\u001b[39m(func_err, catch)\n\u001b[1;32m    250\u001b[0m ):\n\u001b[0;32m--> 251\u001b[0m     \u001b[39mraise\u001b[39;00m func_err\n\u001b[1;32m    252\u001b[0m \u001b[39mreturn\u001b[39;00m frozen_trial\n",
      "File \u001b[0;32m~/app/anaconda3/envs/ml/lib/python3.10/site-packages/optuna/study/_optimize.py:200\u001b[0m, in \u001b[0;36m_run_trial\u001b[0;34m(study, func, catch)\u001b[0m\n\u001b[1;32m    198\u001b[0m \u001b[39mwith\u001b[39;00m get_heartbeat_thread(trial\u001b[39m.\u001b[39m_trial_id, study\u001b[39m.\u001b[39m_storage):\n\u001b[1;32m    199\u001b[0m     \u001b[39mtry\u001b[39;00m:\n\u001b[0;32m--> 200\u001b[0m         value_or_values \u001b[39m=\u001b[39m func(trial)\n\u001b[1;32m    201\u001b[0m     \u001b[39mexcept\u001b[39;00m exceptions\u001b[39m.\u001b[39mTrialPruned \u001b[39mas\u001b[39;00m e:\n\u001b[1;32m    202\u001b[0m         \u001b[39m# TODO(mamu): Handle multi-objective cases.\u001b[39;00m\n\u001b[1;32m    203\u001b[0m         state \u001b[39m=\u001b[39m TrialState\u001b[39m.\u001b[39mPRUNED\n",
      "\u001b[1;32m/home/sergei/Documents/gat/hyperopt.ipynb Cell 5\u001b[0m line \u001b[0;36m9\n\u001b[1;32m     <a href='vscode-notebook-cell://ssh-remote%2Bcomputer/home/sergei/Documents/gat/hyperopt.ipynb#W4sdnNjb2RlLXJlbW90ZQ%3D%3D?line=86'>87</a>\u001b[0m     trainer\u001b[39m.\u001b[39mfit(model, data_module)\n\u001b[1;32m     <a href='vscode-notebook-cell://ssh-remote%2Bcomputer/home/sergei/Documents/gat/hyperopt.ipynb#W4sdnNjb2RlLXJlbW90ZQ%3D%3D?line=88'>89</a>\u001b[0m     val_loss \u001b[39m=\u001b[39m trainer\u001b[39m.\u001b[39mcallback_metrics[\u001b[39m\"\u001b[39m\u001b[39mval_loss\u001b[39m\u001b[39m\"\u001b[39m]\u001b[39m.\u001b[39mitem()\n\u001b[0;32m---> <a href='vscode-notebook-cell://ssh-remote%2Bcomputer/home/sergei/Documents/gat/hyperopt.ipynb#W4sdnNjb2RlLXJlbW90ZQ%3D%3D?line=90'>91</a>\u001b[0m     save_trial_to_csv(trial, hyperopt_dir, val_loss)\n\u001b[1;32m     <a href='vscode-notebook-cell://ssh-remote%2Bcomputer/home/sergei/Documents/gat/hyperopt.ipynb#W4sdnNjb2RlLXJlbW90ZQ%3D%3D?line=92'>93</a>\u001b[0m \u001b[39mexcept\u001b[39;00m \u001b[39mRuntimeError\u001b[39;00m \u001b[39mas\u001b[39;00m e:\n\u001b[1;32m     <a href='vscode-notebook-cell://ssh-remote%2Bcomputer/home/sergei/Documents/gat/hyperopt.ipynb#W4sdnNjb2RlLXJlbW90ZQ%3D%3D?line=93'>94</a>\u001b[0m     \u001b[39mif\u001b[39;00m \u001b[39m'\u001b[39m\u001b[39mCUDA out of memory\u001b[39m\u001b[39m'\u001b[39m \u001b[39min\u001b[39;00m \u001b[39mstr\u001b[39m(e):\n",
      "File \u001b[0;32m~/Documents/gat/utils/train.py:50\u001b[0m, in \u001b[0;36msave_trial_to_csv\u001b[0;34m(trial, hyperopt_dir, trial_value)\u001b[0m\n\u001b[1;32m     48\u001b[0m \u001b[39mdef\u001b[39;00m \u001b[39msave_trial_to_csv\u001b[39m(trial, hyperopt_dir, trial_value):\n\u001b[1;32m     49\u001b[0m     csv_path \u001b[39m=\u001b[39m os\u001b[39m.\u001b[39mpath\u001b[39m.\u001b[39mjoin(hyperopt_dir, \u001b[39m'\u001b[39m\u001b[39moptuna_results.csv\u001b[39m\u001b[39m'\u001b[39m)\n\u001b[0;32m---> 50\u001b[0m     \u001b[39mwith\u001b[39;00m \u001b[39mopen\u001b[39;49m(csv_path, \u001b[39m'\u001b[39;49m\u001b[39ma\u001b[39;49m\u001b[39m'\u001b[39;49m, newline\u001b[39m=\u001b[39;49m\u001b[39m'\u001b[39;49m\u001b[39m'\u001b[39;49m) \u001b[39mas\u001b[39;00m csvfile:\n\u001b[1;32m     51\u001b[0m         writer \u001b[39m=\u001b[39m csv\u001b[39m.\u001b[39mwriter(csvfile)\n\u001b[1;32m     52\u001b[0m         \u001b[39mif\u001b[39;00m os\u001b[39m.\u001b[39mpath\u001b[39m.\u001b[39mgetsize(csv_path) \u001b[39m==\u001b[39m \u001b[39m0\u001b[39m:  \n",
      "\u001b[0;31mFileNotFoundError\u001b[0m: [Errno 2] No such file or directory: 'hyperopt_2/optuna_results.csv'"
     ]
    }
   ],
   "source": [
    "import optuna\n",
    "\n",
    "def adaptive_callback(study, trial):\n",
    "    completed_trials = study.get_trials(deepcopy=False, states=[optuna.trial.TrialState.COMPLETE])\n",
    "\n",
    "    if len(completed_trials) > 0:\n",
    "        layer_sizes = []\n",
    "        for t in completed_trials:\n",
    "            layer_sizes.extend([t.params[k] for k in t.params.keys() if \"size\" in k])\n",
    "\n",
    "        min_layer_size = min(layer_sizes)\n",
    "        max_layer_size = max(layer_sizes)\n",
    "\n",
    "        study.set_user_attr(\"min_layer_size\", max(32, min_layer_size - 32)) \n",
    "        study.set_user_attr(\"max_layer_size\", min(512, max_layer_size + 32)) \n",
    "\n",
    "def objective(trial):\n",
    "    min_layer_size = trial.study.user_attrs.get(\"min_layer_size\", 64)\n",
    "    max_layer_size = trial.study.user_attrs.get(\"max_layer_size\", 256)\n",
    "\n",
    "    try:\n",
    "\n",
    "\n",
    "        num_preprocess_layers = trial.suggest_int('num_preprocess_layers', 9, 9)\n",
    "        preprocess_hidden_features = [trial.suggest_int(f'preprocess_layer_{i}_size', min_layer_size, max_layer_size) for i in range(num_preprocess_layers)]\n",
    "        \n",
    "        num_postprocess_layers = trial.suggest_int('num_postprocess_layers', 2, 2)\n",
    "        postprocess_hidden_features = [trial.suggest_int(f'postprocess_layer_{i}_size', min_layer_size, max_layer_size) for i in range(num_postprocess_layers)]\n",
    "\n",
    "        num_heads = [trial.suggest_int(f'num_heads_{i}', 16, 32, step=2) for i in range(2)]\n",
    "\n",
    "        dropout_rates = [trial.suggest_float(f'dropout_rate_{i}', 0.0, 0.1) for i in range(num_preprocess_layers + 2 + num_postprocess_layers)]\n",
    "        use_batch_norm = [trial.suggest_categorical(f'use_batch_norm_{i}', [True]) for i in range(num_preprocess_layers + 2 + num_postprocess_layers)]\n",
    "        learning_rate = 2.2e-5\n",
    "        weight_decay = 3e-5\n",
    "        step_size = 80\n",
    "        gamma = 0.2\n",
    "        batch_size = 64\n",
    "\n",
    "        #learning_rate = trial.suggest_float('learning_rate', 1e-6, 1e-3, log=True)\n",
    "        #weight_decay = trial.suggest_float('weight_decay', 1e-6, 1e-3, log=True)\n",
    "        #step_size = trial.suggest_int('step_size', 10, 200, step=10)\n",
    "        #gamma = trial.suggest_float('gamma', 0.1, 0.9)\n",
    "        #batch_size = trial.suggest_int('batch_size', 64, 128, step=64)\n",
    "\n",
    "        # Создание модели с переменными гиперпараметрами\n",
    "        base_model = GATv2Model(\n",
    "            atom_in_features=in_features,\n",
    "            edge_in_features=edge_attr_dim,\n",
    "            num_preprocess_layers=num_preprocess_layers,\n",
    "            preprocess_hidden_features=preprocess_hidden_features,\n",
    "            num_heads=num_heads,\n",
    "            dropout_rates=dropout_rates,\n",
    "            activation_fns=[nn.ReLU for _ in range(len(dropout_rates))],  # ReLU для всех слоев\n",
    "            use_batch_norm=use_batch_norm,\n",
    "            num_postprocess_layers=num_postprocess_layers,\n",
    "            postprocess_hidden_features=postprocess_hidden_features,\n",
    "            out_features=1\n",
    "        )\n",
    "\n",
    "        model = MoleculeModel(\n",
    "            base_model=base_model,\n",
    "            optimizer_class=Lion,\n",
    "            learning_rate=learning_rate,\n",
    "            weight_decay=weight_decay,\n",
    "            step_size=step_size,\n",
    "            gamma=gamma,\n",
    "            batch_size=batch_size,\n",
    "            metric='rmse'\n",
    "        )\n",
    "\n",
    "        # Обучение модели\n",
    "        data_module = MoleculeDataModule(molecule_dataset, batch_size=128, num_workers=num_workers)\n",
    "        early_stop_callback = EarlyStopping(monitor=\"val_loss\", patience=patience, mode=\"min\")\n",
    "\n",
    "        trainer = pl.Trainer(\n",
    "            max_epochs=max_epochs,\n",
    "            devices=1,\n",
    "            accelerator='gpu',\n",
    "            logger=False,\n",
    "            enable_progress_bar=False,\n",
    "            enable_checkpointing=False,\n",
    "            enable_model_summary=False,\n",
    "            \n",
    "            callbacks=[early_stop_callback]\n",
    "        )\n",
    "        trainer.fit(model, data_module)\n",
    "\n",
    "        val_loss = trainer.callback_metrics[\"val_loss\"].item()\n",
    "\n",
    "        save_trial_to_csv(trial, hyperopt_dir, val_loss)\n",
    "\n",
    "    except RuntimeError as e:\n",
    "        if 'CUDA out of memory' in str(e):\n",
    "            print(\"CUDA out of memory. Skipping this trial.\")\n",
    "            return float('inf')\n",
    "        raise  \n",
    "\n",
    "    return val_loss\n",
    "\n",
    "torch.set_float32_matmul_precision('medium')\n",
    "\n",
    "hyperopt_dir = create_hyperopt_dir()\n",
    "print(f\"Results will be saved in: {hyperopt_dir}\")\n",
    "\n",
    "study = optuna.create_study(direction='minimize', pruner=optuna.pruners.SuccessiveHalvingPruner())\n",
    "\n",
    "study.optimize(objective, n_trials=10000, callbacks=[adaptive_callback])\n",
    "\n",
    "print(f'Best trial: {study.best_trial.number}')\n",
    "print(f'Best value (RMSE): {study.best_trial.value}')\n",
    "for key, value in study.best_trial.params.items():\n",
    "    print(f'{key}: {value}')\n"
   ]
  }
 ],
 "metadata": {
  "kernelspec": {
   "display_name": "torch_geom_2",
   "language": "python",
   "name": "python3"
  },
  "language_info": {
   "codemirror_mode": {
    "name": "ipython",
    "version": 3
   },
   "file_extension": ".py",
   "mimetype": "text/x-python",
   "name": "python",
   "nbconvert_exporter": "python",
   "pygments_lexer": "ipython3",
   "version": "3.10.13"
  }
 },
 "nbformat": 4,
 "nbformat_minor": 2
}
