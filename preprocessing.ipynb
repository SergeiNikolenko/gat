{
 "cells": [
  {
   "cell_type": "markdown",
   "metadata": {},
   "source": [
    "# Preprocessing"
   ]
  },
  {
   "cell_type": "code",
   "execution_count": 21,
   "metadata": {},
   "outputs": [],
   "source": [
    "import pandas as pd\n",
    "\n",
    "from utils.prepare import MoleculeDataset, convert_string_to_list, save_dataset, load_dataset"
   ]
  },
  {
   "cell_type": "code",
   "execution_count": 22,
   "metadata": {},
   "outputs": [
    {
     "name": "stderr",
     "output_type": "stream",
     "text": [
      "  1%|▏         | 144/10000 [00:32<13:15, 12.39it/s]"
     ]
    }
   ],
   "source": [
    "data = pd.read_csv('../data/QM_137k.csv', converters={'CDD': convert_string_to_list})"
   ]
  },
  {
   "cell_type": "code",
   "execution_count": 29,
   "metadata": {},
   "outputs": [
    {
     "name": "stderr",
     "output_type": "stream",
     "text": [
      "100%|██████████| 100/100 [00:00<00:00, 2533.82it/s]"
     ]
    },
    {
     "name": "stderr",
     "output_type": "stream",
     "text": [
      "\n"
     ]
    }
   ],
   "source": [
    "dataset = MoleculeDataset(data, smiles_column='smiles', target_column='CDD')"
   ]
  },
  {
   "cell_type": "code",
   "execution_count": 30,
   "metadata": {},
   "outputs": [
    {
     "data": {
      "text/plain": [
       "Data(x=[31, 133], edge_index=[2, 64], edge_attr=[64, 14], y=[31], smiles='CNC(=S)N/N=C/c1c(O)ccc2ccccc12')"
      ]
     },
     "execution_count": 30,
     "metadata": {},
     "output_type": "execute_result"
    }
   ],
   "source": [
    "datapoint = dataset[0]\n",
    "datapoint"
   ]
  },
  {
   "cell_type": "code",
   "execution_count": 31,
   "metadata": {},
   "outputs": [
    {
     "name": "stdout",
     "output_type": "stream",
     "text": [
      "Shape of atom features (x): torch.Size([31, 133])\n",
      "Shape of edge index: torch.Size([2, 64])\n",
      "Shape of edge attr: torch.Size([64, 14])\n",
      "Target value (y): tensor([-0.0756, -0.1880,  0.1527, -0.9194, -0.1204, -0.2333, -0.0461, -0.1620,\n",
      "         0.1055, -0.4826, -0.1695, -0.1810, -0.0448, -0.1405, -0.1686, -0.1502,\n",
      "        -0.1488, -0.0190,  0.0474,  0.0435,  0.0400,  0.2173,  0.2133,  0.0341,\n",
      "         0.1984,  0.0413,  0.0254,  0.0345,  0.0283,  0.0312,  0.0369])\n",
      "Shape of target value: torch.Size([31])\n",
      "Number of atoms in the molecule: 31\n",
      "Number of bonds in the molecule: 32\n"
     ]
    }
   ],
   "source": [
    "print(f\"Shape of atom features (x): {datapoint.x.shape}\")\n",
    "print(f\"Shape of edge index: {datapoint.edge_index.shape}\")\n",
    "print(f\"Shape of edge attr: {datapoint.edge_attr.shape}\")\n",
    "print(f\"Target value (y): {datapoint.y}\")\n",
    "print(f\"Shape of target value: {datapoint.y.shape}\")\n",
    "print(f\"Number of atoms in the molecule: {datapoint.x.size(0)}\")\n",
    "print(f\"Number of bonds in the molecule: {datapoint.edge_index.size(1) // 2}\")"
   ]
  },
  {
   "cell_type": "code",
   "execution_count": 32,
   "metadata": {},
   "outputs": [
    {
     "name": "stdout",
     "output_type": "stream",
     "text": [
      "Датасет успешно сохранен в ../data/QM_100.pt\n"
     ]
    }
   ],
   "source": [
    "save_dataset(dataset, \"../data/QM_100.pt\")"
   ]
  }
 ],
 "metadata": {
  "kernelspec": {
   "display_name": "torch_geom_2",
   "language": "python",
   "name": "python3"
  },
  "language_info": {
   "codemirror_mode": {
    "name": "ipython",
    "version": 3
   },
   "file_extension": ".py",
   "mimetype": "text/x-python",
   "name": "python",
   "nbconvert_exporter": "python",
   "pygments_lexer": "ipython3",
   "version": "3.9.7"
  }
 },
 "nbformat": 4,
 "nbformat_minor": 2
}
