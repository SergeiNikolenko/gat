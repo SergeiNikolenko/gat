{
 "cells": [
  {
   "cell_type": "markdown",
   "metadata": {},
   "source": [
    "# Preprocessing"
   ]
  },
  {
   "cell_type": "code",
   "execution_count": 16,
   "metadata": {},
   "outputs": [],
   "source": [
    "from typing import List, Union\n",
    "import pandas as pd\n",
    "import ast\n",
    "\n",
    "from rdkit import Chem\n",
    "\n",
    "import torch\n",
    "from torch_geometric.data import Data, Dataset\n",
    "\n",
    "from tqdm import tqdm\n",
    "\n",
    "\n",
    "from joblib import Parallel, delayed\n"
   ]
  },
  {
   "cell_type": "code",
   "execution_count": 17,
   "metadata": {},
   "outputs": [],
   "source": [
    "def convert_string_to_list(string):\n",
    "    try:\n",
    "        return ast.literal_eval(string)\n",
    "    except ValueError:\n",
    "        return []\n",
    "    \n",
    "data = pd.read_csv('../data/QM_137k.csv', converters={'CDD': convert_string_to_list})\n",
    "\n",
    "data = data.head(10000)"
   ]
  },
  {
   "cell_type": "code",
   "execution_count": 18,
   "metadata": {},
   "outputs": [],
   "source": [
    "class FeaturizationParameters:\n",
    "    def __init__(self):\n",
    "        self.max_atomic_num = 100\n",
    "        self.atom_features = {\n",
    "            'atomic_num': list(range(self.max_atomic_num)),\n",
    "            'degree': [0, 1, 2, 3, 4, 5],\n",
    "            'formal_charge': [-1, -2, 1, 2, 0],\n",
    "            'chiral_tag': [0, 1, 2, 3],\n",
    "            'num_Hs': [0, 1, 2, 3, 4],\n",
    "            'hybridization': [\n",
    "                Chem.rdchem.HybridizationType.SP,\n",
    "                Chem.rdchem.HybridizationType.SP2,\n",
    "                Chem.rdchem.HybridizationType.SP3,\n",
    "                Chem.rdchem.HybridizationType.SP3D,\n",
    "                Chem.rdchem.HybridizationType.SP3D2\n",
    "            ],\n",
    "        }\n",
    "        self.atom_fdim = sum(len(choices) + 1 for choices in self.atom_features.values()) + 2\n",
    "\n",
    "def onek_encoding_unk(value, choices):\n",
    "    encoding = [0] * (len(choices) + 1)\n",
    "    index = choices.index(value) if value in choices else -1\n",
    "    encoding[index] = 1\n",
    "    return encoding\n",
    "\n",
    "def atom_features(atom, params):\n",
    "    features = onek_encoding_unk(atom.GetAtomicNum() - 1, params.atom_features['atomic_num']) + \\\n",
    "               onek_encoding_unk(atom.GetTotalDegree(), params.atom_features['degree']) + \\\n",
    "               onek_encoding_unk(atom.GetFormalCharge(), params.atom_features['formal_charge']) + \\\n",
    "               onek_encoding_unk(int(atom.GetChiralTag()), params.atom_features['chiral_tag']) + \\\n",
    "               onek_encoding_unk(int(atom.GetTotalNumHs()), params.atom_features['num_Hs']) + \\\n",
    "               onek_encoding_unk(int(atom.GetHybridization()), params.atom_features['hybridization']) + \\\n",
    "               [1 if atom.GetIsAromatic() else 0] + \\\n",
    "               [atom.GetMass() * 0.01]  # scaled to about the same range as other features\n",
    "    return features\n",
    "\n",
    "PARAMS = {\n",
    "    'BOND_FDIM': 10\n",
    "}\n",
    "\n",
    "def bond_features(bond: Chem.rdchem.Bond) -> List[Union[bool, int, float]]:\n",
    "    if bond is None:\n",
    "        fbond = [1] + [0] * (PARAMS['BOND_FDIM'] - 1)\n",
    "    else:\n",
    "        bt = bond.GetBondType()\n",
    "        fbond = [\n",
    "            0,  # bond is not None\n",
    "            bt == Chem.rdchem.BondType.SINGLE,\n",
    "            bt == Chem.rdchem.BondType.DOUBLE,\n",
    "            bt == Chem.rdchem.BondType.TRIPLE,\n",
    "            bt == Chem.rdchem.BondType.AROMATIC,\n",
    "            bond.GetIsConjugated() if bt is not None else 0,\n",
    "            bond.IsInRing() if bt is not None else 0\n",
    "        ]\n",
    "        fbond += onek_encoding_unk(int(bond.GetStereo()), list(range(6)))\n",
    "    return fbond\n",
    "\n",
    "\n",
    "class MoleculeData:\n",
    "    def __init__(self, smiles, target, addHs=True):\n",
    "        self.smiles = smiles\n",
    "        self.target = torch.tensor(target, dtype=torch.float)\n",
    "        self.mol = Chem.MolFromSmiles(smiles)\n",
    "        if addHs:\n",
    "            self.mol = Chem.AddHs(self.mol)\n",
    "        self.params = FeaturizationParameters()\n",
    "        self.edge_index, self.edge_attr = self.construct_graph()\n",
    "\n",
    "    def construct_graph(self):\n",
    "        edge_index = []\n",
    "        edge_attr = []\n",
    "        for bond in self.mol.GetBonds():\n",
    "            start, end = bond.GetBeginAtomIdx(), bond.GetEndAtomIdx()\n",
    "            edge_index.extend([[start, end], [end, start]])\n",
    "            edge_attr.extend([bond_features(bond), bond_features(bond)])  # Добавляем признаки для обеих направлений связи\n",
    "        return torch.tensor(edge_index).t().contiguous(), torch.tensor(edge_attr, dtype=torch.float)\n",
    "\n",
    "    def generate_atom_features(self):\n",
    "        features = []\n",
    "        for atom in self.mol.GetAtoms():\n",
    "            features.append(atom_features(atom, self.params))\n",
    "        return torch.tensor(features, dtype=torch.float)\n",
    "\n",
    "class MoleculeDataset(Dataset):\n",
    "    def __init__(self, dataframe, smiles_column='smiles', target_column='target', addHs=True, n_jobs=-1):\n",
    "        super(MoleculeDataset, self).__init__()\n",
    "        \n",
    "        self.data_list = Parallel(n_jobs=n_jobs)(\n",
    "            delayed(lambda row: MoleculeData(row[smiles_column], row[target_column], addHs))(\n",
    "                row) for _, row in tqdm(dataframe.iterrows(), total=dataframe.shape[0]))\n",
    "\n",
    "    def len(self): \n",
    "        return len(self.data_list)\n",
    "\n",
    "    def get(self, idx):\n",
    "        molecule_data = self.data_list[idx]\n",
    "        x = molecule_data.generate_atom_features()\n",
    "        edge_index = molecule_data.edge_index\n",
    "        edge_attr = molecule_data.edge_attr\n",
    "        y = molecule_data.target\n",
    "        \n",
    "        data = Data(x=x, edge_index=edge_index, edge_attr=edge_attr, y=y)\n",
    "        data.smiles = molecule_data.smiles\n",
    "        \n",
    "        return data\n"
   ]
  },
  {
   "cell_type": "code",
   "execution_count": 19,
   "metadata": {},
   "outputs": [
    {
     "name": "stderr",
     "output_type": "stream",
     "text": [
      "100%|██████████| 10000/10000 [03:33<00:00, 46.74it/s]\n"
     ]
    }
   ],
   "source": [
    "molecule_dataset = MoleculeDataset(data, smiles_column='smiles', target_column='CDD')"
   ]
  },
  {
   "cell_type": "code",
   "execution_count": 20,
   "metadata": {},
   "outputs": [
    {
     "data": {
      "text/plain": [
       "Data(x=[26, 133], edge_index=[2, 54], edge_attr=[54, 14], y=[26], smiles='C=C(C)[C@H]1C[C@@H]2OO[C@H]1C=C2C')"
      ]
     },
     "execution_count": 20,
     "metadata": {},
     "output_type": "execute_result"
    }
   ],
   "source": [
    "datapoint = molecule_dataset[2]\n",
    "datapoint"
   ]
  },
  {
   "cell_type": "code",
   "execution_count": 21,
   "metadata": {},
   "outputs": [
    {
     "name": "stdout",
     "output_type": "stream",
     "text": [
      "Shape of atom features (x): torch.Size([26, 133])\n",
      "Shape of edge index: torch.Size([2, 54])\n",
      "Shape of edge attr: torch.Size([54, 14])\n",
      "Target value (y): tensor([-0.3516, -0.0627, -0.1982, -0.0723, -0.1465,  0.0553, -0.4408, -0.4395,\n",
      "         0.0524, -0.2450, -0.1293, -0.1994, -0.0198,  0.0029,  0.0258,  0.0208,\n",
      "         0.0184,  0.0178, -0.0059,  0.0097,  0.0272,  0.0341, -0.0099,  0.0146,\n",
      "         0.0269,  0.0153])\n",
      "Shape of target value: torch.Size([26])\n",
      "Number of atoms in the molecule: 26\n",
      "Number of bonds in the molecule: 27\n"
     ]
    }
   ],
   "source": [
    "print(f\"Shape of atom features (x): {datapoint.x.shape}\")\n",
    "\n",
    "# Вывод размерности edge_index, которая указывает связи между атомами\n",
    "print(f\"Shape of edge index: {datapoint.edge_index.shape}\")\n",
    "print(f\"Shape of edge attr: {datapoint.edge_attr.shape}\")\n",
    "\n",
    "# Вывод размерности и содержания целевых значений\n",
    "print(f\"Target value (y): {datapoint.y}\")\n",
    "print(f\"Shape of target value: {datapoint.y.shape}\")\n",
    "\n",
    "# Вывод количества атомов в молекуле, что соответствует размеру второго измерения атомных фичей\n",
    "print(f\"Number of atoms in the molecule: {datapoint.x.size(0)}\")\n",
    "\n",
    "# Вывод количества связей в молекуле, что соответствует половине размера второго измерения edge_index,\n",
    "# так как каждая связь представлена дважды (для обоих направлений в неориентированном графе)\n",
    "print(f\"Number of bonds in the molecule: {datapoint.edge_index.size(1) // 2}\")"
   ]
  },
  {
   "cell_type": "code",
   "execution_count": 22,
   "metadata": {},
   "outputs": [],
   "source": [
    "torch.save(molecule_dataset, '../data/QM_10k.pt')\n"
   ]
  }
 ],
 "metadata": {
  "kernelspec": {
   "display_name": "chemprop-atom-bond",
   "language": "python",
   "name": "chemprop-atom-bond"
  },
  "language_info": {
   "codemirror_mode": {
    "name": "ipython",
    "version": 3
   },
   "file_extension": ".py",
   "mimetype": "text/x-python",
   "name": "python",
   "nbconvert_exporter": "python",
   "pygments_lexer": "ipython3",
   "version": "3.10.13"
  }
 },
 "nbformat": 4,
 "nbformat_minor": 2
}
