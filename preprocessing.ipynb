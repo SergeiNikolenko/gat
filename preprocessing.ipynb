{
 "cells": [
  {
   "cell_type": "markdown",
   "metadata": {},
   "source": [
    "# Preprocessing"
   ]
  },
  {
   "cell_type": "code",
   "execution_count": null,
   "metadata": {
    "execution": {
     "iopub.execute_input": "2024-03-15T12:16:28.861082Z",
     "iopub.status.busy": "2024-03-15T12:16:28.860833Z",
     "iopub.status.idle": "2024-03-15T12:16:31.677465Z",
     "shell.execute_reply": "2024-03-15T12:16:31.676398Z"
    }
   },
   "outputs": [],
   "source": [
    "import pandas as pd\n",
    "import torch\n",
    "from utils.prepare import MoleculeDataset, convert_string_to_list"
   ]
  },
  {
   "cell_type": "code",
   "execution_count": null,
   "metadata": {
    "execution": {
     "iopub.execute_input": "2024-03-15T12:16:31.681504Z",
     "iopub.status.busy": "2024-03-15T12:16:31.681296Z",
     "iopub.status.idle": "2024-03-15T12:16:57.940838Z",
     "shell.execute_reply": "2024-03-15T12:16:57.939949Z"
    }
   },
   "outputs": [],
   "source": [
    "data = pd.read_csv('../data/QM_137k.csv', converters={'CDD': convert_string_to_list})"
   ]
  },
  {
   "cell_type": "code",
   "execution_count": null,
   "metadata": {
    "execution": {
     "iopub.execute_input": "2024-03-15T12:16:57.944498Z",
     "iopub.status.busy": "2024-03-15T12:16:57.944280Z",
     "iopub.status.idle": "2024-03-15T12:17:02.587872Z",
     "shell.execute_reply": "2024-03-15T12:17:02.587106Z"
    }
   },
   "outputs": [],
   "source": [
    "from skipatom import SkipAtomInducedModel\n",
    "\n",
    "skipatom_model = SkipAtomInducedModel.load(\n",
    "    \"../skipatom/data/mp_2020_10_09.dim200.model\", \n",
    "    \"../skipatom/data/mp_2020_10_09.training.data\", \n",
    "    min_count=2e7, top_n=5\n",
    ")\n"
   ]
  },
  {
   "cell_type": "code",
   "execution_count": null,
   "metadata": {
    "execution": {
     "iopub.execute_input": "2024-03-15T12:17:02.626942Z",
     "iopub.status.busy": "2024-03-15T12:17:02.626748Z",
     "iopub.status.idle": "2024-03-15T12:37:19.141013Z",
     "shell.execute_reply": "2024-03-15T12:37:19.140142Z"
    }
   },
   "outputs": [],
   "source": [
    "dataset = MoleculeDataset(data, smiles_column='smiles', target_column='CDD', skipatom_model=skipatom_model)"
   ]
  },
  {
   "cell_type": "code",
   "execution_count": null,
   "metadata": {
    "execution": {
     "iopub.execute_input": "2024-03-15T12:37:19.145508Z",
     "iopub.status.busy": "2024-03-15T12:37:19.145261Z",
     "iopub.status.idle": "2024-03-15T12:37:19.160333Z",
     "shell.execute_reply": "2024-03-15T12:37:19.159729Z"
    }
   },
   "outputs": [],
   "source": [
    "datapoint = dataset[0]\n",
    "datapoint"
   ]
  },
  {
   "cell_type": "code",
   "execution_count": null,
   "metadata": {
    "execution": {
     "iopub.execute_input": "2024-03-15T12:37:19.163486Z",
     "iopub.status.busy": "2024-03-15T12:37:19.163270Z",
     "iopub.status.idle": "2024-03-15T12:37:19.181313Z",
     "shell.execute_reply": "2024-03-15T12:37:19.180562Z"
    }
   },
   "outputs": [],
   "source": [
    "print(f\"Shape of atom features (x): {datapoint.x.shape}\")\n",
    "print(f\"Shape of edge index: {datapoint.edge_index.shape}\")\n",
    "print(f\"Shape of edge attr: {datapoint.edge_attr.shape}\")\n",
    "print(f\"Target value (y): {datapoint.y}\")\n",
    "print(f\"Shape of target value: {datapoint.y.shape}\")\n",
    "print(f\"Number of atoms in the molecule: {datapoint.x.size(0)}\")\n",
    "print(f\"Number of bonds in the molecule: {datapoint.edge_index.size(1) // 2}\")"
   ]
  },
  {
   "cell_type": "code",
   "execution_count": null,
   "metadata": {
    "execution": {
     "iopub.execute_input": "2024-03-15T12:37:19.184355Z",
     "iopub.status.busy": "2024-03-15T12:37:19.184082Z",
     "iopub.status.idle": "2024-03-15T12:41:14.958375Z",
     "shell.execute_reply": "2024-03-15T12:41:14.957311Z"
    }
   },
   "outputs": [],
   "source": [
    "torch.save(dataset, \"../data/QM_137k_only200.pt\")"
   ]
  }
 ],
 "metadata": {
  "kernelspec": {
   "display_name": "chemprop-atom-bond",
   "language": "python",
   "name": "chemprop-atom-bond"
  },
  "language_info": {
   "codemirror_mode": {
    "name": "ipython",
    "version": 3
   },
   "file_extension": ".py",
   "mimetype": "text/x-python",
   "name": "python",
   "nbconvert_exporter": "python",
   "pygments_lexer": "ipython3",
   "version": "3.10.13"
  }
 },
 "nbformat": 4,
 "nbformat_minor": 2
}
