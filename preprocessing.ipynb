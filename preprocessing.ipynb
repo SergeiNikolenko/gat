{
 "cells": [
  {
   "cell_type": "markdown",
   "metadata": {},
   "source": [
    "# Preprocessing"
   ]
  },
  {
   "cell_type": "code",
   "execution_count": 30,
   "metadata": {},
   "outputs": [],
   "source": [
    "import pandas as pd\n",
    "\n",
    "import os\n",
    "import ast\n",
    "import numpy as np\n",
    "\n",
    "from typing import List, Union\n",
    "\n",
    "from rdkit import Chem\n",
    "import torch\n",
    "from torch_geometric.data import Data, Dataset\n",
    "from tqdm import tqdm\n",
    "from joblib import Parallel, delayed\n",
    "\n",
    "from utils.prepare import MoleculeDataset, convert_string_to_list, save_dataset, load_dataset"
   ]
  },
  {
   "cell_type": "code",
   "execution_count": 31,
   "metadata": {},
   "outputs": [],
   "source": [
    "data = pd.read_csv('../data/QM_137k.csv', converters={'CDD': convert_string_to_list})"
   ]
  },
  {
   "cell_type": "code",
   "execution_count": 32,
   "metadata": {},
   "outputs": [],
   "source": [
    "from skipatom import SkipAtomInducedModel\n",
    "\n",
    "skipatom_model = SkipAtomInducedModel.load(\n",
    "    \"../skipatom/data/mp_2020_10_09.dim200.model\", \n",
    "    \"../skipatom/data/mp_2020_10_09.training.data\", \n",
    "    min_count=2e7, top_n=5\n",
    ")"
   ]
  },
  {
   "cell_type": "code",
   "execution_count": 33,
   "metadata": {},
   "outputs": [],
   "source": [
    "class FeaturizationParameters:\n",
    "    def __init__(self):\n",
    "        self.max_atomic_num = 100\n",
    "        self.atom_features = {\n",
    "            'atomic_num': list(range(self.max_atomic_num)),\n",
    "            'degree': [0, 1, 2, 3, 4, 5],\n",
    "            'formal_charge': [-1, -2, 1, 2, 0],\n",
    "            'chiral_tag': [0, 1, 2, 3],\n",
    "            'num_Hs': [0, 1, 2, 3, 4],\n",
    "            'hybridization': [\n",
    "                Chem.rdchem.HybridizationType.SP,\n",
    "                Chem.rdchem.HybridizationType.SP2,\n",
    "                Chem.rdchem.HybridizationType.SP3,\n",
    "                Chem.rdchem.HybridizationType.SP3D,\n",
    "                Chem.rdchem.HybridizationType.SP3D2\n",
    "            ],\n",
    "        }\n",
    "        self.atom_fdim = sum(len(choices) + 1 for choices in self.atom_features.values()) + 2\n",
    "\n",
    "def onek_encoding_unk(value, choices):\n",
    "    encoding = [0] * (len(choices) + 1)\n",
    "    index = choices.index(value) if value in choices else -1\n",
    "    encoding[index] = 1\n",
    "    return encoding\n",
    "\n",
    "\n",
    "def get_skipatom_vector(atom_symbol, skipatom_model):\n",
    "    if atom_symbol in skipatom_model.dictionary:\n",
    "        return skipatom_model.vectors[skipatom_model.dictionary[atom_symbol]].tolist()\n",
    "    else:\n",
    "        return [0] * skipatom_model.vectors.shape[1]\n",
    "\n",
    "\n",
    "def atom_features(atom, params, skipatom_model=None):\n",
    "    # Существующие признаки атома\n",
    "    features = onek_encoding_unk(atom.GetAtomicNum() - 1, params.atom_features['atomic_num']) + \\\n",
    "               onek_encoding_unk(atom.GetTotalDegree(), params.atom_features['degree']) + \\\n",
    "               onek_encoding_unk(atom.GetFormalCharge(), params.atom_features['formal_charge']) + \\\n",
    "               onek_encoding_unk(int(atom.GetChiralTag()), params.atom_features['chiral_tag']) + \\\n",
    "               onek_encoding_unk(int(atom.GetTotalNumHs()), params.atom_features['num_Hs']) + \\\n",
    "               onek_encoding_unk(int(atom.GetHybridization()), params.atom_features['hybridization']) + \\\n",
    "               [1 if atom.GetIsAromatic() else 0] + \\\n",
    "               [atom.GetMass() * 0.01]  # Масштабирование массы\n",
    "\n",
    "    # Признаки SkipAtom\n",
    "    if skipatom_model is not None:\n",
    "        atom_symbol = atom.GetSymbol()\n",
    "        skipatom_features = get_skipatom_vector(atom_symbol, skipatom_model)\n",
    "        features += skipatom_features\n",
    "\n",
    "    return features\n",
    "\n",
    "PARAMS = {\n",
    "    'BOND_FDIM': 10\n",
    "}\n",
    "\n",
    "def bond_features(bond: Chem.rdchem.Bond, skipatom_model=None) -> List[Union[bool, int, float, np.ndarray]]:\n",
    "    if bond is None:\n",
    "        fbond = [1] + [0] * (PARAMS['BOND_FDIM'] - 1)\n",
    "    else:\n",
    "        bt = bond.GetBondType()\n",
    "        fbond = [\n",
    "            0,  # bond is not None\n",
    "            bt == Chem.rdchem.BondType.SINGLE,\n",
    "            bt == Chem.rdchem.BondType.DOUBLE,\n",
    "            bt == Chem.rdchem.BondType.TRIPLE,\n",
    "            bt == Chem.rdchem.BondType.AROMATIC,\n",
    "            bond.GetIsConjugated() if bt is not None else 0,\n",
    "            bond.IsInRing() if bt is not None else 0\n",
    "        ]\n",
    "        fbond += onek_encoding_unk(int(bond.GetStereo()), list(range(6)))\n",
    "\n",
    "    # Признаки SkipAtom\n",
    "    if skipatom_model is not None:\n",
    "        start_atom_symbol = bond.GetBeginAtom().GetSymbol()\n",
    "        end_atom_symbol = bond.GetEndAtom().GetSymbol()\n",
    "\n",
    "        start_atom_vector = get_skipatom_vector(start_atom_symbol, skipatom_model)\n",
    "        end_atom_vector = get_skipatom_vector(end_atom_symbol, skipatom_model)\n",
    "\n",
    "        fbond += start_atom_vector + end_atom_vector\n",
    "    \n",
    "    return fbond\n",
    "\n",
    "\n",
    "\n",
    "class MoleculeData:\n",
    "    def __init__(self, smiles, target, addHs=True, skipatom_model=None):\n",
    "        self.smiles = smiles\n",
    "        self.skipatom_model = skipatom_model\n",
    "        self.target = torch.tensor(target, dtype=torch.float)\n",
    "        self.mol = Chem.MolFromSmiles(smiles)\n",
    "        if addHs:\n",
    "            self.mol = Chem.AddHs(self.mol)\n",
    "        self.params = FeaturizationParameters()\n",
    "        self.skipatom_model = skipatom_model\n",
    "        self.edge_index, self.edge_attr = self.construct_graph()\n",
    "\n",
    "    def construct_graph(self):\n",
    "        edge_index = []\n",
    "        edge_attr = []\n",
    "        for bond in self.mol.GetBonds():\n",
    "            start, end = bond.GetBeginAtomIdx(), bond.GetEndAtomIdx()\n",
    "            edge_index.extend([[start, end], [end, start]])\n",
    "            edge_attr.extend([bond_features(bond, self.skipatom_model), bond_features(bond, self.skipatom_model)])\n",
    "        return torch.tensor(edge_index).t().contiguous(), torch.tensor(edge_attr, dtype=torch.float)\n",
    "\n",
    "    def generate_atom_features(self):\n",
    "        features = []\n",
    "        for atom in self.mol.GetAtoms():\n",
    "            features.append(atom_features(atom, self.params, self.skipatom_model))\n",
    "        return torch.tensor(features, dtype=torch.float)\n",
    "\n",
    "class MoleculeDataset(Dataset):\n",
    "    def __init__(self, dataframe, smiles_column='smiles', target_column='target', addHs=True, n_jobs=-1, skipatom_model=None):\n",
    "        super(MoleculeDataset, self).__init__()\n",
    "        \n",
    "        self.data_list = Parallel(n_jobs=n_jobs)(\n",
    "        delayed(lambda row: MoleculeData(row[smiles_column], row[target_column], addHs, skipatom_model=skipatom_model if skipatom_model is not None else None))(\n",
    "            row) for _, row in tqdm(dataframe.iterrows(), total=dataframe.shape[0]))\n",
    "\n",
    "\n",
    "    def len(self): \n",
    "        return len(self.data_list)\n",
    "\n",
    "    def get(self, idx):\n",
    "        molecule_data = self.data_list[idx]\n",
    "        x = molecule_data.generate_atom_features()\n",
    "        edge_index = molecule_data.edge_index\n",
    "        edge_attr = molecule_data.edge_attr\n",
    "        y = molecule_data.target\n",
    "        \n",
    "        data = Data(x=x, edge_index=edge_index, edge_attr=edge_attr, y=y)\n",
    "        data.smiles = molecule_data.smiles\n",
    "        \n",
    "        return data\n",
    "\n",
    "\n",
    "def save_dataset(dataset, file_path):\n",
    "    torch.save(dataset, file_path)\n",
    "    print(f\"Датасет успешно сохранен в {file_path}\")\n",
    "\n",
    "def load_dataset(file_path):\n",
    "    dataset = torch.load(file_path)\n",
    "\n",
    "    print(dataset)\n",
    "    print(dataset[0])\n",
    "    \n",
    "    print(f\"Shape of atom features (x): {dataset[0].x.shape}\")\n",
    "    print(f\"Shape of edge index: {dataset[0].edge_index.shape}\")\n",
    "    print(f\"Shape of edge attr: {dataset[0].edge_attr.shape}\")\n",
    "    print(f\"Target value (y): {dataset[0].y}\")\n",
    "    print(f\"Shape of target value: {dataset[0].y.shape}\")\n",
    "    print(f\"Number of atoms in the molecule: {dataset[0].x.size(0)}\")\n",
    "    print(f\"Number of bonds in the molecule: {dataset[0].edge_index.size(1) // 2}\") \n",
    "\n",
    "    return dataset\n",
    "\n",
    "def convert_string_to_list(string):\n",
    "    try:\n",
    "        return ast.literal_eval(string)\n",
    "    except ValueError:\n",
    "        return []\n"
   ]
  },
  {
   "cell_type": "code",
   "execution_count": 34,
   "metadata": {},
   "outputs": [
    {
     "name": "stderr",
     "output_type": "stream",
     "text": []
    },
    {
     "name": "stderr",
     "output_type": "stream",
     "text": [
      "100%|██████████| 136219/136219 [16:53<00:00, 134.43it/s]\n"
     ]
    }
   ],
   "source": [
    "dataset = MoleculeDataset(data, smiles_column='smiles', target_column='CDD', skipatom_model=skipatom_model)"
   ]
  },
  {
   "cell_type": "code",
   "execution_count": 35,
   "metadata": {},
   "outputs": [
    {
     "data": {
      "text/plain": [
       "Data(x=[31, 333], edge_index=[2, 64], edge_attr=[64, 414], y=[31], smiles='CNC(=S)N/N=C/c1c(O)ccc2ccccc12')"
      ]
     },
     "execution_count": 35,
     "metadata": {},
     "output_type": "execute_result"
    }
   ],
   "source": [
    "datapoint = dataset[0]\n",
    "datapoint"
   ]
  },
  {
   "cell_type": "code",
   "execution_count": 36,
   "metadata": {},
   "outputs": [
    {
     "name": "stdout",
     "output_type": "stream",
     "text": [
      "Shape of atom features (x): torch.Size([31, 333])\n",
      "Shape of edge index: torch.Size([2, 64])\n",
      "Shape of edge attr: torch.Size([64, 414])\n",
      "Target value (y): tensor([-0.0756, -0.1880,  0.1527, -0.9194, -0.1204, -0.2333, -0.0461, -0.1620,\n",
      "         0.1055, -0.4826, -0.1695, -0.1810, -0.0448, -0.1405, -0.1686, -0.1502,\n",
      "        -0.1488, -0.0190,  0.0474,  0.0435,  0.0400,  0.2173,  0.2133,  0.0341,\n",
      "         0.1984,  0.0413,  0.0254,  0.0345,  0.0283,  0.0312,  0.0369])\n",
      "Shape of target value: torch.Size([31])\n",
      "Number of atoms in the molecule: 31\n",
      "Number of bonds in the molecule: 32\n"
     ]
    }
   ],
   "source": [
    "print(f\"Shape of atom features (x): {datapoint.x.shape}\")\n",
    "print(f\"Shape of edge index: {datapoint.edge_index.shape}\")\n",
    "print(f\"Shape of edge attr: {datapoint.edge_attr.shape}\")\n",
    "print(f\"Target value (y): {datapoint.y}\")\n",
    "print(f\"Shape of target value: {datapoint.y.shape}\")\n",
    "print(f\"Number of atoms in the molecule: {datapoint.x.size(0)}\")\n",
    "print(f\"Number of bonds in the molecule: {datapoint.edge_index.size(1) // 2}\")"
   ]
  },
  {
   "cell_type": "code",
   "execution_count": 37,
   "metadata": {},
   "outputs": [],
   "source": [
    "save_dataset(dataset, \"../data/QM_137k_skip200.pt\")"
   ]
  }
 ],
 "metadata": {
  "kernelspec": {
   "display_name": "torch_geom_2",
   "language": "python",
   "name": "python3"
  },
  "language_info": {
   "codemirror_mode": {
    "name": "ipython",
    "version": 3
   },
   "file_extension": ".py",
   "mimetype": "text/x-python",
   "name": "python",
   "nbconvert_exporter": "python",
   "pygments_lexer": "ipython3",
   "version": "3.9.7"
  }
 },
 "nbformat": 4,
 "nbformat_minor": 2
}
