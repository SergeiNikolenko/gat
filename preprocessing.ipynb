{
 "cells": [
  {
   "cell_type": "markdown",
   "metadata": {},
   "source": [
    "# Preprocessing"
   ]
  },
  {
   "cell_type": "code",
   "execution_count": 26,
   "metadata": {
    "execution": {
     "iopub.execute_input": "2024-03-15T12:16:28.861082Z",
     "iopub.status.busy": "2024-03-15T12:16:28.860833Z",
     "iopub.status.idle": "2024-03-15T12:16:31.677465Z",
     "shell.execute_reply": "2024-03-15T12:16:31.676398Z"
    }
   },
   "outputs": [],
   "source": [
    "import pandas as pd\n",
    "import torch\n",
    "from utils.prepare import MoleculeDataset, convert_string_to_list"
   ]
  },
  {
   "cell_type": "code",
   "execution_count": 27,
   "metadata": {
    "execution": {
     "iopub.execute_input": "2024-03-15T12:16:31.681504Z",
     "iopub.status.busy": "2024-03-15T12:16:31.681296Z",
     "iopub.status.idle": "2024-03-15T12:16:57.940838Z",
     "shell.execute_reply": "2024-03-15T12:16:57.939949Z"
    }
   },
   "outputs": [],
   "source": [
    "data = pd.read_csv('../data/QM_100.csv', converters={'CDD': convert_string_to_list})\n",
    "data = data.head(100)"
   ]
  },
  {
   "cell_type": "code",
   "execution_count": 28,
   "metadata": {
    "execution": {
     "iopub.execute_input": "2024-03-15T12:16:57.944498Z",
     "iopub.status.busy": "2024-03-15T12:16:57.944280Z",
     "iopub.status.idle": "2024-03-15T12:17:02.587872Z",
     "shell.execute_reply": "2024-03-15T12:17:02.587106Z"
    }
   },
   "outputs": [],
   "source": [
    "from skipatom import SkipAtomInducedModel\n",
    "\n",
    "skipatom_model = SkipAtomInducedModel.load(\n",
    "    \"../skipatom/data/mp_2020_10_09.dim200.model\", \n",
    "    \"../skipatom/data/mp_2020_10_09.training.data\", \n",
    "    min_count=2e7, top_n=5\n",
    ")\n",
    "# кирилл ваня пикулин"
   ]
  },
  {
   "cell_type": "code",
   "execution_count": 29,
   "metadata": {
    "execution": {
     "iopub.execute_input": "2024-03-15T12:17:02.626942Z",
     "iopub.status.busy": "2024-03-15T12:17:02.626748Z",
     "iopub.status.idle": "2024-03-15T12:37:19.141013Z",
     "shell.execute_reply": "2024-03-15T12:37:19.140142Z"
    }
   },
   "outputs": [
    {
     "name": "stderr",
     "output_type": "stream",
     "text": [
      "100%|██████████| 100/100 [00:58<00:00,  1.72it/s]\n"
     ]
    }
   ],
   "source": [
    "dataset = MoleculeDataset(data, smiles_column='smiles', target_column='CDD', skipatom_model=skipatom_model)"
   ]
  },
  {
   "cell_type": "code",
   "execution_count": 30,
   "metadata": {
    "execution": {
     "iopub.execute_input": "2024-03-15T12:37:19.145508Z",
     "iopub.status.busy": "2024-03-15T12:37:19.145261Z",
     "iopub.status.idle": "2024-03-15T12:37:19.160333Z",
     "shell.execute_reply": "2024-03-15T12:37:19.159729Z"
    }
   },
   "outputs": [
    {
     "data": {
      "text/plain": [
       "Data(x=[31, 333], edge_index=[2, 64], edge_attr=[64, 414], y=[31], smiles='CNC(=S)N/N=C/c1c(O)ccc2ccccc12')"
      ]
     },
     "execution_count": 30,
     "metadata": {},
     "output_type": "execute_result"
    }
   ],
   "source": [
    "datapoint = dataset[0]\n",
    "datapoint"
   ]
  },
  {
   "cell_type": "code",
   "execution_count": 31,
   "metadata": {
    "execution": {
     "iopub.execute_input": "2024-03-15T12:37:19.163486Z",
     "iopub.status.busy": "2024-03-15T12:37:19.163270Z",
     "iopub.status.idle": "2024-03-15T12:37:19.181313Z",
     "shell.execute_reply": "2024-03-15T12:37:19.180562Z"
    }
   },
   "outputs": [
    {
     "name": "stdout",
     "output_type": "stream",
     "text": [
      "Shape of atom features (x): torch.Size([31, 333])\n",
      "Shape of edge index: torch.Size([2, 64])\n",
      "Shape of edge attr: torch.Size([64, 414])\n",
      "Target value (y): tensor([-0.0756, -0.1880,  0.1527, -0.9194, -0.1204, -0.2333, -0.0461, -0.1620,\n",
      "         0.1055, -0.4826, -0.1695, -0.1810, -0.0448, -0.1405, -0.1686, -0.1502,\n",
      "        -0.1488, -0.0190,  0.0474,  0.0435,  0.0400,  0.2173,  0.2133,  0.0341,\n",
      "         0.1984,  0.0413,  0.0254,  0.0345,  0.0283,  0.0312,  0.0369])\n",
      "Shape of target value: torch.Size([31])\n",
      "Number of atoms in the molecule: 31\n",
      "Number of bonds in the molecule: 32\n"
     ]
    }
   ],
   "source": [
    "print(f\"Shape of atom features (x): {datapoint.x.shape}\")\n",
    "print(f\"Shape of edge index: {datapoint.edge_index.shape}\")\n",
    "print(f\"Shape of edge attr: {datapoint.edge_attr.shape}\")\n",
    "print(f\"Target value (y): {datapoint.y}\")\n",
    "print(f\"Shape of target value: {datapoint.y.shape}\")\n",
    "print(f\"Number of atoms in the molecule: {datapoint.x.size(0)}\")\n",
    "print(f\"Number of bonds in the molecule: {datapoint.edge_index.size(1) // 2}\")"
   ]
  },
  {
   "cell_type": "code",
   "execution_count": 32,
   "metadata": {
    "execution": {
     "iopub.execute_input": "2024-03-15T12:37:19.184355Z",
     "iopub.status.busy": "2024-03-15T12:37:19.184082Z",
     "iopub.status.idle": "2024-03-15T12:41:14.958375Z",
     "shell.execute_reply": "2024-03-15T12:41:14.957311Z"
    }
   },
   "outputs": [],
   "source": [
    "torch.save(dataset, \"../data/QM_100.pt\")"
   ]
  }
 ],
 "metadata": {
  "kernelspec": {
   "display_name": "torch_geom_2",
   "language": "python",
   "name": "python3"
  },
  "language_info": {
   "codemirror_mode": {
    "name": "ipython",
    "version": 3
   },
   "file_extension": ".py",
   "mimetype": "text/x-python",
   "name": "python",
   "nbconvert_exporter": "python",
   "pygments_lexer": "ipython3",
   "version": "3.9.7"
  }
 },
 "nbformat": 4,
 "nbformat_minor": 2
}
